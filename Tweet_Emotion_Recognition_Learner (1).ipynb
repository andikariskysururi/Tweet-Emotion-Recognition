{
  "nbformat": 4,
  "nbformat_minor": 0,
  "metadata": {
    "accelerator": "GPU",
    "colab": {
      "provenance": []
    },
    "kernelspec": {
      "display_name": "Python 3",
      "language": "python",
      "name": "python3"
    },
    "language_info": {
      "codemirror_mode": {
        "name": "ipython",
        "version": 3
      },
      "file_extension": ".py",
      "mimetype": "text/x-python",
      "name": "python",
      "nbconvert_exporter": "python",
      "pygments_lexer": "ipython3",
      "version": "3.8.3"
    },
    "widgets": {
      "application/vnd.jupyter.widget-state+json": {
        "17d2b0ae7e7846ec8eeff44ee8ac121a": {
          "model_module": "@jupyter-widgets/controls",
          "model_name": "HBoxModel",
          "model_module_version": "1.5.0",
          "state": {
            "_dom_classes": [],
            "_model_module": "@jupyter-widgets/controls",
            "_model_module_version": "1.5.0",
            "_model_name": "HBoxModel",
            "_view_count": null,
            "_view_module": "@jupyter-widgets/controls",
            "_view_module_version": "1.5.0",
            "_view_name": "HBoxView",
            "box_style": "",
            "children": [
              "IPY_MODEL_d79b64de8e0a4211aa1a921e60288687",
              "IPY_MODEL_8f8cc761ce164c4dbb7f689f4aa33fd9",
              "IPY_MODEL_3be471217a0d49aa9e959be7eb588110"
            ],
            "layout": "IPY_MODEL_d1703b12297f47d7894fe617e3a9eb22"
          }
        },
        "d79b64de8e0a4211aa1a921e60288687": {
          "model_module": "@jupyter-widgets/controls",
          "model_name": "HTMLModel",
          "model_module_version": "1.5.0",
          "state": {
            "_dom_classes": [],
            "_model_module": "@jupyter-widgets/controls",
            "_model_module_version": "1.5.0",
            "_model_name": "HTMLModel",
            "_view_count": null,
            "_view_module": "@jupyter-widgets/controls",
            "_view_module_version": "1.5.0",
            "_view_name": "HTMLView",
            "description": "",
            "description_tooltip": null,
            "layout": "IPY_MODEL_006809f4788041a9acb355381350674d",
            "placeholder": "​",
            "style": "IPY_MODEL_c0724dd4aede471ca8940c98b4ec838c",
            "value": "Downloading builder script: 100%"
          }
        },
        "8f8cc761ce164c4dbb7f689f4aa33fd9": {
          "model_module": "@jupyter-widgets/controls",
          "model_name": "FloatProgressModel",
          "model_module_version": "1.5.0",
          "state": {
            "_dom_classes": [],
            "_model_module": "@jupyter-widgets/controls",
            "_model_module_version": "1.5.0",
            "_model_name": "FloatProgressModel",
            "_view_count": null,
            "_view_module": "@jupyter-widgets/controls",
            "_view_module_version": "1.5.0",
            "_view_name": "ProgressView",
            "bar_style": "success",
            "description": "",
            "description_tooltip": null,
            "layout": "IPY_MODEL_cd9b2285b7544b41997b8640ee0ca9c2",
            "max": 3968,
            "min": 0,
            "orientation": "horizontal",
            "style": "IPY_MODEL_b0fab07b814746799a3294a2b5c139e7",
            "value": 3968
          }
        },
        "3be471217a0d49aa9e959be7eb588110": {
          "model_module": "@jupyter-widgets/controls",
          "model_name": "HTMLModel",
          "model_module_version": "1.5.0",
          "state": {
            "_dom_classes": [],
            "_model_module": "@jupyter-widgets/controls",
            "_model_module_version": "1.5.0",
            "_model_name": "HTMLModel",
            "_view_count": null,
            "_view_module": "@jupyter-widgets/controls",
            "_view_module_version": "1.5.0",
            "_view_name": "HTMLView",
            "description": "",
            "description_tooltip": null,
            "layout": "IPY_MODEL_7578eabfe3c643e58ae48e7d55400bb4",
            "placeholder": "​",
            "style": "IPY_MODEL_a45eac964e4747f2a93120e9078f4fbe",
            "value": " 3.97k/3.97k [00:00&lt;00:00, 200kB/s]"
          }
        },
        "d1703b12297f47d7894fe617e3a9eb22": {
          "model_module": "@jupyter-widgets/base",
          "model_name": "LayoutModel",
          "model_module_version": "1.2.0",
          "state": {
            "_model_module": "@jupyter-widgets/base",
            "_model_module_version": "1.2.0",
            "_model_name": "LayoutModel",
            "_view_count": null,
            "_view_module": "@jupyter-widgets/base",
            "_view_module_version": "1.2.0",
            "_view_name": "LayoutView",
            "align_content": null,
            "align_items": null,
            "align_self": null,
            "border": null,
            "bottom": null,
            "display": null,
            "flex": null,
            "flex_flow": null,
            "grid_area": null,
            "grid_auto_columns": null,
            "grid_auto_flow": null,
            "grid_auto_rows": null,
            "grid_column": null,
            "grid_gap": null,
            "grid_row": null,
            "grid_template_areas": null,
            "grid_template_columns": null,
            "grid_template_rows": null,
            "height": null,
            "justify_content": null,
            "justify_items": null,
            "left": null,
            "margin": null,
            "max_height": null,
            "max_width": null,
            "min_height": null,
            "min_width": null,
            "object_fit": null,
            "object_position": null,
            "order": null,
            "overflow": null,
            "overflow_x": null,
            "overflow_y": null,
            "padding": null,
            "right": null,
            "top": null,
            "visibility": null,
            "width": null
          }
        },
        "006809f4788041a9acb355381350674d": {
          "model_module": "@jupyter-widgets/base",
          "model_name": "LayoutModel",
          "model_module_version": "1.2.0",
          "state": {
            "_model_module": "@jupyter-widgets/base",
            "_model_module_version": "1.2.0",
            "_model_name": "LayoutModel",
            "_view_count": null,
            "_view_module": "@jupyter-widgets/base",
            "_view_module_version": "1.2.0",
            "_view_name": "LayoutView",
            "align_content": null,
            "align_items": null,
            "align_self": null,
            "border": null,
            "bottom": null,
            "display": null,
            "flex": null,
            "flex_flow": null,
            "grid_area": null,
            "grid_auto_columns": null,
            "grid_auto_flow": null,
            "grid_auto_rows": null,
            "grid_column": null,
            "grid_gap": null,
            "grid_row": null,
            "grid_template_areas": null,
            "grid_template_columns": null,
            "grid_template_rows": null,
            "height": null,
            "justify_content": null,
            "justify_items": null,
            "left": null,
            "margin": null,
            "max_height": null,
            "max_width": null,
            "min_height": null,
            "min_width": null,
            "object_fit": null,
            "object_position": null,
            "order": null,
            "overflow": null,
            "overflow_x": null,
            "overflow_y": null,
            "padding": null,
            "right": null,
            "top": null,
            "visibility": null,
            "width": null
          }
        },
        "c0724dd4aede471ca8940c98b4ec838c": {
          "model_module": "@jupyter-widgets/controls",
          "model_name": "DescriptionStyleModel",
          "model_module_version": "1.5.0",
          "state": {
            "_model_module": "@jupyter-widgets/controls",
            "_model_module_version": "1.5.0",
            "_model_name": "DescriptionStyleModel",
            "_view_count": null,
            "_view_module": "@jupyter-widgets/base",
            "_view_module_version": "1.2.0",
            "_view_name": "StyleView",
            "description_width": ""
          }
        },
        "cd9b2285b7544b41997b8640ee0ca9c2": {
          "model_module": "@jupyter-widgets/base",
          "model_name": "LayoutModel",
          "model_module_version": "1.2.0",
          "state": {
            "_model_module": "@jupyter-widgets/base",
            "_model_module_version": "1.2.0",
            "_model_name": "LayoutModel",
            "_view_count": null,
            "_view_module": "@jupyter-widgets/base",
            "_view_module_version": "1.2.0",
            "_view_name": "LayoutView",
            "align_content": null,
            "align_items": null,
            "align_self": null,
            "border": null,
            "bottom": null,
            "display": null,
            "flex": null,
            "flex_flow": null,
            "grid_area": null,
            "grid_auto_columns": null,
            "grid_auto_flow": null,
            "grid_auto_rows": null,
            "grid_column": null,
            "grid_gap": null,
            "grid_row": null,
            "grid_template_areas": null,
            "grid_template_columns": null,
            "grid_template_rows": null,
            "height": null,
            "justify_content": null,
            "justify_items": null,
            "left": null,
            "margin": null,
            "max_height": null,
            "max_width": null,
            "min_height": null,
            "min_width": null,
            "object_fit": null,
            "object_position": null,
            "order": null,
            "overflow": null,
            "overflow_x": null,
            "overflow_y": null,
            "padding": null,
            "right": null,
            "top": null,
            "visibility": null,
            "width": null
          }
        },
        "b0fab07b814746799a3294a2b5c139e7": {
          "model_module": "@jupyter-widgets/controls",
          "model_name": "ProgressStyleModel",
          "model_module_version": "1.5.0",
          "state": {
            "_model_module": "@jupyter-widgets/controls",
            "_model_module_version": "1.5.0",
            "_model_name": "ProgressStyleModel",
            "_view_count": null,
            "_view_module": "@jupyter-widgets/base",
            "_view_module_version": "1.2.0",
            "_view_name": "StyleView",
            "bar_color": null,
            "description_width": ""
          }
        },
        "7578eabfe3c643e58ae48e7d55400bb4": {
          "model_module": "@jupyter-widgets/base",
          "model_name": "LayoutModel",
          "model_module_version": "1.2.0",
          "state": {
            "_model_module": "@jupyter-widgets/base",
            "_model_module_version": "1.2.0",
            "_model_name": "LayoutModel",
            "_view_count": null,
            "_view_module": "@jupyter-widgets/base",
            "_view_module_version": "1.2.0",
            "_view_name": "LayoutView",
            "align_content": null,
            "align_items": null,
            "align_self": null,
            "border": null,
            "bottom": null,
            "display": null,
            "flex": null,
            "flex_flow": null,
            "grid_area": null,
            "grid_auto_columns": null,
            "grid_auto_flow": null,
            "grid_auto_rows": null,
            "grid_column": null,
            "grid_gap": null,
            "grid_row": null,
            "grid_template_areas": null,
            "grid_template_columns": null,
            "grid_template_rows": null,
            "height": null,
            "justify_content": null,
            "justify_items": null,
            "left": null,
            "margin": null,
            "max_height": null,
            "max_width": null,
            "min_height": null,
            "min_width": null,
            "object_fit": null,
            "object_position": null,
            "order": null,
            "overflow": null,
            "overflow_x": null,
            "overflow_y": null,
            "padding": null,
            "right": null,
            "top": null,
            "visibility": null,
            "width": null
          }
        },
        "a45eac964e4747f2a93120e9078f4fbe": {
          "model_module": "@jupyter-widgets/controls",
          "model_name": "DescriptionStyleModel",
          "model_module_version": "1.5.0",
          "state": {
            "_model_module": "@jupyter-widgets/controls",
            "_model_module_version": "1.5.0",
            "_model_name": "DescriptionStyleModel",
            "_view_count": null,
            "_view_module": "@jupyter-widgets/base",
            "_view_module_version": "1.2.0",
            "_view_name": "StyleView",
            "description_width": ""
          }
        },
        "0f2979fba32140968979221853afafa4": {
          "model_module": "@jupyter-widgets/controls",
          "model_name": "HBoxModel",
          "model_module_version": "1.5.0",
          "state": {
            "_dom_classes": [],
            "_model_module": "@jupyter-widgets/controls",
            "_model_module_version": "1.5.0",
            "_model_name": "HBoxModel",
            "_view_count": null,
            "_view_module": "@jupyter-widgets/controls",
            "_view_module_version": "1.5.0",
            "_view_name": "HBoxView",
            "box_style": "",
            "children": [
              "IPY_MODEL_a6fb3b15a8794b0a91697c3799a3a1a7",
              "IPY_MODEL_9d25914eabe948fe94b00f610226662e",
              "IPY_MODEL_e207630eae374fd0866dbbf18da6a18a"
            ],
            "layout": "IPY_MODEL_24d188f6f9b94be4a814305d7e40511f"
          }
        },
        "a6fb3b15a8794b0a91697c3799a3a1a7": {
          "model_module": "@jupyter-widgets/controls",
          "model_name": "HTMLModel",
          "model_module_version": "1.5.0",
          "state": {
            "_dom_classes": [],
            "_model_module": "@jupyter-widgets/controls",
            "_model_module_version": "1.5.0",
            "_model_name": "HTMLModel",
            "_view_count": null,
            "_view_module": "@jupyter-widgets/controls",
            "_view_module_version": "1.5.0",
            "_view_name": "HTMLView",
            "description": "",
            "description_tooltip": null,
            "layout": "IPY_MODEL_06655b67b2c54521bf923a09f801b495",
            "placeholder": "​",
            "style": "IPY_MODEL_3bd19ff6607249f7a09dc8f45a4cfa0f",
            "value": "Downloading metadata: 100%"
          }
        },
        "9d25914eabe948fe94b00f610226662e": {
          "model_module": "@jupyter-widgets/controls",
          "model_name": "FloatProgressModel",
          "model_module_version": "1.5.0",
          "state": {
            "_dom_classes": [],
            "_model_module": "@jupyter-widgets/controls",
            "_model_module_version": "1.5.0",
            "_model_name": "FloatProgressModel",
            "_view_count": null,
            "_view_module": "@jupyter-widgets/controls",
            "_view_module_version": "1.5.0",
            "_view_name": "ProgressView",
            "bar_style": "success",
            "description": "",
            "description_tooltip": null,
            "layout": "IPY_MODEL_8e284cfc5d63485ba1d9b054f2de7c6c",
            "max": 3280,
            "min": 0,
            "orientation": "horizontal",
            "style": "IPY_MODEL_d687c0504c2f4d6a9a11c510fbd800ec",
            "value": 3280
          }
        },
        "e207630eae374fd0866dbbf18da6a18a": {
          "model_module": "@jupyter-widgets/controls",
          "model_name": "HTMLModel",
          "model_module_version": "1.5.0",
          "state": {
            "_dom_classes": [],
            "_model_module": "@jupyter-widgets/controls",
            "_model_module_version": "1.5.0",
            "_model_name": "HTMLModel",
            "_view_count": null,
            "_view_module": "@jupyter-widgets/controls",
            "_view_module_version": "1.5.0",
            "_view_name": "HTMLView",
            "description": "",
            "description_tooltip": null,
            "layout": "IPY_MODEL_1658b677c144424ca7d2235855bcef6e",
            "placeholder": "​",
            "style": "IPY_MODEL_27e44d2067954f3f80a2d3fd11b3c416",
            "value": " 3.28k/3.28k [00:00&lt;00:00, 226kB/s]"
          }
        },
        "24d188f6f9b94be4a814305d7e40511f": {
          "model_module": "@jupyter-widgets/base",
          "model_name": "LayoutModel",
          "model_module_version": "1.2.0",
          "state": {
            "_model_module": "@jupyter-widgets/base",
            "_model_module_version": "1.2.0",
            "_model_name": "LayoutModel",
            "_view_count": null,
            "_view_module": "@jupyter-widgets/base",
            "_view_module_version": "1.2.0",
            "_view_name": "LayoutView",
            "align_content": null,
            "align_items": null,
            "align_self": null,
            "border": null,
            "bottom": null,
            "display": null,
            "flex": null,
            "flex_flow": null,
            "grid_area": null,
            "grid_auto_columns": null,
            "grid_auto_flow": null,
            "grid_auto_rows": null,
            "grid_column": null,
            "grid_gap": null,
            "grid_row": null,
            "grid_template_areas": null,
            "grid_template_columns": null,
            "grid_template_rows": null,
            "height": null,
            "justify_content": null,
            "justify_items": null,
            "left": null,
            "margin": null,
            "max_height": null,
            "max_width": null,
            "min_height": null,
            "min_width": null,
            "object_fit": null,
            "object_position": null,
            "order": null,
            "overflow": null,
            "overflow_x": null,
            "overflow_y": null,
            "padding": null,
            "right": null,
            "top": null,
            "visibility": null,
            "width": null
          }
        },
        "06655b67b2c54521bf923a09f801b495": {
          "model_module": "@jupyter-widgets/base",
          "model_name": "LayoutModel",
          "model_module_version": "1.2.0",
          "state": {
            "_model_module": "@jupyter-widgets/base",
            "_model_module_version": "1.2.0",
            "_model_name": "LayoutModel",
            "_view_count": null,
            "_view_module": "@jupyter-widgets/base",
            "_view_module_version": "1.2.0",
            "_view_name": "LayoutView",
            "align_content": null,
            "align_items": null,
            "align_self": null,
            "border": null,
            "bottom": null,
            "display": null,
            "flex": null,
            "flex_flow": null,
            "grid_area": null,
            "grid_auto_columns": null,
            "grid_auto_flow": null,
            "grid_auto_rows": null,
            "grid_column": null,
            "grid_gap": null,
            "grid_row": null,
            "grid_template_areas": null,
            "grid_template_columns": null,
            "grid_template_rows": null,
            "height": null,
            "justify_content": null,
            "justify_items": null,
            "left": null,
            "margin": null,
            "max_height": null,
            "max_width": null,
            "min_height": null,
            "min_width": null,
            "object_fit": null,
            "object_position": null,
            "order": null,
            "overflow": null,
            "overflow_x": null,
            "overflow_y": null,
            "padding": null,
            "right": null,
            "top": null,
            "visibility": null,
            "width": null
          }
        },
        "3bd19ff6607249f7a09dc8f45a4cfa0f": {
          "model_module": "@jupyter-widgets/controls",
          "model_name": "DescriptionStyleModel",
          "model_module_version": "1.5.0",
          "state": {
            "_model_module": "@jupyter-widgets/controls",
            "_model_module_version": "1.5.0",
            "_model_name": "DescriptionStyleModel",
            "_view_count": null,
            "_view_module": "@jupyter-widgets/base",
            "_view_module_version": "1.2.0",
            "_view_name": "StyleView",
            "description_width": ""
          }
        },
        "8e284cfc5d63485ba1d9b054f2de7c6c": {
          "model_module": "@jupyter-widgets/base",
          "model_name": "LayoutModel",
          "model_module_version": "1.2.0",
          "state": {
            "_model_module": "@jupyter-widgets/base",
            "_model_module_version": "1.2.0",
            "_model_name": "LayoutModel",
            "_view_count": null,
            "_view_module": "@jupyter-widgets/base",
            "_view_module_version": "1.2.0",
            "_view_name": "LayoutView",
            "align_content": null,
            "align_items": null,
            "align_self": null,
            "border": null,
            "bottom": null,
            "display": null,
            "flex": null,
            "flex_flow": null,
            "grid_area": null,
            "grid_auto_columns": null,
            "grid_auto_flow": null,
            "grid_auto_rows": null,
            "grid_column": null,
            "grid_gap": null,
            "grid_row": null,
            "grid_template_areas": null,
            "grid_template_columns": null,
            "grid_template_rows": null,
            "height": null,
            "justify_content": null,
            "justify_items": null,
            "left": null,
            "margin": null,
            "max_height": null,
            "max_width": null,
            "min_height": null,
            "min_width": null,
            "object_fit": null,
            "object_position": null,
            "order": null,
            "overflow": null,
            "overflow_x": null,
            "overflow_y": null,
            "padding": null,
            "right": null,
            "top": null,
            "visibility": null,
            "width": null
          }
        },
        "d687c0504c2f4d6a9a11c510fbd800ec": {
          "model_module": "@jupyter-widgets/controls",
          "model_name": "ProgressStyleModel",
          "model_module_version": "1.5.0",
          "state": {
            "_model_module": "@jupyter-widgets/controls",
            "_model_module_version": "1.5.0",
            "_model_name": "ProgressStyleModel",
            "_view_count": null,
            "_view_module": "@jupyter-widgets/base",
            "_view_module_version": "1.2.0",
            "_view_name": "StyleView",
            "bar_color": null,
            "description_width": ""
          }
        },
        "1658b677c144424ca7d2235855bcef6e": {
          "model_module": "@jupyter-widgets/base",
          "model_name": "LayoutModel",
          "model_module_version": "1.2.0",
          "state": {
            "_model_module": "@jupyter-widgets/base",
            "_model_module_version": "1.2.0",
            "_model_name": "LayoutModel",
            "_view_count": null,
            "_view_module": "@jupyter-widgets/base",
            "_view_module_version": "1.2.0",
            "_view_name": "LayoutView",
            "align_content": null,
            "align_items": null,
            "align_self": null,
            "border": null,
            "bottom": null,
            "display": null,
            "flex": null,
            "flex_flow": null,
            "grid_area": null,
            "grid_auto_columns": null,
            "grid_auto_flow": null,
            "grid_auto_rows": null,
            "grid_column": null,
            "grid_gap": null,
            "grid_row": null,
            "grid_template_areas": null,
            "grid_template_columns": null,
            "grid_template_rows": null,
            "height": null,
            "justify_content": null,
            "justify_items": null,
            "left": null,
            "margin": null,
            "max_height": null,
            "max_width": null,
            "min_height": null,
            "min_width": null,
            "object_fit": null,
            "object_position": null,
            "order": null,
            "overflow": null,
            "overflow_x": null,
            "overflow_y": null,
            "padding": null,
            "right": null,
            "top": null,
            "visibility": null,
            "width": null
          }
        },
        "27e44d2067954f3f80a2d3fd11b3c416": {
          "model_module": "@jupyter-widgets/controls",
          "model_name": "DescriptionStyleModel",
          "model_module_version": "1.5.0",
          "state": {
            "_model_module": "@jupyter-widgets/controls",
            "_model_module_version": "1.5.0",
            "_model_name": "DescriptionStyleModel",
            "_view_count": null,
            "_view_module": "@jupyter-widgets/base",
            "_view_module_version": "1.2.0",
            "_view_name": "StyleView",
            "description_width": ""
          }
        },
        "270ec25c5d054bbd8fe859bb9de3ecc2": {
          "model_module": "@jupyter-widgets/controls",
          "model_name": "HBoxModel",
          "model_module_version": "1.5.0",
          "state": {
            "_dom_classes": [],
            "_model_module": "@jupyter-widgets/controls",
            "_model_module_version": "1.5.0",
            "_model_name": "HBoxModel",
            "_view_count": null,
            "_view_module": "@jupyter-widgets/controls",
            "_view_module_version": "1.5.0",
            "_view_name": "HBoxView",
            "box_style": "",
            "children": [
              "IPY_MODEL_28d8f284a8114f95b772521173c633fa",
              "IPY_MODEL_1cbbbb14010c47249f2ba27b68eea3b5",
              "IPY_MODEL_e7138893c10448988afd9bac817f4c77"
            ],
            "layout": "IPY_MODEL_7f738f9dc7854e9eb960d8c850648274"
          }
        },
        "28d8f284a8114f95b772521173c633fa": {
          "model_module": "@jupyter-widgets/controls",
          "model_name": "HTMLModel",
          "model_module_version": "1.5.0",
          "state": {
            "_dom_classes": [],
            "_model_module": "@jupyter-widgets/controls",
            "_model_module_version": "1.5.0",
            "_model_name": "HTMLModel",
            "_view_count": null,
            "_view_module": "@jupyter-widgets/controls",
            "_view_module_version": "1.5.0",
            "_view_name": "HTMLView",
            "description": "",
            "description_tooltip": null,
            "layout": "IPY_MODEL_7f11f7931f83452cbf8789ecc0b8c50a",
            "placeholder": "​",
            "style": "IPY_MODEL_d447049289c543eeb11868829d720125",
            "value": "Downloading readme: 100%"
          }
        },
        "1cbbbb14010c47249f2ba27b68eea3b5": {
          "model_module": "@jupyter-widgets/controls",
          "model_name": "FloatProgressModel",
          "model_module_version": "1.5.0",
          "state": {
            "_dom_classes": [],
            "_model_module": "@jupyter-widgets/controls",
            "_model_module_version": "1.5.0",
            "_model_name": "FloatProgressModel",
            "_view_count": null,
            "_view_module": "@jupyter-widgets/controls",
            "_view_module_version": "1.5.0",
            "_view_name": "ProgressView",
            "bar_style": "success",
            "description": "",
            "description_tooltip": null,
            "layout": "IPY_MODEL_c3350570dfe54af5b8154806a118ac98",
            "max": 8780,
            "min": 0,
            "orientation": "horizontal",
            "style": "IPY_MODEL_07f685663a5e4ef295796e87c946fb4a",
            "value": 8780
          }
        },
        "e7138893c10448988afd9bac817f4c77": {
          "model_module": "@jupyter-widgets/controls",
          "model_name": "HTMLModel",
          "model_module_version": "1.5.0",
          "state": {
            "_dom_classes": [],
            "_model_module": "@jupyter-widgets/controls",
            "_model_module_version": "1.5.0",
            "_model_name": "HTMLModel",
            "_view_count": null,
            "_view_module": "@jupyter-widgets/controls",
            "_view_module_version": "1.5.0",
            "_view_name": "HTMLView",
            "description": "",
            "description_tooltip": null,
            "layout": "IPY_MODEL_2fcb0593b73d4e048473a18171eb13b3",
            "placeholder": "​",
            "style": "IPY_MODEL_210f65019c6e4101bb4592e0dcb6fc74",
            "value": " 8.78k/8.78k [00:00&lt;00:00, 523kB/s]"
          }
        },
        "7f738f9dc7854e9eb960d8c850648274": {
          "model_module": "@jupyter-widgets/base",
          "model_name": "LayoutModel",
          "model_module_version": "1.2.0",
          "state": {
            "_model_module": "@jupyter-widgets/base",
            "_model_module_version": "1.2.0",
            "_model_name": "LayoutModel",
            "_view_count": null,
            "_view_module": "@jupyter-widgets/base",
            "_view_module_version": "1.2.0",
            "_view_name": "LayoutView",
            "align_content": null,
            "align_items": null,
            "align_self": null,
            "border": null,
            "bottom": null,
            "display": null,
            "flex": null,
            "flex_flow": null,
            "grid_area": null,
            "grid_auto_columns": null,
            "grid_auto_flow": null,
            "grid_auto_rows": null,
            "grid_column": null,
            "grid_gap": null,
            "grid_row": null,
            "grid_template_areas": null,
            "grid_template_columns": null,
            "grid_template_rows": null,
            "height": null,
            "justify_content": null,
            "justify_items": null,
            "left": null,
            "margin": null,
            "max_height": null,
            "max_width": null,
            "min_height": null,
            "min_width": null,
            "object_fit": null,
            "object_position": null,
            "order": null,
            "overflow": null,
            "overflow_x": null,
            "overflow_y": null,
            "padding": null,
            "right": null,
            "top": null,
            "visibility": null,
            "width": null
          }
        },
        "7f11f7931f83452cbf8789ecc0b8c50a": {
          "model_module": "@jupyter-widgets/base",
          "model_name": "LayoutModel",
          "model_module_version": "1.2.0",
          "state": {
            "_model_module": "@jupyter-widgets/base",
            "_model_module_version": "1.2.0",
            "_model_name": "LayoutModel",
            "_view_count": null,
            "_view_module": "@jupyter-widgets/base",
            "_view_module_version": "1.2.0",
            "_view_name": "LayoutView",
            "align_content": null,
            "align_items": null,
            "align_self": null,
            "border": null,
            "bottom": null,
            "display": null,
            "flex": null,
            "flex_flow": null,
            "grid_area": null,
            "grid_auto_columns": null,
            "grid_auto_flow": null,
            "grid_auto_rows": null,
            "grid_column": null,
            "grid_gap": null,
            "grid_row": null,
            "grid_template_areas": null,
            "grid_template_columns": null,
            "grid_template_rows": null,
            "height": null,
            "justify_content": null,
            "justify_items": null,
            "left": null,
            "margin": null,
            "max_height": null,
            "max_width": null,
            "min_height": null,
            "min_width": null,
            "object_fit": null,
            "object_position": null,
            "order": null,
            "overflow": null,
            "overflow_x": null,
            "overflow_y": null,
            "padding": null,
            "right": null,
            "top": null,
            "visibility": null,
            "width": null
          }
        },
        "d447049289c543eeb11868829d720125": {
          "model_module": "@jupyter-widgets/controls",
          "model_name": "DescriptionStyleModel",
          "model_module_version": "1.5.0",
          "state": {
            "_model_module": "@jupyter-widgets/controls",
            "_model_module_version": "1.5.0",
            "_model_name": "DescriptionStyleModel",
            "_view_count": null,
            "_view_module": "@jupyter-widgets/base",
            "_view_module_version": "1.2.0",
            "_view_name": "StyleView",
            "description_width": ""
          }
        },
        "c3350570dfe54af5b8154806a118ac98": {
          "model_module": "@jupyter-widgets/base",
          "model_name": "LayoutModel",
          "model_module_version": "1.2.0",
          "state": {
            "_model_module": "@jupyter-widgets/base",
            "_model_module_version": "1.2.0",
            "_model_name": "LayoutModel",
            "_view_count": null,
            "_view_module": "@jupyter-widgets/base",
            "_view_module_version": "1.2.0",
            "_view_name": "LayoutView",
            "align_content": null,
            "align_items": null,
            "align_self": null,
            "border": null,
            "bottom": null,
            "display": null,
            "flex": null,
            "flex_flow": null,
            "grid_area": null,
            "grid_auto_columns": null,
            "grid_auto_flow": null,
            "grid_auto_rows": null,
            "grid_column": null,
            "grid_gap": null,
            "grid_row": null,
            "grid_template_areas": null,
            "grid_template_columns": null,
            "grid_template_rows": null,
            "height": null,
            "justify_content": null,
            "justify_items": null,
            "left": null,
            "margin": null,
            "max_height": null,
            "max_width": null,
            "min_height": null,
            "min_width": null,
            "object_fit": null,
            "object_position": null,
            "order": null,
            "overflow": null,
            "overflow_x": null,
            "overflow_y": null,
            "padding": null,
            "right": null,
            "top": null,
            "visibility": null,
            "width": null
          }
        },
        "07f685663a5e4ef295796e87c946fb4a": {
          "model_module": "@jupyter-widgets/controls",
          "model_name": "ProgressStyleModel",
          "model_module_version": "1.5.0",
          "state": {
            "_model_module": "@jupyter-widgets/controls",
            "_model_module_version": "1.5.0",
            "_model_name": "ProgressStyleModel",
            "_view_count": null,
            "_view_module": "@jupyter-widgets/base",
            "_view_module_version": "1.2.0",
            "_view_name": "StyleView",
            "bar_color": null,
            "description_width": ""
          }
        },
        "2fcb0593b73d4e048473a18171eb13b3": {
          "model_module": "@jupyter-widgets/base",
          "model_name": "LayoutModel",
          "model_module_version": "1.2.0",
          "state": {
            "_model_module": "@jupyter-widgets/base",
            "_model_module_version": "1.2.0",
            "_model_name": "LayoutModel",
            "_view_count": null,
            "_view_module": "@jupyter-widgets/base",
            "_view_module_version": "1.2.0",
            "_view_name": "LayoutView",
            "align_content": null,
            "align_items": null,
            "align_self": null,
            "border": null,
            "bottom": null,
            "display": null,
            "flex": null,
            "flex_flow": null,
            "grid_area": null,
            "grid_auto_columns": null,
            "grid_auto_flow": null,
            "grid_auto_rows": null,
            "grid_column": null,
            "grid_gap": null,
            "grid_row": null,
            "grid_template_areas": null,
            "grid_template_columns": null,
            "grid_template_rows": null,
            "height": null,
            "justify_content": null,
            "justify_items": null,
            "left": null,
            "margin": null,
            "max_height": null,
            "max_width": null,
            "min_height": null,
            "min_width": null,
            "object_fit": null,
            "object_position": null,
            "order": null,
            "overflow": null,
            "overflow_x": null,
            "overflow_y": null,
            "padding": null,
            "right": null,
            "top": null,
            "visibility": null,
            "width": null
          }
        },
        "210f65019c6e4101bb4592e0dcb6fc74": {
          "model_module": "@jupyter-widgets/controls",
          "model_name": "DescriptionStyleModel",
          "model_module_version": "1.5.0",
          "state": {
            "_model_module": "@jupyter-widgets/controls",
            "_model_module_version": "1.5.0",
            "_model_name": "DescriptionStyleModel",
            "_view_count": null,
            "_view_module": "@jupyter-widgets/base",
            "_view_module_version": "1.2.0",
            "_view_name": "StyleView",
            "description_width": ""
          }
        },
        "d921973bfd744d27b1c287337a8cda68": {
          "model_module": "@jupyter-widgets/controls",
          "model_name": "HBoxModel",
          "model_module_version": "1.5.0",
          "state": {
            "_dom_classes": [],
            "_model_module": "@jupyter-widgets/controls",
            "_model_module_version": "1.5.0",
            "_model_name": "HBoxModel",
            "_view_count": null,
            "_view_module": "@jupyter-widgets/controls",
            "_view_module_version": "1.5.0",
            "_view_name": "HBoxView",
            "box_style": "",
            "children": [
              "IPY_MODEL_5efb4b85b38d4961ad5f5e5671016f7f",
              "IPY_MODEL_a07ee840e0e54ab089f2b722eff804b4",
              "IPY_MODEL_fa1e5b8c37c248f89f629df4a5b71914"
            ],
            "layout": "IPY_MODEL_524c56f4bc9f4cd689bf2a0127cd3230"
          }
        },
        "5efb4b85b38d4961ad5f5e5671016f7f": {
          "model_module": "@jupyter-widgets/controls",
          "model_name": "HTMLModel",
          "model_module_version": "1.5.0",
          "state": {
            "_dom_classes": [],
            "_model_module": "@jupyter-widgets/controls",
            "_model_module_version": "1.5.0",
            "_model_name": "HTMLModel",
            "_view_count": null,
            "_view_module": "@jupyter-widgets/controls",
            "_view_module_version": "1.5.0",
            "_view_name": "HTMLView",
            "description": "",
            "description_tooltip": null,
            "layout": "IPY_MODEL_18b1fe34732d4642ad3dd13496753f64",
            "placeholder": "​",
            "style": "IPY_MODEL_809c33ac289748c8b1315dd2871b95eb",
            "value": "Downloading data: 100%"
          }
        },
        "a07ee840e0e54ab089f2b722eff804b4": {
          "model_module": "@jupyter-widgets/controls",
          "model_name": "FloatProgressModel",
          "model_module_version": "1.5.0",
          "state": {
            "_dom_classes": [],
            "_model_module": "@jupyter-widgets/controls",
            "_model_module_version": "1.5.0",
            "_model_name": "FloatProgressModel",
            "_view_count": null,
            "_view_module": "@jupyter-widgets/controls",
            "_view_module_version": "1.5.0",
            "_view_name": "ProgressView",
            "bar_style": "success",
            "description": "",
            "description_tooltip": null,
            "layout": "IPY_MODEL_b68c402079cd4be4a5062d9c347ffeec",
            "max": 591930,
            "min": 0,
            "orientation": "horizontal",
            "style": "IPY_MODEL_4aa270186ec34d8db03e8de33d7a1bb0",
            "value": 591930
          }
        },
        "fa1e5b8c37c248f89f629df4a5b71914": {
          "model_module": "@jupyter-widgets/controls",
          "model_name": "HTMLModel",
          "model_module_version": "1.5.0",
          "state": {
            "_dom_classes": [],
            "_model_module": "@jupyter-widgets/controls",
            "_model_module_version": "1.5.0",
            "_model_name": "HTMLModel",
            "_view_count": null,
            "_view_module": "@jupyter-widgets/controls",
            "_view_module_version": "1.5.0",
            "_view_name": "HTMLView",
            "description": "",
            "description_tooltip": null,
            "layout": "IPY_MODEL_85b635211d6e499abc49934455d952da",
            "placeholder": "​",
            "style": "IPY_MODEL_a3026148ea654731861c042f2dee1150",
            "value": " 592k/592k [00:00&lt;00:00, 8.13MB/s]"
          }
        },
        "524c56f4bc9f4cd689bf2a0127cd3230": {
          "model_module": "@jupyter-widgets/base",
          "model_name": "LayoutModel",
          "model_module_version": "1.2.0",
          "state": {
            "_model_module": "@jupyter-widgets/base",
            "_model_module_version": "1.2.0",
            "_model_name": "LayoutModel",
            "_view_count": null,
            "_view_module": "@jupyter-widgets/base",
            "_view_module_version": "1.2.0",
            "_view_name": "LayoutView",
            "align_content": null,
            "align_items": null,
            "align_self": null,
            "border": null,
            "bottom": null,
            "display": null,
            "flex": null,
            "flex_flow": null,
            "grid_area": null,
            "grid_auto_columns": null,
            "grid_auto_flow": null,
            "grid_auto_rows": null,
            "grid_column": null,
            "grid_gap": null,
            "grid_row": null,
            "grid_template_areas": null,
            "grid_template_columns": null,
            "grid_template_rows": null,
            "height": null,
            "justify_content": null,
            "justify_items": null,
            "left": null,
            "margin": null,
            "max_height": null,
            "max_width": null,
            "min_height": null,
            "min_width": null,
            "object_fit": null,
            "object_position": null,
            "order": null,
            "overflow": null,
            "overflow_x": null,
            "overflow_y": null,
            "padding": null,
            "right": null,
            "top": null,
            "visibility": null,
            "width": null
          }
        },
        "18b1fe34732d4642ad3dd13496753f64": {
          "model_module": "@jupyter-widgets/base",
          "model_name": "LayoutModel",
          "model_module_version": "1.2.0",
          "state": {
            "_model_module": "@jupyter-widgets/base",
            "_model_module_version": "1.2.0",
            "_model_name": "LayoutModel",
            "_view_count": null,
            "_view_module": "@jupyter-widgets/base",
            "_view_module_version": "1.2.0",
            "_view_name": "LayoutView",
            "align_content": null,
            "align_items": null,
            "align_self": null,
            "border": null,
            "bottom": null,
            "display": null,
            "flex": null,
            "flex_flow": null,
            "grid_area": null,
            "grid_auto_columns": null,
            "grid_auto_flow": null,
            "grid_auto_rows": null,
            "grid_column": null,
            "grid_gap": null,
            "grid_row": null,
            "grid_template_areas": null,
            "grid_template_columns": null,
            "grid_template_rows": null,
            "height": null,
            "justify_content": null,
            "justify_items": null,
            "left": null,
            "margin": null,
            "max_height": null,
            "max_width": null,
            "min_height": null,
            "min_width": null,
            "object_fit": null,
            "object_position": null,
            "order": null,
            "overflow": null,
            "overflow_x": null,
            "overflow_y": null,
            "padding": null,
            "right": null,
            "top": null,
            "visibility": null,
            "width": null
          }
        },
        "809c33ac289748c8b1315dd2871b95eb": {
          "model_module": "@jupyter-widgets/controls",
          "model_name": "DescriptionStyleModel",
          "model_module_version": "1.5.0",
          "state": {
            "_model_module": "@jupyter-widgets/controls",
            "_model_module_version": "1.5.0",
            "_model_name": "DescriptionStyleModel",
            "_view_count": null,
            "_view_module": "@jupyter-widgets/base",
            "_view_module_version": "1.2.0",
            "_view_name": "StyleView",
            "description_width": ""
          }
        },
        "b68c402079cd4be4a5062d9c347ffeec": {
          "model_module": "@jupyter-widgets/base",
          "model_name": "LayoutModel",
          "model_module_version": "1.2.0",
          "state": {
            "_model_module": "@jupyter-widgets/base",
            "_model_module_version": "1.2.0",
            "_model_name": "LayoutModel",
            "_view_count": null,
            "_view_module": "@jupyter-widgets/base",
            "_view_module_version": "1.2.0",
            "_view_name": "LayoutView",
            "align_content": null,
            "align_items": null,
            "align_self": null,
            "border": null,
            "bottom": null,
            "display": null,
            "flex": null,
            "flex_flow": null,
            "grid_area": null,
            "grid_auto_columns": null,
            "grid_auto_flow": null,
            "grid_auto_rows": null,
            "grid_column": null,
            "grid_gap": null,
            "grid_row": null,
            "grid_template_areas": null,
            "grid_template_columns": null,
            "grid_template_rows": null,
            "height": null,
            "justify_content": null,
            "justify_items": null,
            "left": null,
            "margin": null,
            "max_height": null,
            "max_width": null,
            "min_height": null,
            "min_width": null,
            "object_fit": null,
            "object_position": null,
            "order": null,
            "overflow": null,
            "overflow_x": null,
            "overflow_y": null,
            "padding": null,
            "right": null,
            "top": null,
            "visibility": null,
            "width": null
          }
        },
        "4aa270186ec34d8db03e8de33d7a1bb0": {
          "model_module": "@jupyter-widgets/controls",
          "model_name": "ProgressStyleModel",
          "model_module_version": "1.5.0",
          "state": {
            "_model_module": "@jupyter-widgets/controls",
            "_model_module_version": "1.5.0",
            "_model_name": "ProgressStyleModel",
            "_view_count": null,
            "_view_module": "@jupyter-widgets/base",
            "_view_module_version": "1.2.0",
            "_view_name": "StyleView",
            "bar_color": null,
            "description_width": ""
          }
        },
        "85b635211d6e499abc49934455d952da": {
          "model_module": "@jupyter-widgets/base",
          "model_name": "LayoutModel",
          "model_module_version": "1.2.0",
          "state": {
            "_model_module": "@jupyter-widgets/base",
            "_model_module_version": "1.2.0",
            "_model_name": "LayoutModel",
            "_view_count": null,
            "_view_module": "@jupyter-widgets/base",
            "_view_module_version": "1.2.0",
            "_view_name": "LayoutView",
            "align_content": null,
            "align_items": null,
            "align_self": null,
            "border": null,
            "bottom": null,
            "display": null,
            "flex": null,
            "flex_flow": null,
            "grid_area": null,
            "grid_auto_columns": null,
            "grid_auto_flow": null,
            "grid_auto_rows": null,
            "grid_column": null,
            "grid_gap": null,
            "grid_row": null,
            "grid_template_areas": null,
            "grid_template_columns": null,
            "grid_template_rows": null,
            "height": null,
            "justify_content": null,
            "justify_items": null,
            "left": null,
            "margin": null,
            "max_height": null,
            "max_width": null,
            "min_height": null,
            "min_width": null,
            "object_fit": null,
            "object_position": null,
            "order": null,
            "overflow": null,
            "overflow_x": null,
            "overflow_y": null,
            "padding": null,
            "right": null,
            "top": null,
            "visibility": null,
            "width": null
          }
        },
        "a3026148ea654731861c042f2dee1150": {
          "model_module": "@jupyter-widgets/controls",
          "model_name": "DescriptionStyleModel",
          "model_module_version": "1.5.0",
          "state": {
            "_model_module": "@jupyter-widgets/controls",
            "_model_module_version": "1.5.0",
            "_model_name": "DescriptionStyleModel",
            "_view_count": null,
            "_view_module": "@jupyter-widgets/base",
            "_view_module_version": "1.2.0",
            "_view_name": "StyleView",
            "description_width": ""
          }
        },
        "b3b4b4f36a3340d9b3e8340daa6fc128": {
          "model_module": "@jupyter-widgets/controls",
          "model_name": "HBoxModel",
          "model_module_version": "1.5.0",
          "state": {
            "_dom_classes": [],
            "_model_module": "@jupyter-widgets/controls",
            "_model_module_version": "1.5.0",
            "_model_name": "HBoxModel",
            "_view_count": null,
            "_view_module": "@jupyter-widgets/controls",
            "_view_module_version": "1.5.0",
            "_view_name": "HBoxView",
            "box_style": "",
            "children": [
              "IPY_MODEL_ec2e982702744e76b52f93bd0b08ad47",
              "IPY_MODEL_46ac912b368b4b69a7d92de9cefa54d5",
              "IPY_MODEL_876d3f66f3104eacb08dc47baeff5343"
            ],
            "layout": "IPY_MODEL_fba6d60011f241b19e8f23cd7c5ccba4"
          }
        },
        "ec2e982702744e76b52f93bd0b08ad47": {
          "model_module": "@jupyter-widgets/controls",
          "model_name": "HTMLModel",
          "model_module_version": "1.5.0",
          "state": {
            "_dom_classes": [],
            "_model_module": "@jupyter-widgets/controls",
            "_model_module_version": "1.5.0",
            "_model_name": "HTMLModel",
            "_view_count": null,
            "_view_module": "@jupyter-widgets/controls",
            "_view_module_version": "1.5.0",
            "_view_name": "HTMLView",
            "description": "",
            "description_tooltip": null,
            "layout": "IPY_MODEL_d13991f30d4f49629e66162627f844a6",
            "placeholder": "​",
            "style": "IPY_MODEL_d44189616a8844cd8237432a7cd4394b",
            "value": "Downloading data: 100%"
          }
        },
        "46ac912b368b4b69a7d92de9cefa54d5": {
          "model_module": "@jupyter-widgets/controls",
          "model_name": "FloatProgressModel",
          "model_module_version": "1.5.0",
          "state": {
            "_dom_classes": [],
            "_model_module": "@jupyter-widgets/controls",
            "_model_module_version": "1.5.0",
            "_model_name": "FloatProgressModel",
            "_view_count": null,
            "_view_module": "@jupyter-widgets/controls",
            "_view_module_version": "1.5.0",
            "_view_name": "ProgressView",
            "bar_style": "success",
            "description": "",
            "description_tooltip": null,
            "layout": "IPY_MODEL_29093da2420c429c9d0aebe70e6fe179",
            "max": 74018,
            "min": 0,
            "orientation": "horizontal",
            "style": "IPY_MODEL_06058701a600484795d0d3972d894c10",
            "value": 74018
          }
        },
        "876d3f66f3104eacb08dc47baeff5343": {
          "model_module": "@jupyter-widgets/controls",
          "model_name": "HTMLModel",
          "model_module_version": "1.5.0",
          "state": {
            "_dom_classes": [],
            "_model_module": "@jupyter-widgets/controls",
            "_model_module_version": "1.5.0",
            "_model_name": "HTMLModel",
            "_view_count": null,
            "_view_module": "@jupyter-widgets/controls",
            "_view_module_version": "1.5.0",
            "_view_name": "HTMLView",
            "description": "",
            "description_tooltip": null,
            "layout": "IPY_MODEL_82f5cfb441f2408593cdcc974cbfcf2f",
            "placeholder": "​",
            "style": "IPY_MODEL_3fba43d8e2e64a0d8db76c103d8f798a",
            "value": " 74.0k/74.0k [00:00&lt;00:00, 958kB/s]"
          }
        },
        "fba6d60011f241b19e8f23cd7c5ccba4": {
          "model_module": "@jupyter-widgets/base",
          "model_name": "LayoutModel",
          "model_module_version": "1.2.0",
          "state": {
            "_model_module": "@jupyter-widgets/base",
            "_model_module_version": "1.2.0",
            "_model_name": "LayoutModel",
            "_view_count": null,
            "_view_module": "@jupyter-widgets/base",
            "_view_module_version": "1.2.0",
            "_view_name": "LayoutView",
            "align_content": null,
            "align_items": null,
            "align_self": null,
            "border": null,
            "bottom": null,
            "display": null,
            "flex": null,
            "flex_flow": null,
            "grid_area": null,
            "grid_auto_columns": null,
            "grid_auto_flow": null,
            "grid_auto_rows": null,
            "grid_column": null,
            "grid_gap": null,
            "grid_row": null,
            "grid_template_areas": null,
            "grid_template_columns": null,
            "grid_template_rows": null,
            "height": null,
            "justify_content": null,
            "justify_items": null,
            "left": null,
            "margin": null,
            "max_height": null,
            "max_width": null,
            "min_height": null,
            "min_width": null,
            "object_fit": null,
            "object_position": null,
            "order": null,
            "overflow": null,
            "overflow_x": null,
            "overflow_y": null,
            "padding": null,
            "right": null,
            "top": null,
            "visibility": null,
            "width": null
          }
        },
        "d13991f30d4f49629e66162627f844a6": {
          "model_module": "@jupyter-widgets/base",
          "model_name": "LayoutModel",
          "model_module_version": "1.2.0",
          "state": {
            "_model_module": "@jupyter-widgets/base",
            "_model_module_version": "1.2.0",
            "_model_name": "LayoutModel",
            "_view_count": null,
            "_view_module": "@jupyter-widgets/base",
            "_view_module_version": "1.2.0",
            "_view_name": "LayoutView",
            "align_content": null,
            "align_items": null,
            "align_self": null,
            "border": null,
            "bottom": null,
            "display": null,
            "flex": null,
            "flex_flow": null,
            "grid_area": null,
            "grid_auto_columns": null,
            "grid_auto_flow": null,
            "grid_auto_rows": null,
            "grid_column": null,
            "grid_gap": null,
            "grid_row": null,
            "grid_template_areas": null,
            "grid_template_columns": null,
            "grid_template_rows": null,
            "height": null,
            "justify_content": null,
            "justify_items": null,
            "left": null,
            "margin": null,
            "max_height": null,
            "max_width": null,
            "min_height": null,
            "min_width": null,
            "object_fit": null,
            "object_position": null,
            "order": null,
            "overflow": null,
            "overflow_x": null,
            "overflow_y": null,
            "padding": null,
            "right": null,
            "top": null,
            "visibility": null,
            "width": null
          }
        },
        "d44189616a8844cd8237432a7cd4394b": {
          "model_module": "@jupyter-widgets/controls",
          "model_name": "DescriptionStyleModel",
          "model_module_version": "1.5.0",
          "state": {
            "_model_module": "@jupyter-widgets/controls",
            "_model_module_version": "1.5.0",
            "_model_name": "DescriptionStyleModel",
            "_view_count": null,
            "_view_module": "@jupyter-widgets/base",
            "_view_module_version": "1.2.0",
            "_view_name": "StyleView",
            "description_width": ""
          }
        },
        "29093da2420c429c9d0aebe70e6fe179": {
          "model_module": "@jupyter-widgets/base",
          "model_name": "LayoutModel",
          "model_module_version": "1.2.0",
          "state": {
            "_model_module": "@jupyter-widgets/base",
            "_model_module_version": "1.2.0",
            "_model_name": "LayoutModel",
            "_view_count": null,
            "_view_module": "@jupyter-widgets/base",
            "_view_module_version": "1.2.0",
            "_view_name": "LayoutView",
            "align_content": null,
            "align_items": null,
            "align_self": null,
            "border": null,
            "bottom": null,
            "display": null,
            "flex": null,
            "flex_flow": null,
            "grid_area": null,
            "grid_auto_columns": null,
            "grid_auto_flow": null,
            "grid_auto_rows": null,
            "grid_column": null,
            "grid_gap": null,
            "grid_row": null,
            "grid_template_areas": null,
            "grid_template_columns": null,
            "grid_template_rows": null,
            "height": null,
            "justify_content": null,
            "justify_items": null,
            "left": null,
            "margin": null,
            "max_height": null,
            "max_width": null,
            "min_height": null,
            "min_width": null,
            "object_fit": null,
            "object_position": null,
            "order": null,
            "overflow": null,
            "overflow_x": null,
            "overflow_y": null,
            "padding": null,
            "right": null,
            "top": null,
            "visibility": null,
            "width": null
          }
        },
        "06058701a600484795d0d3972d894c10": {
          "model_module": "@jupyter-widgets/controls",
          "model_name": "ProgressStyleModel",
          "model_module_version": "1.5.0",
          "state": {
            "_model_module": "@jupyter-widgets/controls",
            "_model_module_version": "1.5.0",
            "_model_name": "ProgressStyleModel",
            "_view_count": null,
            "_view_module": "@jupyter-widgets/base",
            "_view_module_version": "1.2.0",
            "_view_name": "StyleView",
            "bar_color": null,
            "description_width": ""
          }
        },
        "82f5cfb441f2408593cdcc974cbfcf2f": {
          "model_module": "@jupyter-widgets/base",
          "model_name": "LayoutModel",
          "model_module_version": "1.2.0",
          "state": {
            "_model_module": "@jupyter-widgets/base",
            "_model_module_version": "1.2.0",
            "_model_name": "LayoutModel",
            "_view_count": null,
            "_view_module": "@jupyter-widgets/base",
            "_view_module_version": "1.2.0",
            "_view_name": "LayoutView",
            "align_content": null,
            "align_items": null,
            "align_self": null,
            "border": null,
            "bottom": null,
            "display": null,
            "flex": null,
            "flex_flow": null,
            "grid_area": null,
            "grid_auto_columns": null,
            "grid_auto_flow": null,
            "grid_auto_rows": null,
            "grid_column": null,
            "grid_gap": null,
            "grid_row": null,
            "grid_template_areas": null,
            "grid_template_columns": null,
            "grid_template_rows": null,
            "height": null,
            "justify_content": null,
            "justify_items": null,
            "left": null,
            "margin": null,
            "max_height": null,
            "max_width": null,
            "min_height": null,
            "min_width": null,
            "object_fit": null,
            "object_position": null,
            "order": null,
            "overflow": null,
            "overflow_x": null,
            "overflow_y": null,
            "padding": null,
            "right": null,
            "top": null,
            "visibility": null,
            "width": null
          }
        },
        "3fba43d8e2e64a0d8db76c103d8f798a": {
          "model_module": "@jupyter-widgets/controls",
          "model_name": "DescriptionStyleModel",
          "model_module_version": "1.5.0",
          "state": {
            "_model_module": "@jupyter-widgets/controls",
            "_model_module_version": "1.5.0",
            "_model_name": "DescriptionStyleModel",
            "_view_count": null,
            "_view_module": "@jupyter-widgets/base",
            "_view_module_version": "1.2.0",
            "_view_name": "StyleView",
            "description_width": ""
          }
        },
        "eab8666dc3774f29a7609484c79c8ead": {
          "model_module": "@jupyter-widgets/controls",
          "model_name": "HBoxModel",
          "model_module_version": "1.5.0",
          "state": {
            "_dom_classes": [],
            "_model_module": "@jupyter-widgets/controls",
            "_model_module_version": "1.5.0",
            "_model_name": "HBoxModel",
            "_view_count": null,
            "_view_module": "@jupyter-widgets/controls",
            "_view_module_version": "1.5.0",
            "_view_name": "HBoxView",
            "box_style": "",
            "children": [
              "IPY_MODEL_2a351fbda0d7466c98a14642c50199d2",
              "IPY_MODEL_4a6ed7392c464a18972ab1098b877560",
              "IPY_MODEL_62072c163ca04b2bb330cef431177e53"
            ],
            "layout": "IPY_MODEL_6653b42ff78c458a9e672f42ef67c6dd"
          }
        },
        "2a351fbda0d7466c98a14642c50199d2": {
          "model_module": "@jupyter-widgets/controls",
          "model_name": "HTMLModel",
          "model_module_version": "1.5.0",
          "state": {
            "_dom_classes": [],
            "_model_module": "@jupyter-widgets/controls",
            "_model_module_version": "1.5.0",
            "_model_name": "HTMLModel",
            "_view_count": null,
            "_view_module": "@jupyter-widgets/controls",
            "_view_module_version": "1.5.0",
            "_view_name": "HTMLView",
            "description": "",
            "description_tooltip": null,
            "layout": "IPY_MODEL_de780547cdd84856bb521ff9deb69f91",
            "placeholder": "​",
            "style": "IPY_MODEL_dbd62d12a65346ecaae24ff5118e8a8e",
            "value": "Downloading data: 100%"
          }
        },
        "4a6ed7392c464a18972ab1098b877560": {
          "model_module": "@jupyter-widgets/controls",
          "model_name": "FloatProgressModel",
          "model_module_version": "1.5.0",
          "state": {
            "_dom_classes": [],
            "_model_module": "@jupyter-widgets/controls",
            "_model_module_version": "1.5.0",
            "_model_name": "FloatProgressModel",
            "_view_count": null,
            "_view_module": "@jupyter-widgets/controls",
            "_view_module_version": "1.5.0",
            "_view_name": "ProgressView",
            "bar_style": "success",
            "description": "",
            "description_tooltip": null,
            "layout": "IPY_MODEL_4c931325cc3f4116a0f47b76eef6e085",
            "max": 74935,
            "min": 0,
            "orientation": "horizontal",
            "style": "IPY_MODEL_78eda5fa3926454499b679c7b53ff538",
            "value": 74935
          }
        },
        "62072c163ca04b2bb330cef431177e53": {
          "model_module": "@jupyter-widgets/controls",
          "model_name": "HTMLModel",
          "model_module_version": "1.5.0",
          "state": {
            "_dom_classes": [],
            "_model_module": "@jupyter-widgets/controls",
            "_model_module_version": "1.5.0",
            "_model_name": "HTMLModel",
            "_view_count": null,
            "_view_module": "@jupyter-widgets/controls",
            "_view_module_version": "1.5.0",
            "_view_name": "HTMLView",
            "description": "",
            "description_tooltip": null,
            "layout": "IPY_MODEL_6f2a9d68738f4beba7132c2c720fc09e",
            "placeholder": "​",
            "style": "IPY_MODEL_97f742af5c95406f9d2d70e1e829e2d1",
            "value": " 74.9k/74.9k [00:00&lt;00:00, 1.92MB/s]"
          }
        },
        "6653b42ff78c458a9e672f42ef67c6dd": {
          "model_module": "@jupyter-widgets/base",
          "model_name": "LayoutModel",
          "model_module_version": "1.2.0",
          "state": {
            "_model_module": "@jupyter-widgets/base",
            "_model_module_version": "1.2.0",
            "_model_name": "LayoutModel",
            "_view_count": null,
            "_view_module": "@jupyter-widgets/base",
            "_view_module_version": "1.2.0",
            "_view_name": "LayoutView",
            "align_content": null,
            "align_items": null,
            "align_self": null,
            "border": null,
            "bottom": null,
            "display": null,
            "flex": null,
            "flex_flow": null,
            "grid_area": null,
            "grid_auto_columns": null,
            "grid_auto_flow": null,
            "grid_auto_rows": null,
            "grid_column": null,
            "grid_gap": null,
            "grid_row": null,
            "grid_template_areas": null,
            "grid_template_columns": null,
            "grid_template_rows": null,
            "height": null,
            "justify_content": null,
            "justify_items": null,
            "left": null,
            "margin": null,
            "max_height": null,
            "max_width": null,
            "min_height": null,
            "min_width": null,
            "object_fit": null,
            "object_position": null,
            "order": null,
            "overflow": null,
            "overflow_x": null,
            "overflow_y": null,
            "padding": null,
            "right": null,
            "top": null,
            "visibility": null,
            "width": null
          }
        },
        "de780547cdd84856bb521ff9deb69f91": {
          "model_module": "@jupyter-widgets/base",
          "model_name": "LayoutModel",
          "model_module_version": "1.2.0",
          "state": {
            "_model_module": "@jupyter-widgets/base",
            "_model_module_version": "1.2.0",
            "_model_name": "LayoutModel",
            "_view_count": null,
            "_view_module": "@jupyter-widgets/base",
            "_view_module_version": "1.2.0",
            "_view_name": "LayoutView",
            "align_content": null,
            "align_items": null,
            "align_self": null,
            "border": null,
            "bottom": null,
            "display": null,
            "flex": null,
            "flex_flow": null,
            "grid_area": null,
            "grid_auto_columns": null,
            "grid_auto_flow": null,
            "grid_auto_rows": null,
            "grid_column": null,
            "grid_gap": null,
            "grid_row": null,
            "grid_template_areas": null,
            "grid_template_columns": null,
            "grid_template_rows": null,
            "height": null,
            "justify_content": null,
            "justify_items": null,
            "left": null,
            "margin": null,
            "max_height": null,
            "max_width": null,
            "min_height": null,
            "min_width": null,
            "object_fit": null,
            "object_position": null,
            "order": null,
            "overflow": null,
            "overflow_x": null,
            "overflow_y": null,
            "padding": null,
            "right": null,
            "top": null,
            "visibility": null,
            "width": null
          }
        },
        "dbd62d12a65346ecaae24ff5118e8a8e": {
          "model_module": "@jupyter-widgets/controls",
          "model_name": "DescriptionStyleModel",
          "model_module_version": "1.5.0",
          "state": {
            "_model_module": "@jupyter-widgets/controls",
            "_model_module_version": "1.5.0",
            "_model_name": "DescriptionStyleModel",
            "_view_count": null,
            "_view_module": "@jupyter-widgets/base",
            "_view_module_version": "1.2.0",
            "_view_name": "StyleView",
            "description_width": ""
          }
        },
        "4c931325cc3f4116a0f47b76eef6e085": {
          "model_module": "@jupyter-widgets/base",
          "model_name": "LayoutModel",
          "model_module_version": "1.2.0",
          "state": {
            "_model_module": "@jupyter-widgets/base",
            "_model_module_version": "1.2.0",
            "_model_name": "LayoutModel",
            "_view_count": null,
            "_view_module": "@jupyter-widgets/base",
            "_view_module_version": "1.2.0",
            "_view_name": "LayoutView",
            "align_content": null,
            "align_items": null,
            "align_self": null,
            "border": null,
            "bottom": null,
            "display": null,
            "flex": null,
            "flex_flow": null,
            "grid_area": null,
            "grid_auto_columns": null,
            "grid_auto_flow": null,
            "grid_auto_rows": null,
            "grid_column": null,
            "grid_gap": null,
            "grid_row": null,
            "grid_template_areas": null,
            "grid_template_columns": null,
            "grid_template_rows": null,
            "height": null,
            "justify_content": null,
            "justify_items": null,
            "left": null,
            "margin": null,
            "max_height": null,
            "max_width": null,
            "min_height": null,
            "min_width": null,
            "object_fit": null,
            "object_position": null,
            "order": null,
            "overflow": null,
            "overflow_x": null,
            "overflow_y": null,
            "padding": null,
            "right": null,
            "top": null,
            "visibility": null,
            "width": null
          }
        },
        "78eda5fa3926454499b679c7b53ff538": {
          "model_module": "@jupyter-widgets/controls",
          "model_name": "ProgressStyleModel",
          "model_module_version": "1.5.0",
          "state": {
            "_model_module": "@jupyter-widgets/controls",
            "_model_module_version": "1.5.0",
            "_model_name": "ProgressStyleModel",
            "_view_count": null,
            "_view_module": "@jupyter-widgets/base",
            "_view_module_version": "1.2.0",
            "_view_name": "StyleView",
            "bar_color": null,
            "description_width": ""
          }
        },
        "6f2a9d68738f4beba7132c2c720fc09e": {
          "model_module": "@jupyter-widgets/base",
          "model_name": "LayoutModel",
          "model_module_version": "1.2.0",
          "state": {
            "_model_module": "@jupyter-widgets/base",
            "_model_module_version": "1.2.0",
            "_model_name": "LayoutModel",
            "_view_count": null,
            "_view_module": "@jupyter-widgets/base",
            "_view_module_version": "1.2.0",
            "_view_name": "LayoutView",
            "align_content": null,
            "align_items": null,
            "align_self": null,
            "border": null,
            "bottom": null,
            "display": null,
            "flex": null,
            "flex_flow": null,
            "grid_area": null,
            "grid_auto_columns": null,
            "grid_auto_flow": null,
            "grid_auto_rows": null,
            "grid_column": null,
            "grid_gap": null,
            "grid_row": null,
            "grid_template_areas": null,
            "grid_template_columns": null,
            "grid_template_rows": null,
            "height": null,
            "justify_content": null,
            "justify_items": null,
            "left": null,
            "margin": null,
            "max_height": null,
            "max_width": null,
            "min_height": null,
            "min_width": null,
            "object_fit": null,
            "object_position": null,
            "order": null,
            "overflow": null,
            "overflow_x": null,
            "overflow_y": null,
            "padding": null,
            "right": null,
            "top": null,
            "visibility": null,
            "width": null
          }
        },
        "97f742af5c95406f9d2d70e1e829e2d1": {
          "model_module": "@jupyter-widgets/controls",
          "model_name": "DescriptionStyleModel",
          "model_module_version": "1.5.0",
          "state": {
            "_model_module": "@jupyter-widgets/controls",
            "_model_module_version": "1.5.0",
            "_model_name": "DescriptionStyleModel",
            "_view_count": null,
            "_view_module": "@jupyter-widgets/base",
            "_view_module_version": "1.2.0",
            "_view_name": "StyleView",
            "description_width": ""
          }
        },
        "5a9525c69e6a40e690bfbc0e2d0df88e": {
          "model_module": "@jupyter-widgets/controls",
          "model_name": "HBoxModel",
          "model_module_version": "1.5.0",
          "state": {
            "_dom_classes": [],
            "_model_module": "@jupyter-widgets/controls",
            "_model_module_version": "1.5.0",
            "_model_name": "HBoxModel",
            "_view_count": null,
            "_view_module": "@jupyter-widgets/controls",
            "_view_module_version": "1.5.0",
            "_view_name": "HBoxView",
            "box_style": "",
            "children": [
              "IPY_MODEL_16e2a54e0767475c9da069da849b7864",
              "IPY_MODEL_d14477349f8a49599edfe3aeb64673e0",
              "IPY_MODEL_ab72d06ed1c04f86b546171f982cabac"
            ],
            "layout": "IPY_MODEL_2e52fb347f244316971aebc2b46e680a"
          }
        },
        "16e2a54e0767475c9da069da849b7864": {
          "model_module": "@jupyter-widgets/controls",
          "model_name": "HTMLModel",
          "model_module_version": "1.5.0",
          "state": {
            "_dom_classes": [],
            "_model_module": "@jupyter-widgets/controls",
            "_model_module_version": "1.5.0",
            "_model_name": "HTMLModel",
            "_view_count": null,
            "_view_module": "@jupyter-widgets/controls",
            "_view_module_version": "1.5.0",
            "_view_name": "HTMLView",
            "description": "",
            "description_tooltip": null,
            "layout": "IPY_MODEL_fe3e1474217c4252bc8ac252ce622d62",
            "placeholder": "​",
            "style": "IPY_MODEL_c0a9ae581db14bc08c7b06a3f1e0e88f",
            "value": "Generating train split: 100%"
          }
        },
        "d14477349f8a49599edfe3aeb64673e0": {
          "model_module": "@jupyter-widgets/controls",
          "model_name": "FloatProgressModel",
          "model_module_version": "1.5.0",
          "state": {
            "_dom_classes": [],
            "_model_module": "@jupyter-widgets/controls",
            "_model_module_version": "1.5.0",
            "_model_name": "FloatProgressModel",
            "_view_count": null,
            "_view_module": "@jupyter-widgets/controls",
            "_view_module_version": "1.5.0",
            "_view_name": "ProgressView",
            "bar_style": "success",
            "description": "",
            "description_tooltip": null,
            "layout": "IPY_MODEL_89a27485d0724f0a9df023c686e3107c",
            "max": 16000,
            "min": 0,
            "orientation": "horizontal",
            "style": "IPY_MODEL_c6e89d4d8b264d348456c3a43ed23164",
            "value": 16000
          }
        },
        "ab72d06ed1c04f86b546171f982cabac": {
          "model_module": "@jupyter-widgets/controls",
          "model_name": "HTMLModel",
          "model_module_version": "1.5.0",
          "state": {
            "_dom_classes": [],
            "_model_module": "@jupyter-widgets/controls",
            "_model_module_version": "1.5.0",
            "_model_name": "HTMLModel",
            "_view_count": null,
            "_view_module": "@jupyter-widgets/controls",
            "_view_module_version": "1.5.0",
            "_view_name": "HTMLView",
            "description": "",
            "description_tooltip": null,
            "layout": "IPY_MODEL_850a83d5581745adac3a2be9fd06147c",
            "placeholder": "​",
            "style": "IPY_MODEL_1e0b4927904c46e88313df73f6238b5b",
            "value": " 16000/16000 [00:01&lt;00:00, 11851.36 examples/s]"
          }
        },
        "2e52fb347f244316971aebc2b46e680a": {
          "model_module": "@jupyter-widgets/base",
          "model_name": "LayoutModel",
          "model_module_version": "1.2.0",
          "state": {
            "_model_module": "@jupyter-widgets/base",
            "_model_module_version": "1.2.0",
            "_model_name": "LayoutModel",
            "_view_count": null,
            "_view_module": "@jupyter-widgets/base",
            "_view_module_version": "1.2.0",
            "_view_name": "LayoutView",
            "align_content": null,
            "align_items": null,
            "align_self": null,
            "border": null,
            "bottom": null,
            "display": null,
            "flex": null,
            "flex_flow": null,
            "grid_area": null,
            "grid_auto_columns": null,
            "grid_auto_flow": null,
            "grid_auto_rows": null,
            "grid_column": null,
            "grid_gap": null,
            "grid_row": null,
            "grid_template_areas": null,
            "grid_template_columns": null,
            "grid_template_rows": null,
            "height": null,
            "justify_content": null,
            "justify_items": null,
            "left": null,
            "margin": null,
            "max_height": null,
            "max_width": null,
            "min_height": null,
            "min_width": null,
            "object_fit": null,
            "object_position": null,
            "order": null,
            "overflow": null,
            "overflow_x": null,
            "overflow_y": null,
            "padding": null,
            "right": null,
            "top": null,
            "visibility": null,
            "width": null
          }
        },
        "fe3e1474217c4252bc8ac252ce622d62": {
          "model_module": "@jupyter-widgets/base",
          "model_name": "LayoutModel",
          "model_module_version": "1.2.0",
          "state": {
            "_model_module": "@jupyter-widgets/base",
            "_model_module_version": "1.2.0",
            "_model_name": "LayoutModel",
            "_view_count": null,
            "_view_module": "@jupyter-widgets/base",
            "_view_module_version": "1.2.0",
            "_view_name": "LayoutView",
            "align_content": null,
            "align_items": null,
            "align_self": null,
            "border": null,
            "bottom": null,
            "display": null,
            "flex": null,
            "flex_flow": null,
            "grid_area": null,
            "grid_auto_columns": null,
            "grid_auto_flow": null,
            "grid_auto_rows": null,
            "grid_column": null,
            "grid_gap": null,
            "grid_row": null,
            "grid_template_areas": null,
            "grid_template_columns": null,
            "grid_template_rows": null,
            "height": null,
            "justify_content": null,
            "justify_items": null,
            "left": null,
            "margin": null,
            "max_height": null,
            "max_width": null,
            "min_height": null,
            "min_width": null,
            "object_fit": null,
            "object_position": null,
            "order": null,
            "overflow": null,
            "overflow_x": null,
            "overflow_y": null,
            "padding": null,
            "right": null,
            "top": null,
            "visibility": null,
            "width": null
          }
        },
        "c0a9ae581db14bc08c7b06a3f1e0e88f": {
          "model_module": "@jupyter-widgets/controls",
          "model_name": "DescriptionStyleModel",
          "model_module_version": "1.5.0",
          "state": {
            "_model_module": "@jupyter-widgets/controls",
            "_model_module_version": "1.5.0",
            "_model_name": "DescriptionStyleModel",
            "_view_count": null,
            "_view_module": "@jupyter-widgets/base",
            "_view_module_version": "1.2.0",
            "_view_name": "StyleView",
            "description_width": ""
          }
        },
        "89a27485d0724f0a9df023c686e3107c": {
          "model_module": "@jupyter-widgets/base",
          "model_name": "LayoutModel",
          "model_module_version": "1.2.0",
          "state": {
            "_model_module": "@jupyter-widgets/base",
            "_model_module_version": "1.2.0",
            "_model_name": "LayoutModel",
            "_view_count": null,
            "_view_module": "@jupyter-widgets/base",
            "_view_module_version": "1.2.0",
            "_view_name": "LayoutView",
            "align_content": null,
            "align_items": null,
            "align_self": null,
            "border": null,
            "bottom": null,
            "display": null,
            "flex": null,
            "flex_flow": null,
            "grid_area": null,
            "grid_auto_columns": null,
            "grid_auto_flow": null,
            "grid_auto_rows": null,
            "grid_column": null,
            "grid_gap": null,
            "grid_row": null,
            "grid_template_areas": null,
            "grid_template_columns": null,
            "grid_template_rows": null,
            "height": null,
            "justify_content": null,
            "justify_items": null,
            "left": null,
            "margin": null,
            "max_height": null,
            "max_width": null,
            "min_height": null,
            "min_width": null,
            "object_fit": null,
            "object_position": null,
            "order": null,
            "overflow": null,
            "overflow_x": null,
            "overflow_y": null,
            "padding": null,
            "right": null,
            "top": null,
            "visibility": null,
            "width": null
          }
        },
        "c6e89d4d8b264d348456c3a43ed23164": {
          "model_module": "@jupyter-widgets/controls",
          "model_name": "ProgressStyleModel",
          "model_module_version": "1.5.0",
          "state": {
            "_model_module": "@jupyter-widgets/controls",
            "_model_module_version": "1.5.0",
            "_model_name": "ProgressStyleModel",
            "_view_count": null,
            "_view_module": "@jupyter-widgets/base",
            "_view_module_version": "1.2.0",
            "_view_name": "StyleView",
            "bar_color": null,
            "description_width": ""
          }
        },
        "850a83d5581745adac3a2be9fd06147c": {
          "model_module": "@jupyter-widgets/base",
          "model_name": "LayoutModel",
          "model_module_version": "1.2.0",
          "state": {
            "_model_module": "@jupyter-widgets/base",
            "_model_module_version": "1.2.0",
            "_model_name": "LayoutModel",
            "_view_count": null,
            "_view_module": "@jupyter-widgets/base",
            "_view_module_version": "1.2.0",
            "_view_name": "LayoutView",
            "align_content": null,
            "align_items": null,
            "align_self": null,
            "border": null,
            "bottom": null,
            "display": null,
            "flex": null,
            "flex_flow": null,
            "grid_area": null,
            "grid_auto_columns": null,
            "grid_auto_flow": null,
            "grid_auto_rows": null,
            "grid_column": null,
            "grid_gap": null,
            "grid_row": null,
            "grid_template_areas": null,
            "grid_template_columns": null,
            "grid_template_rows": null,
            "height": null,
            "justify_content": null,
            "justify_items": null,
            "left": null,
            "margin": null,
            "max_height": null,
            "max_width": null,
            "min_height": null,
            "min_width": null,
            "object_fit": null,
            "object_position": null,
            "order": null,
            "overflow": null,
            "overflow_x": null,
            "overflow_y": null,
            "padding": null,
            "right": null,
            "top": null,
            "visibility": null,
            "width": null
          }
        },
        "1e0b4927904c46e88313df73f6238b5b": {
          "model_module": "@jupyter-widgets/controls",
          "model_name": "DescriptionStyleModel",
          "model_module_version": "1.5.0",
          "state": {
            "_model_module": "@jupyter-widgets/controls",
            "_model_module_version": "1.5.0",
            "_model_name": "DescriptionStyleModel",
            "_view_count": null,
            "_view_module": "@jupyter-widgets/base",
            "_view_module_version": "1.2.0",
            "_view_name": "StyleView",
            "description_width": ""
          }
        },
        "4cf6f7b435694055b3230318fa6d7446": {
          "model_module": "@jupyter-widgets/controls",
          "model_name": "HBoxModel",
          "model_module_version": "1.5.0",
          "state": {
            "_dom_classes": [],
            "_model_module": "@jupyter-widgets/controls",
            "_model_module_version": "1.5.0",
            "_model_name": "HBoxModel",
            "_view_count": null,
            "_view_module": "@jupyter-widgets/controls",
            "_view_module_version": "1.5.0",
            "_view_name": "HBoxView",
            "box_style": "",
            "children": [
              "IPY_MODEL_b7603de9a2a841098a83dccd59250eca",
              "IPY_MODEL_28438b74509d441c8c6a9589df14ec60",
              "IPY_MODEL_490554ee7d454fd989eadbd7c4950961"
            ],
            "layout": "IPY_MODEL_82c0d97747414f45815d5ef90f34bacd"
          }
        },
        "b7603de9a2a841098a83dccd59250eca": {
          "model_module": "@jupyter-widgets/controls",
          "model_name": "HTMLModel",
          "model_module_version": "1.5.0",
          "state": {
            "_dom_classes": [],
            "_model_module": "@jupyter-widgets/controls",
            "_model_module_version": "1.5.0",
            "_model_name": "HTMLModel",
            "_view_count": null,
            "_view_module": "@jupyter-widgets/controls",
            "_view_module_version": "1.5.0",
            "_view_name": "HTMLView",
            "description": "",
            "description_tooltip": null,
            "layout": "IPY_MODEL_8abc72dc522e4045978343163010d001",
            "placeholder": "​",
            "style": "IPY_MODEL_823d986b470a45848cece3a472cd0542",
            "value": "Generating validation split: 100%"
          }
        },
        "28438b74509d441c8c6a9589df14ec60": {
          "model_module": "@jupyter-widgets/controls",
          "model_name": "FloatProgressModel",
          "model_module_version": "1.5.0",
          "state": {
            "_dom_classes": [],
            "_model_module": "@jupyter-widgets/controls",
            "_model_module_version": "1.5.0",
            "_model_name": "FloatProgressModel",
            "_view_count": null,
            "_view_module": "@jupyter-widgets/controls",
            "_view_module_version": "1.5.0",
            "_view_name": "ProgressView",
            "bar_style": "success",
            "description": "",
            "description_tooltip": null,
            "layout": "IPY_MODEL_966b5c2420694358a8888be9d4f1c84e",
            "max": 2000,
            "min": 0,
            "orientation": "horizontal",
            "style": "IPY_MODEL_1c0d14c357614ba5bdd60bdd2a0b6b66",
            "value": 2000
          }
        },
        "490554ee7d454fd989eadbd7c4950961": {
          "model_module": "@jupyter-widgets/controls",
          "model_name": "HTMLModel",
          "model_module_version": "1.5.0",
          "state": {
            "_dom_classes": [],
            "_model_module": "@jupyter-widgets/controls",
            "_model_module_version": "1.5.0",
            "_model_name": "HTMLModel",
            "_view_count": null,
            "_view_module": "@jupyter-widgets/controls",
            "_view_module_version": "1.5.0",
            "_view_name": "HTMLView",
            "description": "",
            "description_tooltip": null,
            "layout": "IPY_MODEL_efdcfb86cb0849c1824aa3853661df7f",
            "placeholder": "​",
            "style": "IPY_MODEL_8844dae2e54342719fdc1e01d984cb32",
            "value": " 2000/2000 [00:00&lt;00:00, 8073.95 examples/s]"
          }
        },
        "82c0d97747414f45815d5ef90f34bacd": {
          "model_module": "@jupyter-widgets/base",
          "model_name": "LayoutModel",
          "model_module_version": "1.2.0",
          "state": {
            "_model_module": "@jupyter-widgets/base",
            "_model_module_version": "1.2.0",
            "_model_name": "LayoutModel",
            "_view_count": null,
            "_view_module": "@jupyter-widgets/base",
            "_view_module_version": "1.2.0",
            "_view_name": "LayoutView",
            "align_content": null,
            "align_items": null,
            "align_self": null,
            "border": null,
            "bottom": null,
            "display": null,
            "flex": null,
            "flex_flow": null,
            "grid_area": null,
            "grid_auto_columns": null,
            "grid_auto_flow": null,
            "grid_auto_rows": null,
            "grid_column": null,
            "grid_gap": null,
            "grid_row": null,
            "grid_template_areas": null,
            "grid_template_columns": null,
            "grid_template_rows": null,
            "height": null,
            "justify_content": null,
            "justify_items": null,
            "left": null,
            "margin": null,
            "max_height": null,
            "max_width": null,
            "min_height": null,
            "min_width": null,
            "object_fit": null,
            "object_position": null,
            "order": null,
            "overflow": null,
            "overflow_x": null,
            "overflow_y": null,
            "padding": null,
            "right": null,
            "top": null,
            "visibility": null,
            "width": null
          }
        },
        "8abc72dc522e4045978343163010d001": {
          "model_module": "@jupyter-widgets/base",
          "model_name": "LayoutModel",
          "model_module_version": "1.2.0",
          "state": {
            "_model_module": "@jupyter-widgets/base",
            "_model_module_version": "1.2.0",
            "_model_name": "LayoutModel",
            "_view_count": null,
            "_view_module": "@jupyter-widgets/base",
            "_view_module_version": "1.2.0",
            "_view_name": "LayoutView",
            "align_content": null,
            "align_items": null,
            "align_self": null,
            "border": null,
            "bottom": null,
            "display": null,
            "flex": null,
            "flex_flow": null,
            "grid_area": null,
            "grid_auto_columns": null,
            "grid_auto_flow": null,
            "grid_auto_rows": null,
            "grid_column": null,
            "grid_gap": null,
            "grid_row": null,
            "grid_template_areas": null,
            "grid_template_columns": null,
            "grid_template_rows": null,
            "height": null,
            "justify_content": null,
            "justify_items": null,
            "left": null,
            "margin": null,
            "max_height": null,
            "max_width": null,
            "min_height": null,
            "min_width": null,
            "object_fit": null,
            "object_position": null,
            "order": null,
            "overflow": null,
            "overflow_x": null,
            "overflow_y": null,
            "padding": null,
            "right": null,
            "top": null,
            "visibility": null,
            "width": null
          }
        },
        "823d986b470a45848cece3a472cd0542": {
          "model_module": "@jupyter-widgets/controls",
          "model_name": "DescriptionStyleModel",
          "model_module_version": "1.5.0",
          "state": {
            "_model_module": "@jupyter-widgets/controls",
            "_model_module_version": "1.5.0",
            "_model_name": "DescriptionStyleModel",
            "_view_count": null,
            "_view_module": "@jupyter-widgets/base",
            "_view_module_version": "1.2.0",
            "_view_name": "StyleView",
            "description_width": ""
          }
        },
        "966b5c2420694358a8888be9d4f1c84e": {
          "model_module": "@jupyter-widgets/base",
          "model_name": "LayoutModel",
          "model_module_version": "1.2.0",
          "state": {
            "_model_module": "@jupyter-widgets/base",
            "_model_module_version": "1.2.0",
            "_model_name": "LayoutModel",
            "_view_count": null,
            "_view_module": "@jupyter-widgets/base",
            "_view_module_version": "1.2.0",
            "_view_name": "LayoutView",
            "align_content": null,
            "align_items": null,
            "align_self": null,
            "border": null,
            "bottom": null,
            "display": null,
            "flex": null,
            "flex_flow": null,
            "grid_area": null,
            "grid_auto_columns": null,
            "grid_auto_flow": null,
            "grid_auto_rows": null,
            "grid_column": null,
            "grid_gap": null,
            "grid_row": null,
            "grid_template_areas": null,
            "grid_template_columns": null,
            "grid_template_rows": null,
            "height": null,
            "justify_content": null,
            "justify_items": null,
            "left": null,
            "margin": null,
            "max_height": null,
            "max_width": null,
            "min_height": null,
            "min_width": null,
            "object_fit": null,
            "object_position": null,
            "order": null,
            "overflow": null,
            "overflow_x": null,
            "overflow_y": null,
            "padding": null,
            "right": null,
            "top": null,
            "visibility": null,
            "width": null
          }
        },
        "1c0d14c357614ba5bdd60bdd2a0b6b66": {
          "model_module": "@jupyter-widgets/controls",
          "model_name": "ProgressStyleModel",
          "model_module_version": "1.5.0",
          "state": {
            "_model_module": "@jupyter-widgets/controls",
            "_model_module_version": "1.5.0",
            "_model_name": "ProgressStyleModel",
            "_view_count": null,
            "_view_module": "@jupyter-widgets/base",
            "_view_module_version": "1.2.0",
            "_view_name": "StyleView",
            "bar_color": null,
            "description_width": ""
          }
        },
        "efdcfb86cb0849c1824aa3853661df7f": {
          "model_module": "@jupyter-widgets/base",
          "model_name": "LayoutModel",
          "model_module_version": "1.2.0",
          "state": {
            "_model_module": "@jupyter-widgets/base",
            "_model_module_version": "1.2.0",
            "_model_name": "LayoutModel",
            "_view_count": null,
            "_view_module": "@jupyter-widgets/base",
            "_view_module_version": "1.2.0",
            "_view_name": "LayoutView",
            "align_content": null,
            "align_items": null,
            "align_self": null,
            "border": null,
            "bottom": null,
            "display": null,
            "flex": null,
            "flex_flow": null,
            "grid_area": null,
            "grid_auto_columns": null,
            "grid_auto_flow": null,
            "grid_auto_rows": null,
            "grid_column": null,
            "grid_gap": null,
            "grid_row": null,
            "grid_template_areas": null,
            "grid_template_columns": null,
            "grid_template_rows": null,
            "height": null,
            "justify_content": null,
            "justify_items": null,
            "left": null,
            "margin": null,
            "max_height": null,
            "max_width": null,
            "min_height": null,
            "min_width": null,
            "object_fit": null,
            "object_position": null,
            "order": null,
            "overflow": null,
            "overflow_x": null,
            "overflow_y": null,
            "padding": null,
            "right": null,
            "top": null,
            "visibility": null,
            "width": null
          }
        },
        "8844dae2e54342719fdc1e01d984cb32": {
          "model_module": "@jupyter-widgets/controls",
          "model_name": "DescriptionStyleModel",
          "model_module_version": "1.5.0",
          "state": {
            "_model_module": "@jupyter-widgets/controls",
            "_model_module_version": "1.5.0",
            "_model_name": "DescriptionStyleModel",
            "_view_count": null,
            "_view_module": "@jupyter-widgets/base",
            "_view_module_version": "1.2.0",
            "_view_name": "StyleView",
            "description_width": ""
          }
        },
        "6e81efb5f2c7450bb91e837bbf878b1a": {
          "model_module": "@jupyter-widgets/controls",
          "model_name": "HBoxModel",
          "model_module_version": "1.5.0",
          "state": {
            "_dom_classes": [],
            "_model_module": "@jupyter-widgets/controls",
            "_model_module_version": "1.5.0",
            "_model_name": "HBoxModel",
            "_view_count": null,
            "_view_module": "@jupyter-widgets/controls",
            "_view_module_version": "1.5.0",
            "_view_name": "HBoxView",
            "box_style": "",
            "children": [
              "IPY_MODEL_d83eb8528d3849d6bd79feca5ec3e7f7",
              "IPY_MODEL_5afc84bb87034e69a4df0417bf561671",
              "IPY_MODEL_168222fc2a7041f9bd1c8f0739a49dbe"
            ],
            "layout": "IPY_MODEL_3264ff4712d441cab7cfd91d6bdbf537"
          }
        },
        "d83eb8528d3849d6bd79feca5ec3e7f7": {
          "model_module": "@jupyter-widgets/controls",
          "model_name": "HTMLModel",
          "model_module_version": "1.5.0",
          "state": {
            "_dom_classes": [],
            "_model_module": "@jupyter-widgets/controls",
            "_model_module_version": "1.5.0",
            "_model_name": "HTMLModel",
            "_view_count": null,
            "_view_module": "@jupyter-widgets/controls",
            "_view_module_version": "1.5.0",
            "_view_name": "HTMLView",
            "description": "",
            "description_tooltip": null,
            "layout": "IPY_MODEL_b589654e61494840bc308491f934fffa",
            "placeholder": "​",
            "style": "IPY_MODEL_6a923b82a91548a9a35e96a61f1f3826",
            "value": "Generating test split: 100%"
          }
        },
        "5afc84bb87034e69a4df0417bf561671": {
          "model_module": "@jupyter-widgets/controls",
          "model_name": "FloatProgressModel",
          "model_module_version": "1.5.0",
          "state": {
            "_dom_classes": [],
            "_model_module": "@jupyter-widgets/controls",
            "_model_module_version": "1.5.0",
            "_model_name": "FloatProgressModel",
            "_view_count": null,
            "_view_module": "@jupyter-widgets/controls",
            "_view_module_version": "1.5.0",
            "_view_name": "ProgressView",
            "bar_style": "success",
            "description": "",
            "description_tooltip": null,
            "layout": "IPY_MODEL_80c2d93841224dd2afc4ac21c8bdc09f",
            "max": 2000,
            "min": 0,
            "orientation": "horizontal",
            "style": "IPY_MODEL_d7156d9f59164b5d9aecd4693c839ea7",
            "value": 2000
          }
        },
        "168222fc2a7041f9bd1c8f0739a49dbe": {
          "model_module": "@jupyter-widgets/controls",
          "model_name": "HTMLModel",
          "model_module_version": "1.5.0",
          "state": {
            "_dom_classes": [],
            "_model_module": "@jupyter-widgets/controls",
            "_model_module_version": "1.5.0",
            "_model_name": "HTMLModel",
            "_view_count": null,
            "_view_module": "@jupyter-widgets/controls",
            "_view_module_version": "1.5.0",
            "_view_name": "HTMLView",
            "description": "",
            "description_tooltip": null,
            "layout": "IPY_MODEL_74273e3348d24babbddf56406fdd3dd3",
            "placeholder": "​",
            "style": "IPY_MODEL_abe19fee2cf14d66819182a0749bbf28",
            "value": " 2000/2000 [00:00&lt;00:00, 5427.98 examples/s]"
          }
        },
        "3264ff4712d441cab7cfd91d6bdbf537": {
          "model_module": "@jupyter-widgets/base",
          "model_name": "LayoutModel",
          "model_module_version": "1.2.0",
          "state": {
            "_model_module": "@jupyter-widgets/base",
            "_model_module_version": "1.2.0",
            "_model_name": "LayoutModel",
            "_view_count": null,
            "_view_module": "@jupyter-widgets/base",
            "_view_module_version": "1.2.0",
            "_view_name": "LayoutView",
            "align_content": null,
            "align_items": null,
            "align_self": null,
            "border": null,
            "bottom": null,
            "display": null,
            "flex": null,
            "flex_flow": null,
            "grid_area": null,
            "grid_auto_columns": null,
            "grid_auto_flow": null,
            "grid_auto_rows": null,
            "grid_column": null,
            "grid_gap": null,
            "grid_row": null,
            "grid_template_areas": null,
            "grid_template_columns": null,
            "grid_template_rows": null,
            "height": null,
            "justify_content": null,
            "justify_items": null,
            "left": null,
            "margin": null,
            "max_height": null,
            "max_width": null,
            "min_height": null,
            "min_width": null,
            "object_fit": null,
            "object_position": null,
            "order": null,
            "overflow": null,
            "overflow_x": null,
            "overflow_y": null,
            "padding": null,
            "right": null,
            "top": null,
            "visibility": null,
            "width": null
          }
        },
        "b589654e61494840bc308491f934fffa": {
          "model_module": "@jupyter-widgets/base",
          "model_name": "LayoutModel",
          "model_module_version": "1.2.0",
          "state": {
            "_model_module": "@jupyter-widgets/base",
            "_model_module_version": "1.2.0",
            "_model_name": "LayoutModel",
            "_view_count": null,
            "_view_module": "@jupyter-widgets/base",
            "_view_module_version": "1.2.0",
            "_view_name": "LayoutView",
            "align_content": null,
            "align_items": null,
            "align_self": null,
            "border": null,
            "bottom": null,
            "display": null,
            "flex": null,
            "flex_flow": null,
            "grid_area": null,
            "grid_auto_columns": null,
            "grid_auto_flow": null,
            "grid_auto_rows": null,
            "grid_column": null,
            "grid_gap": null,
            "grid_row": null,
            "grid_template_areas": null,
            "grid_template_columns": null,
            "grid_template_rows": null,
            "height": null,
            "justify_content": null,
            "justify_items": null,
            "left": null,
            "margin": null,
            "max_height": null,
            "max_width": null,
            "min_height": null,
            "min_width": null,
            "object_fit": null,
            "object_position": null,
            "order": null,
            "overflow": null,
            "overflow_x": null,
            "overflow_y": null,
            "padding": null,
            "right": null,
            "top": null,
            "visibility": null,
            "width": null
          }
        },
        "6a923b82a91548a9a35e96a61f1f3826": {
          "model_module": "@jupyter-widgets/controls",
          "model_name": "DescriptionStyleModel",
          "model_module_version": "1.5.0",
          "state": {
            "_model_module": "@jupyter-widgets/controls",
            "_model_module_version": "1.5.0",
            "_model_name": "DescriptionStyleModel",
            "_view_count": null,
            "_view_module": "@jupyter-widgets/base",
            "_view_module_version": "1.2.0",
            "_view_name": "StyleView",
            "description_width": ""
          }
        },
        "80c2d93841224dd2afc4ac21c8bdc09f": {
          "model_module": "@jupyter-widgets/base",
          "model_name": "LayoutModel",
          "model_module_version": "1.2.0",
          "state": {
            "_model_module": "@jupyter-widgets/base",
            "_model_module_version": "1.2.0",
            "_model_name": "LayoutModel",
            "_view_count": null,
            "_view_module": "@jupyter-widgets/base",
            "_view_module_version": "1.2.0",
            "_view_name": "LayoutView",
            "align_content": null,
            "align_items": null,
            "align_self": null,
            "border": null,
            "bottom": null,
            "display": null,
            "flex": null,
            "flex_flow": null,
            "grid_area": null,
            "grid_auto_columns": null,
            "grid_auto_flow": null,
            "grid_auto_rows": null,
            "grid_column": null,
            "grid_gap": null,
            "grid_row": null,
            "grid_template_areas": null,
            "grid_template_columns": null,
            "grid_template_rows": null,
            "height": null,
            "justify_content": null,
            "justify_items": null,
            "left": null,
            "margin": null,
            "max_height": null,
            "max_width": null,
            "min_height": null,
            "min_width": null,
            "object_fit": null,
            "object_position": null,
            "order": null,
            "overflow": null,
            "overflow_x": null,
            "overflow_y": null,
            "padding": null,
            "right": null,
            "top": null,
            "visibility": null,
            "width": null
          }
        },
        "d7156d9f59164b5d9aecd4693c839ea7": {
          "model_module": "@jupyter-widgets/controls",
          "model_name": "ProgressStyleModel",
          "model_module_version": "1.5.0",
          "state": {
            "_model_module": "@jupyter-widgets/controls",
            "_model_module_version": "1.5.0",
            "_model_name": "ProgressStyleModel",
            "_view_count": null,
            "_view_module": "@jupyter-widgets/base",
            "_view_module_version": "1.2.0",
            "_view_name": "StyleView",
            "bar_color": null,
            "description_width": ""
          }
        },
        "74273e3348d24babbddf56406fdd3dd3": {
          "model_module": "@jupyter-widgets/base",
          "model_name": "LayoutModel",
          "model_module_version": "1.2.0",
          "state": {
            "_model_module": "@jupyter-widgets/base",
            "_model_module_version": "1.2.0",
            "_model_name": "LayoutModel",
            "_view_count": null,
            "_view_module": "@jupyter-widgets/base",
            "_view_module_version": "1.2.0",
            "_view_name": "LayoutView",
            "align_content": null,
            "align_items": null,
            "align_self": null,
            "border": null,
            "bottom": null,
            "display": null,
            "flex": null,
            "flex_flow": null,
            "grid_area": null,
            "grid_auto_columns": null,
            "grid_auto_flow": null,
            "grid_auto_rows": null,
            "grid_column": null,
            "grid_gap": null,
            "grid_row": null,
            "grid_template_areas": null,
            "grid_template_columns": null,
            "grid_template_rows": null,
            "height": null,
            "justify_content": null,
            "justify_items": null,
            "left": null,
            "margin": null,
            "max_height": null,
            "max_width": null,
            "min_height": null,
            "min_width": null,
            "object_fit": null,
            "object_position": null,
            "order": null,
            "overflow": null,
            "overflow_x": null,
            "overflow_y": null,
            "padding": null,
            "right": null,
            "top": null,
            "visibility": null,
            "width": null
          }
        },
        "abe19fee2cf14d66819182a0749bbf28": {
          "model_module": "@jupyter-widgets/controls",
          "model_name": "DescriptionStyleModel",
          "model_module_version": "1.5.0",
          "state": {
            "_model_module": "@jupyter-widgets/controls",
            "_model_module_version": "1.5.0",
            "_model_name": "DescriptionStyleModel",
            "_view_count": null,
            "_view_module": "@jupyter-widgets/base",
            "_view_module_version": "1.2.0",
            "_view_name": "StyleView",
            "description_width": ""
          }
        }
      }
    }
  },
  "cells": [
    {
      "cell_type": "markdown",
      "metadata": {
        "id": "sp7D0ktn5eiG"
      },
      "source": [
        "## Tweet Emotion Recognition: Natural Language Processing with TensorFlow\n",
        "\n",
        "---\n",
        "\n",
        "Dataset: [Tweet Emotion Dataset](https://github.com/dair-ai/emotion_dataset)\n"
      ]
    },
    {
      "cell_type": "markdown",
      "metadata": {
        "id": "cprXxkrMxIgT"
      },
      "source": [
        "## Task 2: Setup and Imports\n",
        "\n",
        "1. Installing Hugging Face's nlp package\n",
        "2. Importing libraries"
      ]
    },
    {
      "cell_type": "code",
      "metadata": {
        "id": "5agZRy-45i0g",
        "colab": {
          "base_uri": "https://localhost:8080/"
        },
        "outputId": "4cfb87b2-7a07-453c-8884-0e7110b8189d"
      },
      "source": [
        "!pip install nlp"
      ],
      "execution_count": 1,
      "outputs": [
        {
          "output_type": "stream",
          "name": "stdout",
          "text": [
            "Collecting nlp\n",
            "  Downloading nlp-0.4.0-py3-none-any.whl (1.7 MB)\n",
            "\u001b[2K     \u001b[90m━━━━━━━━━━━━━━━━━━━━━━━━━━━━━━━━━━━━━━━━\u001b[0m \u001b[32m1.7/1.7 MB\u001b[0m \u001b[31m14.7 MB/s\u001b[0m eta \u001b[36m0:00:00\u001b[0m\n",
            "\u001b[?25hRequirement already satisfied: numpy in /usr/local/lib/python3.10/dist-packages (from nlp) (1.25.2)\n",
            "Requirement already satisfied: pyarrow>=0.16.0 in /usr/local/lib/python3.10/dist-packages (from nlp) (14.0.2)\n",
            "Collecting dill (from nlp)\n",
            "  Downloading dill-0.3.8-py3-none-any.whl (116 kB)\n",
            "\u001b[2K     \u001b[90m━━━━━━━━━━━━━━━━━━━━━━━━━━━━━━━━━━━━━━━━\u001b[0m \u001b[32m116.3/116.3 kB\u001b[0m \u001b[31m15.5 MB/s\u001b[0m eta \u001b[36m0:00:00\u001b[0m\n",
            "\u001b[?25hRequirement already satisfied: pandas in /usr/local/lib/python3.10/dist-packages (from nlp) (2.0.3)\n",
            "Requirement already satisfied: requests>=2.19.0 in /usr/local/lib/python3.10/dist-packages (from nlp) (2.31.0)\n",
            "Requirement already satisfied: tqdm>=4.27 in /usr/local/lib/python3.10/dist-packages (from nlp) (4.66.2)\n",
            "Requirement already satisfied: filelock in /usr/local/lib/python3.10/dist-packages (from nlp) (3.14.0)\n",
            "Collecting xxhash (from nlp)\n",
            "  Downloading xxhash-3.4.1-cp310-cp310-manylinux_2_17_x86_64.manylinux2014_x86_64.whl (194 kB)\n",
            "\u001b[2K     \u001b[90m━━━━━━━━━━━━━━━━━━━━━━━━━━━━━━━━━━━━━━━━\u001b[0m \u001b[32m194.1/194.1 kB\u001b[0m \u001b[31m12.8 MB/s\u001b[0m eta \u001b[36m0:00:00\u001b[0m\n",
            "\u001b[?25hRequirement already satisfied: charset-normalizer<4,>=2 in /usr/local/lib/python3.10/dist-packages (from requests>=2.19.0->nlp) (3.3.2)\n",
            "Requirement already satisfied: idna<4,>=2.5 in /usr/local/lib/python3.10/dist-packages (from requests>=2.19.0->nlp) (3.7)\n",
            "Requirement already satisfied: urllib3<3,>=1.21.1 in /usr/local/lib/python3.10/dist-packages (from requests>=2.19.0->nlp) (2.0.7)\n",
            "Requirement already satisfied: certifi>=2017.4.17 in /usr/local/lib/python3.10/dist-packages (from requests>=2.19.0->nlp) (2024.2.2)\n",
            "Requirement already satisfied: python-dateutil>=2.8.2 in /usr/local/lib/python3.10/dist-packages (from pandas->nlp) (2.8.2)\n",
            "Requirement already satisfied: pytz>=2020.1 in /usr/local/lib/python3.10/dist-packages (from pandas->nlp) (2023.4)\n",
            "Requirement already satisfied: tzdata>=2022.1 in /usr/local/lib/python3.10/dist-packages (from pandas->nlp) (2024.1)\n",
            "Requirement already satisfied: six>=1.5 in /usr/local/lib/python3.10/dist-packages (from python-dateutil>=2.8.2->pandas->nlp) (1.16.0)\n",
            "Installing collected packages: xxhash, dill, nlp\n",
            "Successfully installed dill-0.3.8 nlp-0.4.0 xxhash-3.4.1\n"
          ]
        }
      ]
    },
    {
      "cell_type": "code",
      "metadata": {
        "id": "yKFjWz6e5eiH",
        "colab": {
          "base_uri": "https://localhost:8080/"
        },
        "outputId": "28384f22-c901-454c-f0bd-36453be0ab1c"
      },
      "source": [
        "%matplotlib inline\n",
        "\n",
        "import tensorflow as tf\n",
        "import numpy as np\n",
        "import matplotlib.pyplot as plt\n",
        "import nlp\n",
        "import random\n",
        "\n",
        "\n",
        "def show_history(h):\n",
        "    epochs_trained = len(h.history['loss'])\n",
        "    plt.figure(figsize=(16, 6))\n",
        "\n",
        "    plt.subplot(1, 2, 1)\n",
        "    plt.plot(range(0, epochs_trained), h.history.get('accuracy'), label='Training')\n",
        "    plt.plot(range(0, epochs_trained), h.history.get('val_accuracy'), label='Validation')\n",
        "    plt.ylim([0., 1.])\n",
        "    plt.xlabel('Epochs')\n",
        "    plt.ylabel('Accuracy')\n",
        "    plt.legend()\n",
        "\n",
        "    plt.subplot(1, 2, 2)\n",
        "    plt.plot(range(0, epochs_trained), h.history.get('loss'), label='Training')\n",
        "    plt.plot(range(0, epochs_trained), h.history.get('val_loss'), label='Validation')\n",
        "    plt.xlabel('Epochs')\n",
        "    plt.ylabel('Loss')\n",
        "    plt.legend()\n",
        "    plt.show()\n",
        "\n",
        "\n",
        "def show_confusion_matrix(y_true, y_pred, classes):\n",
        "    from sklearn.metrics import confusion_matrix\n",
        "\n",
        "    cm = confusion_matrix(y_true, y_pred, normalize='true')\n",
        "\n",
        "    plt.figure(figsize=(8, 8))\n",
        "    sp = plt.subplot(1, 1, 1)\n",
        "    ctx = sp.matshow(cm)\n",
        "    plt.xticks(list(range(0, 6)), labels=classes)\n",
        "    plt.yticks(list(range(0, 6)), labels=classes)\n",
        "    plt.colorbar(ctx)\n",
        "    plt.show()\n",
        "\n",
        "\n",
        "print('Using TensorFlow version', tf.__version__)"
      ],
      "execution_count": 2,
      "outputs": [
        {
          "output_type": "stream",
          "name": "stdout",
          "text": [
            "Using TensorFlow version 2.15.0\n"
          ]
        }
      ]
    },
    {
      "cell_type": "markdown",
      "metadata": {
        "id": "7JsBpezExIga"
      },
      "source": [
        "## Task 3: Importing Data\n",
        "\n",
        "1. Importing the Tweet Emotion dataset\n",
        "2. Creating train, validation and test sets\n",
        "3. Extracting tweets and labels from the examples"
      ]
    },
    {
      "cell_type": "code",
      "source": [
        "pip install datasets"
      ],
      "metadata": {
        "colab": {
          "base_uri": "https://localhost:8080/"
        },
        "id": "aWifpA7zLgFJ",
        "outputId": "1e552c3b-a60a-41de-bc72-ded0b80ef8ce"
      },
      "execution_count": 6,
      "outputs": [
        {
          "output_type": "stream",
          "name": "stdout",
          "text": [
            "Collecting datasets\n",
            "  Downloading datasets-2.19.0-py3-none-any.whl (542 kB)\n",
            "\u001b[2K     \u001b[90m━━━━━━━━━━━━━━━━━━━━━━━━━━━━━━━━━━━━━━━━\u001b[0m \u001b[32m542.0/542.0 kB\u001b[0m \u001b[31m7.1 MB/s\u001b[0m eta \u001b[36m0:00:00\u001b[0m\n",
            "\u001b[?25hRequirement already satisfied: filelock in /usr/local/lib/python3.10/dist-packages (from datasets) (3.14.0)\n",
            "Requirement already satisfied: numpy>=1.17 in /usr/local/lib/python3.10/dist-packages (from datasets) (1.25.2)\n",
            "Requirement already satisfied: pyarrow>=12.0.0 in /usr/local/lib/python3.10/dist-packages (from datasets) (14.0.2)\n",
            "Requirement already satisfied: pyarrow-hotfix in /usr/local/lib/python3.10/dist-packages (from datasets) (0.6)\n",
            "Requirement already satisfied: dill<0.3.9,>=0.3.0 in /usr/local/lib/python3.10/dist-packages (from datasets) (0.3.8)\n",
            "Requirement already satisfied: pandas in /usr/local/lib/python3.10/dist-packages (from datasets) (2.0.3)\n",
            "Requirement already satisfied: requests>=2.19.0 in /usr/local/lib/python3.10/dist-packages (from datasets) (2.31.0)\n",
            "Requirement already satisfied: tqdm>=4.62.1 in /usr/local/lib/python3.10/dist-packages (from datasets) (4.66.2)\n",
            "Requirement already satisfied: xxhash in /usr/local/lib/python3.10/dist-packages (from datasets) (3.4.1)\n",
            "Collecting multiprocess (from datasets)\n",
            "  Downloading multiprocess-0.70.16-py310-none-any.whl (134 kB)\n",
            "\u001b[2K     \u001b[90m━━━━━━━━━━━━━━━━━━━━━━━━━━━━━━━━━━━━━━━━\u001b[0m \u001b[32m134.8/134.8 kB\u001b[0m \u001b[31m13.1 MB/s\u001b[0m eta \u001b[36m0:00:00\u001b[0m\n",
            "\u001b[?25hRequirement already satisfied: fsspec[http]<=2024.3.1,>=2023.1.0 in /usr/local/lib/python3.10/dist-packages (from datasets) (2023.6.0)\n",
            "Requirement already satisfied: aiohttp in /usr/local/lib/python3.10/dist-packages (from datasets) (3.9.5)\n",
            "Collecting huggingface-hub>=0.21.2 (from datasets)\n",
            "  Downloading huggingface_hub-0.23.0-py3-none-any.whl (401 kB)\n",
            "\u001b[2K     \u001b[90m━━━━━━━━━━━━━━━━━━━━━━━━━━━━━━━━━━━━━━━━\u001b[0m \u001b[32m401.2/401.2 kB\u001b[0m \u001b[31m15.7 MB/s\u001b[0m eta \u001b[36m0:00:00\u001b[0m\n",
            "\u001b[?25hRequirement already satisfied: packaging in /usr/local/lib/python3.10/dist-packages (from datasets) (24.0)\n",
            "Requirement already satisfied: pyyaml>=5.1 in /usr/local/lib/python3.10/dist-packages (from datasets) (6.0.1)\n",
            "Requirement already satisfied: aiosignal>=1.1.2 in /usr/local/lib/python3.10/dist-packages (from aiohttp->datasets) (1.3.1)\n",
            "Requirement already satisfied: attrs>=17.3.0 in /usr/local/lib/python3.10/dist-packages (from aiohttp->datasets) (23.2.0)\n",
            "Requirement already satisfied: frozenlist>=1.1.1 in /usr/local/lib/python3.10/dist-packages (from aiohttp->datasets) (1.4.1)\n",
            "Requirement already satisfied: multidict<7.0,>=4.5 in /usr/local/lib/python3.10/dist-packages (from aiohttp->datasets) (6.0.5)\n",
            "Requirement already satisfied: yarl<2.0,>=1.0 in /usr/local/lib/python3.10/dist-packages (from aiohttp->datasets) (1.9.4)\n",
            "Requirement already satisfied: async-timeout<5.0,>=4.0 in /usr/local/lib/python3.10/dist-packages (from aiohttp->datasets) (4.0.3)\n",
            "Requirement already satisfied: typing-extensions>=3.7.4.3 in /usr/local/lib/python3.10/dist-packages (from huggingface-hub>=0.21.2->datasets) (4.11.0)\n",
            "Requirement already satisfied: charset-normalizer<4,>=2 in /usr/local/lib/python3.10/dist-packages (from requests>=2.19.0->datasets) (3.3.2)\n",
            "Requirement already satisfied: idna<4,>=2.5 in /usr/local/lib/python3.10/dist-packages (from requests>=2.19.0->datasets) (3.7)\n",
            "Requirement already satisfied: urllib3<3,>=1.21.1 in /usr/local/lib/python3.10/dist-packages (from requests>=2.19.0->datasets) (2.0.7)\n",
            "Requirement already satisfied: certifi>=2017.4.17 in /usr/local/lib/python3.10/dist-packages (from requests>=2.19.0->datasets) (2024.2.2)\n",
            "Requirement already satisfied: python-dateutil>=2.8.2 in /usr/local/lib/python3.10/dist-packages (from pandas->datasets) (2.8.2)\n",
            "Requirement already satisfied: pytz>=2020.1 in /usr/local/lib/python3.10/dist-packages (from pandas->datasets) (2023.4)\n",
            "Requirement already satisfied: tzdata>=2022.1 in /usr/local/lib/python3.10/dist-packages (from pandas->datasets) (2024.1)\n",
            "Requirement already satisfied: six>=1.5 in /usr/local/lib/python3.10/dist-packages (from python-dateutil>=2.8.2->pandas->datasets) (1.16.0)\n",
            "Installing collected packages: multiprocess, huggingface-hub, datasets\n",
            "  Attempting uninstall: huggingface-hub\n",
            "    Found existing installation: huggingface-hub 0.20.3\n",
            "    Uninstalling huggingface-hub-0.20.3:\n",
            "      Successfully uninstalled huggingface-hub-0.20.3\n",
            "Successfully installed datasets-2.19.0 huggingface-hub-0.23.0 multiprocess-0.70.16\n"
          ]
        }
      ]
    },
    {
      "cell_type": "code",
      "metadata": {
        "id": "0YHOvjAu5eiL",
        "colab": {
          "base_uri": "https://localhost:8080/",
          "height": 499,
          "referenced_widgets": [
            "17d2b0ae7e7846ec8eeff44ee8ac121a",
            "d79b64de8e0a4211aa1a921e60288687",
            "8f8cc761ce164c4dbb7f689f4aa33fd9",
            "3be471217a0d49aa9e959be7eb588110",
            "d1703b12297f47d7894fe617e3a9eb22",
            "006809f4788041a9acb355381350674d",
            "c0724dd4aede471ca8940c98b4ec838c",
            "cd9b2285b7544b41997b8640ee0ca9c2",
            "b0fab07b814746799a3294a2b5c139e7",
            "7578eabfe3c643e58ae48e7d55400bb4",
            "a45eac964e4747f2a93120e9078f4fbe",
            "0f2979fba32140968979221853afafa4",
            "a6fb3b15a8794b0a91697c3799a3a1a7",
            "9d25914eabe948fe94b00f610226662e",
            "e207630eae374fd0866dbbf18da6a18a",
            "24d188f6f9b94be4a814305d7e40511f",
            "06655b67b2c54521bf923a09f801b495",
            "3bd19ff6607249f7a09dc8f45a4cfa0f",
            "8e284cfc5d63485ba1d9b054f2de7c6c",
            "d687c0504c2f4d6a9a11c510fbd800ec",
            "1658b677c144424ca7d2235855bcef6e",
            "27e44d2067954f3f80a2d3fd11b3c416",
            "270ec25c5d054bbd8fe859bb9de3ecc2",
            "28d8f284a8114f95b772521173c633fa",
            "1cbbbb14010c47249f2ba27b68eea3b5",
            "e7138893c10448988afd9bac817f4c77",
            "7f738f9dc7854e9eb960d8c850648274",
            "7f11f7931f83452cbf8789ecc0b8c50a",
            "d447049289c543eeb11868829d720125",
            "c3350570dfe54af5b8154806a118ac98",
            "07f685663a5e4ef295796e87c946fb4a",
            "2fcb0593b73d4e048473a18171eb13b3",
            "210f65019c6e4101bb4592e0dcb6fc74",
            "d921973bfd744d27b1c287337a8cda68",
            "5efb4b85b38d4961ad5f5e5671016f7f",
            "a07ee840e0e54ab089f2b722eff804b4",
            "fa1e5b8c37c248f89f629df4a5b71914",
            "524c56f4bc9f4cd689bf2a0127cd3230",
            "18b1fe34732d4642ad3dd13496753f64",
            "809c33ac289748c8b1315dd2871b95eb",
            "b68c402079cd4be4a5062d9c347ffeec",
            "4aa270186ec34d8db03e8de33d7a1bb0",
            "85b635211d6e499abc49934455d952da",
            "a3026148ea654731861c042f2dee1150",
            "b3b4b4f36a3340d9b3e8340daa6fc128",
            "ec2e982702744e76b52f93bd0b08ad47",
            "46ac912b368b4b69a7d92de9cefa54d5",
            "876d3f66f3104eacb08dc47baeff5343",
            "fba6d60011f241b19e8f23cd7c5ccba4",
            "d13991f30d4f49629e66162627f844a6",
            "d44189616a8844cd8237432a7cd4394b",
            "29093da2420c429c9d0aebe70e6fe179",
            "06058701a600484795d0d3972d894c10",
            "82f5cfb441f2408593cdcc974cbfcf2f",
            "3fba43d8e2e64a0d8db76c103d8f798a",
            "eab8666dc3774f29a7609484c79c8ead",
            "2a351fbda0d7466c98a14642c50199d2",
            "4a6ed7392c464a18972ab1098b877560",
            "62072c163ca04b2bb330cef431177e53",
            "6653b42ff78c458a9e672f42ef67c6dd",
            "de780547cdd84856bb521ff9deb69f91",
            "dbd62d12a65346ecaae24ff5118e8a8e",
            "4c931325cc3f4116a0f47b76eef6e085",
            "78eda5fa3926454499b679c7b53ff538",
            "6f2a9d68738f4beba7132c2c720fc09e",
            "97f742af5c95406f9d2d70e1e829e2d1",
            "5a9525c69e6a40e690bfbc0e2d0df88e",
            "16e2a54e0767475c9da069da849b7864",
            "d14477349f8a49599edfe3aeb64673e0",
            "ab72d06ed1c04f86b546171f982cabac",
            "2e52fb347f244316971aebc2b46e680a",
            "fe3e1474217c4252bc8ac252ce622d62",
            "c0a9ae581db14bc08c7b06a3f1e0e88f",
            "89a27485d0724f0a9df023c686e3107c",
            "c6e89d4d8b264d348456c3a43ed23164",
            "850a83d5581745adac3a2be9fd06147c",
            "1e0b4927904c46e88313df73f6238b5b",
            "4cf6f7b435694055b3230318fa6d7446",
            "b7603de9a2a841098a83dccd59250eca",
            "28438b74509d441c8c6a9589df14ec60",
            "490554ee7d454fd989eadbd7c4950961",
            "82c0d97747414f45815d5ef90f34bacd",
            "8abc72dc522e4045978343163010d001",
            "823d986b470a45848cece3a472cd0542",
            "966b5c2420694358a8888be9d4f1c84e",
            "1c0d14c357614ba5bdd60bdd2a0b6b66",
            "efdcfb86cb0849c1824aa3853661df7f",
            "8844dae2e54342719fdc1e01d984cb32",
            "6e81efb5f2c7450bb91e837bbf878b1a",
            "d83eb8528d3849d6bd79feca5ec3e7f7",
            "5afc84bb87034e69a4df0417bf561671",
            "168222fc2a7041f9bd1c8f0739a49dbe",
            "3264ff4712d441cab7cfd91d6bdbf537",
            "b589654e61494840bc308491f934fffa",
            "6a923b82a91548a9a35e96a61f1f3826",
            "80c2d93841224dd2afc4ac21c8bdc09f",
            "d7156d9f59164b5d9aecd4693c839ea7",
            "74273e3348d24babbddf56406fdd3dd3",
            "abe19fee2cf14d66819182a0749bbf28"
          ]
        },
        "outputId": "deefcd37-e0c8-4956-cc49-98b474035ecd"
      },
      "source": [
        "from datasets import load_dataset\n",
        "\n",
        "dataset = load_dataset(\"dair-ai/emotion\")"
      ],
      "execution_count": 7,
      "outputs": [
        {
          "output_type": "stream",
          "name": "stderr",
          "text": [
            "/usr/local/lib/python3.10/dist-packages/huggingface_hub/utils/_token.py:89: UserWarning: \n",
            "The secret `HF_TOKEN` does not exist in your Colab secrets.\n",
            "To authenticate with the Hugging Face Hub, create a token in your settings tab (https://huggingface.co/settings/tokens), set it as secret in your Google Colab and restart your session.\n",
            "You will be able to reuse this secret in all of your notebooks.\n",
            "Please note that authentication is recommended but still optional to access public models or datasets.\n",
            "  warnings.warn(\n",
            "/usr/local/lib/python3.10/dist-packages/datasets/load.py:1486: FutureWarning: The repository for dair-ai/emotion contains custom code which must be executed to correctly load the dataset. You can inspect the repository content at https://hf.co/datasets/dair-ai/emotion\n",
            "You can avoid this message in future by passing the argument `trust_remote_code=True`.\n",
            "Passing `trust_remote_code=True` will be mandatory to load this dataset from the next major release of `datasets`.\n",
            "  warnings.warn(\n"
          ]
        },
        {
          "output_type": "display_data",
          "data": {
            "text/plain": [
              "Downloading builder script:   0%|          | 0.00/3.97k [00:00<?, ?B/s]"
            ],
            "application/vnd.jupyter.widget-view+json": {
              "version_major": 2,
              "version_minor": 0,
              "model_id": "17d2b0ae7e7846ec8eeff44ee8ac121a"
            }
          },
          "metadata": {}
        },
        {
          "output_type": "display_data",
          "data": {
            "text/plain": [
              "Downloading metadata:   0%|          | 0.00/3.28k [00:00<?, ?B/s]"
            ],
            "application/vnd.jupyter.widget-view+json": {
              "version_major": 2,
              "version_minor": 0,
              "model_id": "0f2979fba32140968979221853afafa4"
            }
          },
          "metadata": {}
        },
        {
          "output_type": "display_data",
          "data": {
            "text/plain": [
              "Downloading readme:   0%|          | 0.00/8.78k [00:00<?, ?B/s]"
            ],
            "application/vnd.jupyter.widget-view+json": {
              "version_major": 2,
              "version_minor": 0,
              "model_id": "270ec25c5d054bbd8fe859bb9de3ecc2"
            }
          },
          "metadata": {}
        },
        {
          "output_type": "display_data",
          "data": {
            "text/plain": [
              "Downloading data:   0%|          | 0.00/592k [00:00<?, ?B/s]"
            ],
            "application/vnd.jupyter.widget-view+json": {
              "version_major": 2,
              "version_minor": 0,
              "model_id": "d921973bfd744d27b1c287337a8cda68"
            }
          },
          "metadata": {}
        },
        {
          "output_type": "display_data",
          "data": {
            "text/plain": [
              "Downloading data:   0%|          | 0.00/74.0k [00:00<?, ?B/s]"
            ],
            "application/vnd.jupyter.widget-view+json": {
              "version_major": 2,
              "version_minor": 0,
              "model_id": "b3b4b4f36a3340d9b3e8340daa6fc128"
            }
          },
          "metadata": {}
        },
        {
          "output_type": "display_data",
          "data": {
            "text/plain": [
              "Downloading data:   0%|          | 0.00/74.9k [00:00<?, ?B/s]"
            ],
            "application/vnd.jupyter.widget-view+json": {
              "version_major": 2,
              "version_minor": 0,
              "model_id": "eab8666dc3774f29a7609484c79c8ead"
            }
          },
          "metadata": {}
        },
        {
          "output_type": "display_data",
          "data": {
            "text/plain": [
              "Generating train split:   0%|          | 0/16000 [00:00<?, ? examples/s]"
            ],
            "application/vnd.jupyter.widget-view+json": {
              "version_major": 2,
              "version_minor": 0,
              "model_id": "5a9525c69e6a40e690bfbc0e2d0df88e"
            }
          },
          "metadata": {}
        },
        {
          "output_type": "display_data",
          "data": {
            "text/plain": [
              "Generating validation split:   0%|          | 0/2000 [00:00<?, ? examples/s]"
            ],
            "application/vnd.jupyter.widget-view+json": {
              "version_major": 2,
              "version_minor": 0,
              "model_id": "4cf6f7b435694055b3230318fa6d7446"
            }
          },
          "metadata": {}
        },
        {
          "output_type": "display_data",
          "data": {
            "text/plain": [
              "Generating test split:   0%|          | 0/2000 [00:00<?, ? examples/s]"
            ],
            "application/vnd.jupyter.widget-view+json": {
              "version_major": 2,
              "version_minor": 0,
              "model_id": "6e81efb5f2c7450bb91e837bbf878b1a"
            }
          },
          "metadata": {}
        }
      ]
    },
    {
      "cell_type": "code",
      "metadata": {
        "id": "2s0h541FxIgc",
        "colab": {
          "base_uri": "https://localhost:8080/"
        },
        "outputId": "d0ef3cca-d57a-4bdc-91f6-d510612ef692"
      },
      "source": [
        "dataset"
      ],
      "execution_count": 29,
      "outputs": [
        {
          "output_type": "execute_result",
          "data": {
            "text/plain": [
              "DatasetDict({\n",
              "    train: Dataset({\n",
              "        features: ['text', 'label'],\n",
              "        num_rows: 16000\n",
              "    })\n",
              "    validation: Dataset({\n",
              "        features: ['text', 'label'],\n",
              "        num_rows: 2000\n",
              "    })\n",
              "    test: Dataset({\n",
              "        features: ['text', 'label'],\n",
              "        num_rows: 2000\n",
              "    })\n",
              "})"
            ]
          },
          "metadata": {},
          "execution_count": 29
        }
      ]
    },
    {
      "cell_type": "code",
      "metadata": {
        "id": "z7eCnxU25eiN"
      },
      "source": [
        "train = dataset['train']\n",
        "val = dataset['validation']\n",
        "test = dataset['test']"
      ],
      "execution_count": 30,
      "outputs": []
    },
    {
      "cell_type": "code",
      "metadata": {
        "id": "oDYXMfZy5eiP"
      },
      "source": [
        "def get_tweet(data):\n",
        "  tweets = [x['text'] for x in data]\n",
        "  labels = [x['label'] for x in data]\n",
        "  return tweets, labels\n"
      ],
      "execution_count": 38,
      "outputs": []
    },
    {
      "cell_type": "markdown",
      "source": [
        "label: a classification label, with possible values including sadness (0), joy (1), love (2), anger (3), fear (4), surprise (5)."
      ],
      "metadata": {
        "id": "XT_-u0H0NeCK"
      }
    },
    {
      "cell_type": "code",
      "source": [
        "label_dict ={\n",
        "    0: 'sadness',\n",
        "    1: 'joy',\n",
        "    2: 'love',\n",
        "    3: 'anger',\n",
        "    4: 'fear',\n",
        "    5: 'surprise'\n",
        "}"
      ],
      "metadata": {
        "id": "oNmvRE_QNsA_"
      },
      "execution_count": 45,
      "outputs": []
    },
    {
      "cell_type": "code",
      "metadata": {
        "id": "jeq3-vSB5eiR"
      },
      "source": [
        "tweets, labels = get_tweet(train)"
      ],
      "execution_count": 39,
      "outputs": []
    },
    {
      "cell_type": "code",
      "metadata": {
        "id": "bHD3Tk0J5eiU",
        "colab": {
          "base_uri": "https://localhost:8080/"
        },
        "outputId": "da98a7d3-72da-4eac-b55b-5aca2f1bcf76"
      },
      "source": [
        "tweets[1], label_dict[labels[1]]"
      ],
      "execution_count": 46,
      "outputs": [
        {
          "output_type": "execute_result",
          "data": {
            "text/plain": [
              "('i can go from feeling so hopeless to so damned hopeful just from being around someone who cares and is awake',\n",
              " 'sadness')"
            ]
          },
          "metadata": {},
          "execution_count": 46
        }
      ]
    },
    {
      "cell_type": "markdown",
      "metadata": {
        "id": "gcAflLv6xIgp"
      },
      "source": [
        "## Task 4: Tokenizer\n",
        "\n",
        "1. Tokenizing the tweets"
      ]
    },
    {
      "cell_type": "code",
      "metadata": {
        "id": "qfX5-ResxIgq"
      },
      "source": [
        "from tensorflow.keras.preprocessing.text import Tokenizer"
      ],
      "execution_count": 47,
      "outputs": []
    },
    {
      "cell_type": "code",
      "metadata": {
        "id": "cckUvwBo5eif"
      },
      "source": [
        "tokenizer= Tokenizer(num_words=1000, oov_token ='UNK')\n",
        "tokenizer.fit_on_texts(tweets)"
      ],
      "execution_count": 49,
      "outputs": []
    },
    {
      "cell_type": "code",
      "source": [
        "tokenizer.texts_to_sequences([tweets[0]])"
      ],
      "metadata": {
        "colab": {
          "base_uri": "https://localhost:8080/"
        },
        "id": "JYpyG4XgPJBR",
        "outputId": "5ad3f6fe-ea18-4487-b859-e9492ab53cc1"
      },
      "execution_count": 51,
      "outputs": [
        {
          "output_type": "execute_result",
          "data": {
            "text/plain": [
              "[[2, 139, 3, 679]]"
            ]
          },
          "metadata": {},
          "execution_count": 51
        }
      ]
    },
    {
      "cell_type": "markdown",
      "metadata": {
        "id": "i3Bqm7b2xIgu"
      },
      "source": [
        "## Task 5: Padding and Truncating Sequences\n",
        "\n",
        "1. Checking length of the tweets\n",
        "2. Creating padded sequences"
      ]
    },
    {
      "cell_type": "code",
      "metadata": {
        "id": "mLvf_WFZxIgu",
        "colab": {
          "base_uri": "https://localhost:8080/",
          "height": 430
        },
        "outputId": "ea6335ce-b9d5-4a0e-d4e2-742205e5cefd"
      },
      "source": [
        "lengths = [len(t.split(' ')) for t in tweets]\n",
        "plt.hist(lengths, bins = len(set(lengths)))\n",
        "plt.show()"
      ],
      "execution_count": 52,
      "outputs": [
        {
          "output_type": "display_data",
          "data": {
            "text/plain": [
              "<Figure size 640x480 with 1 Axes>"
            ],
            "image/png": "[encoded data removed]"
          },
          "metadata": {}
        }
      ]
    },
    {
      "cell_type": "code",
      "metadata": {
        "id": "EOi5lIE3xIgx"
      },
      "source": [
        "maxlen = 50\n",
        "\n",
        "from tensorflow.keras.preprocessing.sequence import pad_sequences"
      ],
      "execution_count": 53,
      "outputs": []
    },
    {
      "cell_type": "code",
      "metadata": {
        "id": "Q9J_Iemf5eiq"
      },
      "source": [
        "def get_sequence(tokenizer, tweets):\n",
        "  sequences = tokenizer.texts_to_sequences(tweets)\n",
        "  padded = pad_sequences(sequences,truncating='post', padding ='post', maxlen=maxlen)\n",
        "  return padded"
      ],
      "execution_count": 54,
      "outputs": []
    },
    {
      "cell_type": "code",
      "metadata": {
        "id": "eglH77ky5ei0"
      },
      "source": [
        "padded_train_sequence = get_sequence(tokenizer, tweets)"
      ],
      "execution_count": 55,
      "outputs": []
    },
    {
      "cell_type": "code",
      "metadata": {
        "id": "iGR473HA5ei7",
        "colab": {
          "base_uri": "https://localhost:8080/"
        },
        "outputId": "bfce8d94-f366-4e48-dab0-ad3b983e94e9"
      },
      "source": [
        "padded_train_sequence"
      ],
      "execution_count": 56,
      "outputs": [
        {
          "output_type": "execute_result",
          "data": {
            "text/plain": [
              "array([[  2, 139,   3, ...,   0,   0,   0],\n",
              "       [  2,  40, 101, ...,   0,   0,   0],\n",
              "       [ 17,   1,   7, ...,   0,   0,   0],\n",
              "       ...,\n",
              "       [  2,   3, 327, ...,   0,   0,   0],\n",
              "       [  2,   3,  14, ...,   0,   0,   0],\n",
              "       [  2,  47,   7, ...,   0,   0,   0]], dtype=int32)"
            ]
          },
          "metadata": {},
          "execution_count": 56
        }
      ]
    },
    {
      "cell_type": "markdown",
      "metadata": {
        "id": "BURhOX_KxIg8"
      },
      "source": [
        "## Task 6: Preparing the Labels\n",
        "\n",
        "1. Creating classes to index and index to classes dictionaries\n",
        "2. Converting text labels to numeric labels"
      ]
    },
    {
      "cell_type": "code",
      "source": [
        "classes = [label_dict[i] for i in labels]\n",
        "print(set(classes))"
      ],
      "metadata": {
        "colab": {
          "base_uri": "https://localhost:8080/"
        },
        "id": "RgWMYWHRSyEP",
        "outputId": "81512774-ad3a-494b-c8ef-78ce452fcfbc"
      },
      "execution_count": 62,
      "outputs": [
        {
          "output_type": "stream",
          "name": "stdout",
          "text": [
            "{'anger', 'fear', 'surprise', 'love', 'sadness', 'joy'}\n"
          ]
        }
      ]
    },
    {
      "cell_type": "code",
      "metadata": {
        "id": "SufT2bpD5ejE",
        "colab": {
          "base_uri": "https://localhost:8080/",
          "height": 430
        },
        "outputId": "11bf83e9-6e09-447d-93eb-618b843440af"
      },
      "source": [
        "plt.hist(classes, bins = 11)\n",
        "plt.show()"
      ],
      "execution_count": 66,
      "outputs": [
        {
          "output_type": "display_data",
          "data": {
            "text/plain": [
              "<Figure size 640x480 with 1 Axes>"
            ],
            "image/png": "[encoded data removed]"
          },
          "metadata": {}
        }
      ]
    },
    {
      "cell_type": "code",
      "metadata": {
        "id": "_08InVyM5ejc",
        "colab": {
          "base_uri": "https://localhost:8080/"
        },
        "outputId": "b0f12d27-1748-4f6a-a6dd-b932bf919f6a"
      },
      "source": [
        "label_dict"
      ],
      "execution_count": 71,
      "outputs": [
        {
          "output_type": "execute_result",
          "data": {
            "text/plain": [
              "{0: 'sadness', 1: 'joy', 2: 'love', 3: 'anger', 4: 'fear', 5: 'surprise'}"
            ]
          },
          "metadata": {},
          "execution_count": 71
        }
      ]
    },
    {
      "cell_type": "code",
      "metadata": {
        "id": "gpeDoA6gxIhE",
        "colab": {
          "base_uri": "https://localhost:8080/"
        },
        "outputId": "b953f236-988d-439f-86ec-a897ee51a055"
      },
      "source": [
        "train_labels = labels\n",
        "print(train_labels)"
      ],
      "execution_count": 73,
      "outputs": [
        {
          "output_type": "stream",
          "name": "stdout",
          "text": [
            "[0, 0, 3, 2, 3, 0, 5, 4, 1, 2, 0, 1, 3, 0, 1, 1, 0, 0, 0, 4, 3, 4, 1, 1, 3, 0, 0, 0, 3, 1, 1, 4, 5, 3, 1, 1, 1, 1, 3, 1, 1, 1, 1, 1, 0, 0, 1, 2, 1, 3, 1, 0, 3, 4, 1, 0, 0, 5, 1, 1, 1, 2, 4, 4, 5, 3, 3, 0, 2, 1, 0, 0, 1, 0, 0, 0, 1, 1, 1, 3, 0, 3, 3, 3, 1, 1, 1, 1, 0, 4, 2, 3, 0, 3, 2, 0, 1, 1, 0, 3, 2, 1, 1, 1, 0, 1, 1, 1, 1, 0, 1, 1, 2, 0, 0, 1, 1, 0, 1, 1, 4, 4, 4, 0, 2, 1, 1, 2, 4, 5, 1, 1, 1, 1, 3, 4, 1, 3, 2, 3, 0, 1, 0, 3, 1, 5, 0, 3, 3, 0, 1, 4, 1, 1, 4, 0, 5, 5, 1, 3, 4, 3, 0, 3, 0, 4, 0, 1, 5, 4, 1, 3, 1, 3, 1, 4, 4, 0, 1, 1, 0, 5, 1, 4, 1, 0, 1, 1, 1, 4, 1, 5, 1, 3, 0, 0, 1, 3, 0, 1, 1, 5, 1, 4, 1, 4, 0, 4, 2, 0, 4, 2, 0, 0, 3, 1, 2, 3, 0, 5, 3, 1, 0, 3, 1, 1, 1, 1, 1, 0, 1, 2, 1, 0, 3, 5, 1, 3, 1, 2, 0, 0, 1, 0, 0, 1, 0, 1, 1, 1, 4, 0, 3, 0, 3, 2, 1, 2, 0, 1, 1, 1, 0, 1, 0, 3, 2, 0, 2, 0, 0, 0, 0, 0, 0, 4, 1, 0, 0, 1, 2, 0, 3, 0, 2, 1, 1, 1, 0, 1, 0, 1, 1, 1, 0, 0, 0, 2, 4, 0, 4, 1, 1, 4, 1, 3, 3, 2, 0, 5, 1, 3, 0, 0, 3, 2, 5, 0, 2, 1, 3, 1, 0, 0, 1, 1, 4, 0, 3, 1, 2, 1, 1, 1, 1, 1, 2, 1, 4, 4, 1, 1, 3, 1, 1, 1, 0, 5, 1, 1, 0, 5, 1, 4, 1, 3, 2, 3, 4, 5, 1, 3, 0, 0, 0, 4, 1, 4, 1, 3, 0, 2, 3, 0, 2, 2, 1, 0, 1, 1, 3, 1, 2, 1, 1, 0, 5, 1, 1, 0, 5, 3, 1, 1, 2, 1, 2, 2, 1, 0, 1, 0, 4, 3, 0, 3, 1, 4, 5, 2, 0, 0, 1, 5, 2, 0, 0, 1, 4, 1, 1, 1, 2, 4, 0, 0, 4, 2, 1, 0, 1, 0, 1, 0, 1, 0, 1, 1, 3, 0, 4, 0, 0, 3, 5, 5, 1, 5, 4, 2, 3, 1, 4, 0, 3, 0, 1, 4, 1, 1, 1, 1, 5, 3, 0, 1, 0, 3, 2, 0, 2, 3, 2, 2, 1, 1, 0, 1, 0, 1, 3, 1, 4, 0, 1, 0, 5, 1, 1, 2, 1, 0, 3, 1, 0, 0, 0, 1, 1, 1, 0, 0, 3, 3, 1, 0, 5, 1, 1, 0, 3, 1, 3, 1, 1, 2, 3, 1, 1, 1, 1, 1, 1, 1, 4, 1, 4, 0, 3, 3, 0, 2, 0, 0, 0, 5, 4, 0, 0, 1, 4, 1, 0, 0, 3, 0, 3, 3, 2, 1, 1, 0, 1, 1, 1, 2, 2, 2, 1, 5, 4, 0, 3, 0, 4, 1, 3, 1, 1, 0, 1, 4, 1, 3, 0, 3, 1, 2, 2, 0, 4, 0, 0, 0, 4, 0, 3, 1, 1, 0, 4, 4, 3, 3, 0, 0, 3, 3, 1, 4, 0, 0, 4, 1, 4, 0, 0, 1, 0, 3, 0, 2, 5, 1, 1, 1, 1, 1, 0, 0, 2, 4, 3, 1, 2, 1, 1, 4, 3, 4, 0, 3, 3, 3, 4, 1, 2, 3, 4, 3, 1, 4, 0, 0, 3, 1, 3, 4, 4, 5, 0, 1, 1, 1, 2, 0, 1, 0, 3, 1, 1, 4, 4, 1, 4, 3, 3, 3, 1, 0, 1, 1, 1, 3, 4, 3, 1, 0, 1, 4, 1, 0, 3, 0, 0, 1, 1, 0, 2, 1, 0, 3, 2, 0, 1, 1, 4, 3, 1, 1, 2, 5, 4, 4, 3, 3, 2, 0, 0, 1, 2, 3, 1, 3, 1, 1, 1, 4, 4, 2, 0, 2, 1, 1, 0, 0, 3, 3, 3, 3, 0, 1, 0, 1, 4, 0, 1, 0, 1, 5, 4, 1, 1, 4, 4, 0, 0, 3, 0, 2, 1, 5, 1, 5, 1, 4, 1, 1, 1, 1, 5, 2, 0, 2, 1, 0, 1, 1, 0, 1, 1, 1, 1, 4, 4, 4, 4, 3, 2, 0, 1, 1, 0, 0, 0, 0, 1, 0, 0, 4, 1, 3, 1, 1, 4, 3, 1, 3, 3, 3, 3, 3, 1, 4, 0, 2, 0, 4, 2, 1, 5, 1, 1, 1, 1, 0, 5, 1, 3, 3, 3, 1, 1, 0, 2, 0, 1, 3, 3, 3, 4, 1, 1, 4, 0, 5, 1, 2, 0, 1, 1, 0, 0, 0, 3, 1, 0, 0, 0, 0, 1, 5, 1, 3, 2, 1, 3, 0, 1, 3, 0, 4, 4, 0, 0, 4, 0, 2, 4, 1, 1, 4, 1, 3, 1, 1, 3, 1, 1, 2, 3, 1, 1, 1, 3, 1, 2, 4, 3, 2, 0, 4, 0, 0, 2, 1, 4, 2, 1, 1, 0, 1, 0, 4, 1, 0, 2, 0, 2, 0, 0, 3, 2, 3, 1, 3, 0, 0, 1, 1, 3, 0, 5, 1, 2, 0, 3, 4, 2, 1, 1, 3, 1, 0, 1, 1, 1, 2, 1, 0, 2, 4, 0, 1, 0, 3, 1, 1, 0, 1, 2, 1, 1, 1, 3, 4, 0, 1, 0, 0, 2, 3, 1, 2, 0, 1, 4, 0, 1, 1, 0, 0, 2, 1, 0, 0, 0, 0, 3, 0, 1, 0, 1, 0, 2, 3, 1, 4, 0, 0, 1, 1, 3, 4, 2, 1, 0, 3, 0, 1, 0, 1, 1, 0, 2, 1, 1, 0, 3, 0, 3, 0, 1, 0, 3, 1, 5, 0, 4, 0, 4, 0, 3, 3, 1, 3, 1, 1, 1, 0, 4, 1, 1, 3, 1, 4, 1, 2, 0, 0, 0, 0, 1, 2, 4, 1, 3, 0, 1, 4, 1, 1, 0, 4, 0, 1, 0, 0, 0, 0, 2, 0, 4, 4, 1, 2, 0, 0, 2, 1, 0, 0, 0, 0, 2, 1, 1, 0, 4, 1, 1, 1, 1, 1, 3, 4, 2, 1, 3, 2, 2, 1, 0, 0, 3, 1, 1, 4, 1, 1, 0, 0, 2, 1, 1, 1, 1, 1, 0, 1, 2, 1, 4, 1, 0, 1, 1, 4, 1, 0, 4, 1, 0, 1, 0, 4, 1, 1, 4, 0, 0, 1, 1, 1, 1, 4, 1, 1, 4, 1, 4, 5, 1, 4, 5, 4, 1, 1, 5, 0, 0, 1, 1, 1, 1, 1, 1, 1, 1, 4, 0, 3, 1, 0, 1, 4, 2, 2, 4, 0, 0, 1, 4, 0, 2, 3, 1, 0, 1, 1, 0, 4, 0, 1, 0, 0, 1, 0, 0, 0, 4, 1, 3, 0, 0, 1, 1, 1, 1, 2, 1, 4, 1, 1, 1, 4, 0, 0, 1, 0, 0, 1, 0, 0, 0, 1, 0, 4, 3, 0, 1, 4, 1, 0, 1, 1, 4, 4, 0, 1, 5, 1, 3, 2, 0, 0, 2, 3, 4, 4, 1, 0, 2, 0, 0, 1, 1, 0, 2, 1, 1, 1, 1, 3, 5, 2, 3, 0, 0, 1, 0, 1, 1, 1, 0, 3, 0, 0, 0, 1, 3, 1, 0, 0, 1, 3, 1, 1, 2, 0, 1, 0, 5, 3, 1, 0, 4, 1, 1, 3, 1, 1, 0, 3, 2, 1, 0, 5, 2, 2, 0, 0, 0, 2, 0, 2, 1, 1, 0, 2, 1, 3, 0, 1, 3, 0, 3, 1, 2, 1, 4, 3, 1, 0, 4, 0, 0, 0, 0, 0, 4, 2, 0, 0, 1, 0, 2, 3, 1, 5, 1, 4, 0, 4, 0, 1, 3, 3, 5, 1, 2, 0, 5, 1, 1, 5, 0, 2, 1, 3, 4, 0, 0, 0, 0, 0, 3, 1, 1, 1, 0, 5, 5, 3, 1, 1, 4, 1, 0, 4, 3, 3, 4, 2, 4, 3, 3, 3, 0, 4, 1, 1, 4, 4, 3, 1, 3, 1, 1, 2, 3, 0, 4, 1, 3, 0, 3, 0, 2, 3, 4, 1, 4, 0, 0, 3, 1, 4, 0, 2, 2, 0, 3, 3, 1, 0, 3, 0, 0, 4, 1, 0, 0, 1, 3, 0, 1, 1, 3, 1, 1, 3, 3, 0, 1, 3, 0, 4, 0, 4, 1, 4, 1, 1, 1, 1, 0, 3, 0, 1, 4, 1, 0, 1, 4, 1, 1, 1, 1, 0, 1, 3, 1, 1, 1, 1, 4, 1, 4, 0, 2, 1, 1, 1, 1, 3, 1, 4, 0, 3, 1, 1, 0, 5, 5, 1, 0, 0, 2, 4, 1, 2, 2, 1, 0, 0, 1, 3, 1, 1, 1, 4, 4, 1, 0, 5, 1, 1, 1, 1, 1, 0, 3, 4, 3, 0, 1, 3, 4, 2, 0, 2, 1, 0, 2, 0, 1, 1, 2, 0, 2, 3, 1, 2, 1, 4, 0, 0, 5, 0, 1, 1, 1, 3, 0, 1, 1, 0, 1, 1, 0, 0, 1, 3, 1, 4, 3, 1, 1, 1, 4, 0, 1, 4, 0, 0, 3, 0, 1, 1, 3, 0, 0, 0, 0, 1, 1, 1, 0, 1, 1, 1, 0, 4, 2, 4, 4, 4, 3, 3, 0, 1, 0, 0, 0, 0, 4, 1, 0, 1, 4, 4, 0, 3, 4, 0, 0, 1, 3, 0, 0, 1, 0, 4, 3, 3, 1, 1, 0, 1, 1, 0, 0, 1, 0, 4, 1, 0, 0, 0, 4, 1, 5, 0, 1, 2, 1, 3, 5, 1, 1, 0, 0, 1, 1, 4, 1, 3, 1, 1, 1, 4, 1, 3, 1, 3, 0, 1, 0, 0, 1, 4, 1, 1, 4, 0, 0, 2, 0, 3, 0, 0, 3, 3, 0, 2, 0, 2, 1, 0, 1, 2, 4, 1, 4, 1, 3, 1, 0, 1, 1, 4, 5, 0, 1, 0, 5, 0, 0, 0, 0, 1, 4, 0, 0, 3, 1, 0, 2, 4, 3, 0, 4, 0, 1, 1, 1, 5, 1, 0, 1, 3, 1, 1, 3, 3, 0, 5, 4, 5, 1, 4, 0, 2, 1, 1, 3, 0, 2, 0, 0, 1, 3, 0, 0, 3, 5, 1, 3, 0, 3, 3, 0, 1, 5, 4, 1, 1, 4, 1, 3, 0, 0, 1, 1, 0, 1, 0, 4, 3, 0, 1, 3, 3, 2, 1, 1, 1, 1, 3, 1, 1, 0, 1, 1, 1, 1, 4, 0, 0, 0, 1, 1, 0, 0, 1, 1, 2, 0, 3, 0, 2, 1, 0, 1, 0, 1, 3, 1, 0, 0, 0, 5, 3, 1, 0, 0, 3, 1, 1, 0, 4, 1, 2, 0, 3, 4, 4, 2, 0, 2, 1, 2, 0, 0, 1, 2, 4, 0, 1, 1, 0, 0, 2, 1, 4, 4, 3, 1, 4, 4, 5, 0, 1, 4, 1, 4, 1, 0, 2, 1, 1, 3, 0, 1, 1, 3, 0, 0, 1, 1, 4, 1, 4, 1, 1, 1, 4, 1, 3, 3, 1, 4, 0, 1, 0, 0, 3, 0, 3, 0, 0, 1, 0, 4, 0, 2, 4, 1, 0, 4, 2, 1, 4, 0, 0, 0, 1, 1, 1, 1, 0, 3, 4, 1, 1, 1, 0, 5, 4, 1, 1, 0, 1, 2, 1, 0, 4, 1, 3, 1, 1, 3, 4, 2, 5, 3, 1, 0, 0, 0, 0, 0, 3, 5, 4, 1, 0, 0, 1, 0, 1, 2, 3, 0, 4, 0, 1, 0, 2, 1, 0, 2, 2, 0, 4, 1, 1, 2, 1, 1, 0, 1, 0, 2, 2, 3, 0, 1, 0, 4, 1, 0, 1, 4, 0, 1, 5, 5, 1, 0, 3, 4, 3, 0, 0, 5, 1, 0, 3, 0, 4, 2, 1, 1, 5, 1, 0, 3, 4, 0, 1, 1, 4, 1, 1, 1, 0, 3, 1, 3, 0, 1, 0, 0, 4, 2, 4, 1, 1, 1, 1, 4, 3, 5, 1, 0, 0, 1, 4, 0, 1, 0, 1, 0, 1, 1, 1, 2, 4, 1, 0, 0, 5, 2, 4, 3, 3, 0, 0, 1, 2, 1, 2, 1, 4, 0, 2, 0, 0, 0, 0, 3, 0, 0, 1, 0, 0, 0, 2, 3, 3, 0, 0, 1, 4, 3, 0, 1, 1, 5, 2, 1, 3, 1, 1, 0, 5, 0, 1, 5, 3, 1, 0, 1, 2, 1, 1, 4, 5, 1, 4, 1, 3, 4, 1, 0, 0, 0, 1, 3, 1, 2, 0, 0, 1, 3, 0, 1, 1, 5, 0, 1, 0, 0, 2, 3, 3, 1, 5, 3, 2, 2, 3, 0, 3, 0, 3, 1, 0, 4, 1, 2, 4, 1, 1, 1, 1, 0, 0, 4, 1, 3, 0, 0, 3, 0, 3, 0, 4, 5, 0, 1, 1, 1, 3, 0, 1, 0, 1, 1, 0, 4, 0, 1, 5, 1, 2, 1, 4, 3, 0, 1, 1, 1, 3, 0, 0, 3, 4, 0, 3, 0, 0, 3, 1, 5, 0, 4, 0, 4, 4, 4, 0, 1, 2, 1, 1, 0, 3, 3, 3, 5, 1, 5, 4, 1, 3, 0, 4, 1, 4, 1, 2, 0, 0, 0, 0, 5, 0, 1, 1, 0, 1, 1, 4, 1, 2, 3, 4, 1, 0, 3, 0, 2, 1, 1, 5, 3, 0, 1, 1, 1, 0, 1, 2, 3, 1, 1, 3, 3, 0, 2, 0, 1, 1, 3, 1, 1, 0, 2, 2, 1, 3, 1, 1, 5, 0, 0, 1, 3, 0, 3, 0, 1, 1, 1, 1, 0, 4, 1, 0, 0, 3, 3, 1, 1, 0, 4, 0, 0, 3, 4, 3, 3, 1, 0, 1, 1, 5, 4, 1, 0, 1, 4, 5, 3, 1, 0, 4, 4, 3, 2, 1, 3, 1, 0, 5, 0, 3, 0, 5, 4, 0, 0, 0, 3, 0, 1, 4, 1, 1, 0, 0, 2, 3, 1, 0, 2, 0, 1, 1, 1, 4, 2, 1, 1, 4, 1, 3, 0, 2, 0, 3, 3, 1, 2, 0, 0, 1, 0, 1, 5, 1, 3, 4, 3, 1, 0, 1, 0, 3, 4, 0, 0, 0, 3, 1, 4, 3, 0, 3, 1, 0, 4, 4, 1, 0, 2, 5, 4, 1, 3, 1, 1, 0, 1, 1, 1, 0, 3, 1, 3, 1, 3, 2, 2, 2, 5, 0, 1, 1, 0, 1, 4, 1, 2, 1, 0, 0, 1, 4, 1, 0, 1, 4, 0, 1, 0, 5, 1, 4, 1, 0, 0, 0, 0, 0, 4, 1, 1, 3, 4, 3, 1, 1, 1, 3, 3, 0, 0, 0, 3, 2, 0, 3, 1, 3, 0, 1, 1, 1, 1, 0, 1, 0, 0, 1, 0, 1, 4, 1, 3, 1, 0, 0, 5, 1, 1, 1, 3, 1, 3, 1, 1, 1, 1, 5, 0, 1, 2, 1, 0, 0, 5, 3, 3, 2, 1, 3, 3, 3, 4, 0, 4, 1, 4, 2, 1, 3, 0, 2, 0, 5, 0, 1, 1, 0, 1, 1, 0, 1, 1, 4, 1, 1, 3, 1, 1, 0, 0, 0, 1, 0, 0, 4, 4, 2, 1, 1, 1, 4, 0, 3, 0, 0, 0, 1, 0, 0, 0, 0, 0, 1, 1, 3, 3, 3, 0, 3, 1, 0, 0, 4, 0, 1, 1, 3, 0, 4, 4, 0, 2, 0, 1, 0, 0, 4, 5, 0, 1, 5, 3, 0, 3, 3, 0, 3, 5, 1, 1, 0, 0, 1, 1, 1, 0, 1, 1, 1, 0, 0, 1, 2, 1, 4, 0, 1, 1, 0, 3, 1, 1, 1, 0, 0, 1, 0, 1, 1, 0, 0, 0, 1, 3, 5, 4, 1, 4, 0, 1, 0, 0, 0, 1, 4, 1, 0, 1, 1, 1, 0, 0, 1, 1, 4, 1, 3, 3, 1, 0, 1, 0, 0, 0, 0, 1, 4, 0, 0, 0, 3, 1, 2, 2, 1, 0, 0, 2, 0, 3, 0, 4, 1, 0, 0, 2, 0, 1, 0, 3, 5, 1, 5, 4, 1, 4, 0, 3, 1, 1, 1, 3, 4, 1, 0, 3, 0, 1, 0, 1, 1, 1, 3, 0, 1, 0, 0, 3, 1, 4, 1, 3, 4, 0, 3, 1, 3, 1, 1, 0, 1, 2, 5, 1, 4, 4, 1, 0, 1, 1, 1, 2, 0, 2, 3, 0, 0, 4, 1, 1, 3, 0, 1, 4, 4, 2, 3, 3, 2, 0, 3, 0, 2, 1, 4, 1, 1, 0, 1, 1, 3, 1, 1, 1, 1, 3, 1, 3, 0, 0, 0, 1, 0, 3, 0, 2, 3, 1, 0, 1, 3, 4, 2, 3, 1, 1, 0, 4, 4, 0, 0, 5, 1, 0, 1, 2, 3, 0, 2, 0, 0, 5, 1, 0, 0, 0, 3, 0, 0, 1, 3, 0, 0, 4, 0, 1, 0, 1, 3, 1, 0, 0, 3, 0, 3, 2, 1, 4, 0, 4, 4, 0, 4, 2, 0, 5, 3, 3, 4, 4, 4, 4, 0, 1, 0, 4, 0, 3, 1, 0, 2, 1, 0, 0, 3, 0, 1, 1, 4, 3, 0, 0, 0, 0, 1, 0, 1, 1, 0, 1, 3, 1, 1, 0, 0, 0, 3, 4, 0, 0, 3, 1, 1, 1, 0, 0, 0, 4, 1, 1, 4, 1, 0, 1, 1, 1, 3, 5, 3, 1, 1, 2, 0, 1, 0, 2, 1, 0, 3, 2, 3, 0, 0, 0, 1, 1, 1, 4, 2, 1, 1, 2, 3, 1, 4, 0, 2, 1, 1, 1, 5, 0, 1, 0, 0, 1, 0, 1, 1, 4, 0, 0, 0, 1, 1, 0, 1, 1, 1, 1, 0, 2, 3, 1, 2, 0, 1, 3, 0, 1, 5, 4, 2, 1, 1, 0, 3, 0, 1, 0, 1, 4, 4, 1, 1, 4, 3, 1, 1, 0, 0, 3, 0, 1, 1, 3, 0, 1, 1, 0, 1, 1, 0, 3, 1, 3, 3, 0, 4, 5, 4, 1, 0, 0, 1, 0, 0, 2, 4, 2, 4, 0, 1, 0, 1, 0, 2, 1, 0, 0, 3, 1, 3, 4, 0, 0, 0, 2, 1, 1, 0, 4, 0, 3, 0, 1, 2, 1, 1, 3, 1, 4, 0, 1, 1, 4, 3, 4, 1, 0, 0, 4, 0, 0, 1, 5, 4, 4, 1, 0, 1, 4, 0, 4, 0, 3, 1, 3, 1, 2, 2, 1, 1, 1, 0, 0, 2, 4, 1, 0, 3, 4, 1, 0, 1, 1, 0, 4, 0, 1, 0, 3, 4, 4, 4, 0, 2, 5, 3, 2, 3, 0, 0, 1, 1, 0, 2, 4, 4, 1, 4, 0, 4, 2, 0, 4, 0, 3, 3, 0, 0, 0, 4, 1, 3, 1, 4, 0, 1, 4, 2, 4, 0, 1, 4, 1, 5, 1, 1, 1, 0, 1, 1, 1, 0, 3, 3, 1, 5, 3, 1, 4, 2, 0, 3, 5, 0, 1, 3, 1, 3, 0, 1, 4, 0, 5, 1, 3, 0, 1, 3, 0, 0, 2, 3, 0, 3, 0, 4, 3, 0, 1, 2, 3, 4, 1, 2, 0, 3, 0, 1, 1, 0, 4, 2, 4, 1, 2, 2, 1, 2, 1, 1, 1, 0, 3, 0, 1, 0, 1, 4, 1, 0, 0, 0, 0, 2, 5, 1, 1, 0, 0, 3, 2, 1, 1, 0, 5, 4, 2, 1, 1, 4, 0, 1, 0, 3, 0, 0, 0, 1, 0, 4, 0, 1, 1, 1, 1, 1, 1, 1, 1, 0, 3, 3, 0, 1, 1, 2, 3, 2, 3, 1, 0, 2, 0, 0, 0, 0, 3, 1, 1, 0, 1, 1, 4, 0, 1, 1, 0, 4, 2, 1, 1, 4, 0, 2, 4, 4, 4, 0, 2, 1, 1, 0, 2, 1, 4, 1, 1, 1, 1, 3, 4, 0, 0, 0, 3, 1, 1, 4, 1, 4, 3, 0, 0, 1, 4, 1, 1, 0, 1, 0, 0, 2, 1, 0, 0, 3, 1, 5, 0, 0, 0, 1, 0, 1, 1, 0, 0, 2, 1, 1, 1, 1, 2, 3, 1, 1, 4, 1, 0, 1, 1, 1, 0, 1, 0, 0, 4, 1, 1, 1, 3, 1, 4, 1, 3, 2, 0, 0, 1, 1, 3, 0, 1, 4, 1, 3, 3, 0, 0, 1, 0, 0, 3, 1, 3, 0, 0, 0, 0, 3, 1, 0, 0, 1, 1, 1, 0, 0, 5, 0, 0, 0, 3, 1, 1, 0, 0, 1, 0, 0, 0, 0, 4, 2, 3, 1, 5, 5, 4, 0, 3, 1, 0, 4, 0, 4, 5, 4, 0, 0, 3, 0, 0, 2, 3, 1, 1, 1, 4, 0, 0, 1, 0, 1, 1, 0, 4, 0, 1, 3, 0, 4, 4, 4, 1, 0, 1, 0, 0, 1, 0, 0, 1, 1, 4, 2, 1, 1, 0, 0, 3, 0, 1, 1, 1, 1, 4, 1, 0, 0, 5, 1, 2, 3, 4, 3, 3, 1, 0, 1, 5, 1, 1, 0, 0, 2, 1, 0, 2, 0, 4, 1, 0, 1, 1, 1, 1, 0, 0, 3, 1, 0, 0, 0, 2, 0, 2, 4, 0, 1, 3, 3, 4, 1, 2, 1, 4, 5, 0, 1, 4, 4, 3, 0, 0, 4, 1, 1, 0, 0, 3, 2, 1, 4, 2, 1, 3, 1, 3, 1, 0, 3, 4, 1, 0, 2, 2, 1, 0, 3, 1, 1, 0, 1, 3, 4, 3, 5, 3, 5, 0, 4, 2, 2, 3, 2, 2, 1, 0, 0, 2, 0, 0, 3, 5, 0, 1, 4, 5, 0, 3, 2, 0, 4, 0, 3, 1, 0, 0, 2, 0, 2, 1, 4, 2, 1, 2, 0, 0, 0, 4, 1, 4, 4, 2, 1, 0, 4, 0, 1, 4, 0, 0, 3, 1, 1, 1, 2, 2, 1, 0, 1, 1, 3, 1, 1, 0, 1, 2, 0, 1, 0, 1, 0, 3, 1, 1, 1, 0, 1, 0, 1, 1, 4, 0, 4, 0, 3, 0, 0, 4, 0, 4, 1, 0, 4, 3, 0, 5, 1, 3, 1, 3, 1, 5, 0, 1, 1, 4, 2, 2, 1, 0, 0, 1, 4, 1, 3, 0, 4, 3, 0, 3, 0, 1, 1, 3, 1, 4, 2, 0, 2, 1, 0, 3, 1, 0, 4, 1, 1, 3, 4, 1, 1, 3, 1, 1, 1, 3, 4, 3, 1, 1, 1, 1, 3, 5, 1, 1, 1, 0, 1, 3, 1, 1, 0, 3, 0, 1, 3, 1, 1, 0, 1, 1, 1, 1, 1, 3, 4, 4, 4, 0, 0, 2, 2, 4, 4, 0, 1, 1, 1, 4, 0, 3, 3, 0, 3, 0, 0, 1, 0, 0, 4, 0, 3, 2, 0, 0, 1, 2, 0, 0, 3, 0, 1, 1, 0, 1, 1, 2, 3, 1, 0, 0, 2, 4, 5, 0, 3, 1, 0, 0, 3, 2, 3, 0, 1, 2, 0, 0, 1, 1, 4, 0, 1, 1, 3, 4, 4, 1, 1, 1, 0, 5, 4, 3, 3, 3, 0, 0, 1, 0, 0, 0, 0, 0, 5, 0, 3, 3, 0, 1, 1, 1, 5, 4, 1, 3, 1, 3, 2, 1, 0, 0, 1, 0, 0, 2, 4, 0, 1, 1, 0, 1, 0, 1, 2, 4, 1, 4, 0, 1, 1, 2, 2, 0, 1, 1, 0, 0, 1, 3, 1, 4, 3, 1, 4, 3, 1, 1, 4, 4, 0, 3, 3, 0, 2, 4, 1, 3, 1, 4, 1, 4, 4, 0, 1, 1, 1, 1, 3, 0, 1, 0, 3, 1, 3, 1, 1, 1, 1, 3, 1, 4, 1, 1, 3, 0, 0, 2, 3, 0, 1, 1, 1, 0, 5, 4, 1, 0, 0, 0, 1, 5, 0, 1, 0, 5, 0, 1, 3, 1, 5, 1, 1, 1, 3, 1, 0, 1, 5, 5, 1, 1, 0, 1, 0, 4, 4, 0, 1, 0, 0, 4, 0, 1, 1, 1, 1, 1, 1, 5, 4, 2, 4, 0, 1, 0, 4, 0, 3, 0, 0, 0, 0, 0, 1, 2, 1, 1, 0, 4, 1, 1, 2, 2, 0, 1, 5, 2, 0, 1, 1, 0, 3, 1, 3, 1, 1, 4, 4, 0, 0, 4, 1, 3, 0, 0, 1, 4, 0, 1, 1, 0, 2, 2, 1, 1, 5, 3, 5, 1, 1, 5, 0, 5, 0, 0, 4, 0, 2, 0, 1, 1, 0, 3, 0, 4, 4, 1, 3, 1, 1, 0, 1, 2, 1, 2, 3, 1, 4, 0, 1, 1, 2, 0, 1, 0, 4, 1, 1, 1, 0, 3, 0, 4, 1, 2, 3, 0, 0, 1, 0, 0, 4, 3, 0, 1, 1, 1, 2, 3, 1, 4, 3, 4, 1, 1, 1, 3, 0, 0, 0, 4, 1, 4, 1, 0, 1, 2, 1, 1, 1, 1, 1, 1, 1, 0, 3, 0, 2, 0, 2, 0, 1, 0, 4, 1, 3, 1, 4, 3, 0, 0, 0, 0, 1, 1, 1, 0, 1, 1, 3, 0, 1, 1, 4, 3, 0, 0, 0, 0, 0, 3, 1, 0, 1, 0, 0, 0, 0, 1, 1, 4, 0, 2, 3, 3, 1, 0, 0, 1, 3, 2, 1, 4, 1, 3, 1, 1, 1, 0, 0, 0, 3, 1, 2, 1, 1, 3, 5, 1, 0, 1, 1, 4, 5, 0, 0, 1, 3, 4, 1, 1, 0, 1, 5, 0, 5, 2, 2, 1, 0, 4, 0, 5, 0, 1, 5, 0, 2, 1, 1, 1, 1, 1, 1, 0, 2, 1, 0, 5, 4, 3, 0, 1, 1, 0, 3, 2, 0, 0, 4, 1, 1, 3, 4, 0, 0, 0, 2, 0, 1, 4, 1, 1, 0, 0, 1, 2, 0, 1, 0, 0, 3, 4, 0, 4, 4, 1, 4, 0, 3, 1, 1, 0, 1, 1, 4, 3, 0, 3, 2, 0, 4, 4, 4, 1, 2, 4, 3, 1, 3, 1, 2, 0, 1, 4, 4, 1, 1, 0, 1, 1, 4, 3, 0, 3, 4, 1, 0, 2, 1, 0, 1, 2, 0, 1, 1, 0, 3, 2, 1, 3, 0, 1, 0, 1, 0, 1, 0, 5, 3, 1, 1, 1, 3, 0, 2, 0, 4, 1, 0, 1, 4, 1, 1, 4, 4, 3, 0, 1, 3, 1, 0, 0, 0, 1, 1, 1, 2, 1, 4, 1, 0, 2, 1, 4, 0, 1, 0, 4, 2, 3, 0, 1, 1, 0, 1, 0, 1, 1, 0, 0, 1, 1, 1, 0, 1, 0, 0, 0, 1, 0, 1, 1, 4, 0, 0, 1, 3, 0, 5, 2, 0, 4, 5, 0, 3, 1, 4, 3, 0, 3, 1, 4, 1, 1, 2, 1, 0, 0, 1, 1, 4, 1, 1, 0, 3, 3, 3, 1, 2, 0, 4, 5, 0, 3, 1, 1, 0, 1, 0, 1, 1, 1, 4, 3, 1, 1, 1, 5, 4, 4, 0, 1, 2, 2, 1, 4, 0, 0, 0, 0, 1, 0, 1, 0, 3, 0, 2, 1, 2, 4, 0, 0, 1, 1, 2, 0, 1, 2, 4, 1, 0, 1, 1, 1, 4, 0, 1, 0, 1, 1, 4, 0, 2, 0, 1, 4, 2, 0, 0, 0, 2, 2, 3, 1, 4, 1, 1, 3, 1, 5, 0, 1, 2, 4, 0, 3, 3, 0, 0, 1, 0, 0, 2, 0, 0, 1, 0, 1, 4, 1, 1, 3, 1, 0, 1, 3, 5, 0, 1, 3, 1, 0, 4, 0, 0, 3, 0, 3, 1, 1, 1, 3, 4, 4, 0, 1, 3, 1, 2, 0, 0, 1, 1, 3, 0, 0, 1, 0, 0, 1, 0, 0, 1, 0, 0, 4, 0, 1, 0, 2, 1, 5, 3, 0, 1, 0, 5, 3, 4, 3, 0, 2, 0, 3, 1, 1, 4, 2, 4, 5, 0, 4, 0, 1, 0, 1, 1, 5, 3, 0, 3, 1, 3, 0, 0, 1, 0, 5, 2, 3, 0, 4, 1, 1, 0, 0, 0, 1, 1, 0, 0, 4, 4, 4, 0, 3, 3, 0, 3, 0, 0, 0, 0, 1, 0, 5, 1, 3, 2, 0, 3, 3, 1, 1, 3, 1, 0, 3, 0, 3, 0, 3, 1, 5, 5, 0, 0, 4, 3, 4, 1, 1, 1, 1, 1, 5, 1, 3, 0, 1, 4, 1, 1, 1, 0, 4, 0, 0, 1, 1, 3, 0, 1, 1, 3, 1, 0, 1, 0, 1, 2, 3, 2, 0, 2, 3, 3, 3, 4, 4, 2, 1, 3, 1, 0, 1, 0, 3, 2, 0, 0, 0, 1, 2, 3, 5, 5, 2, 0, 3, 0, 1, 0, 0, 0, 0, 2, 1, 0, 3, 1, 1, 0, 0, 1, 3, 4, 0, 2, 2, 3, 1, 0, 5, 5, 3, 1, 1, 5, 1, 2, 3, 1, 0, 3, 1, 1, 2, 1, 0, 1, 1, 2, 1, 0, 3, 4, 1, 1, 1, 3, 5, 4, 3, 4, 4, 3, 1, 3, 1, 1, 1, 0, 3, 4, 1, 1, 1, 0, 1, 1, 4, 0, 1, 1, 3, 5, 1, 3, 5, 0, 5, 0, 0, 1, 0, 1, 5, 4, 0, 1, 5, 0, 0, 1, 1, 1, 1, 1, 3, 1, 1, 2, 0, 1, 1, 1, 0, 1, 1, 0, 1, 0, 0, 0, 0, 0, 1, 0, 2, 1, 2, 0, 2, 5, 3, 2, 4, 0, 1, 0, 4, 4, 4, 0, 0, 0, 4, 0, 0, 5, 2, 1, 4, 3, 1, 0, 1, 1, 4, 3, 3, 2, 1, 0, 0, 0, 5, 1, 1, 1, 3, 3, 1, 3, 1, 4, 0, 0, 0, 0, 4, 0, 0, 4, 4, 3, 0, 0, 1, 0, 1, 4, 1, 0, 0, 4, 0, 1, 2, 0, 0, 1, 1, 1, 3, 1, 0, 0, 1, 4, 5, 1, 0, 0, 0, 0, 1, 4, 1, 3, 0, 0, 1, 1, 0, 3, 4, 1, 3, 4, 3, 1, 1, 1, 1, 0, 3, 0, 0, 1, 3, 3, 3, 3, 1, 1, 3, 1, 4, 1, 3, 1, 0, 1, 0, 5, 4, 1, 5, 4, 0, 2, 1, 1, 4, 2, 1, 5, 5, 1, 0, 1, 0, 0, 3, 0, 1, 1, 0, 5, 1, 2, 3, 1, 3, 1, 0, 1, 0, 1, 1, 3, 0, 2, 0, 3, 1, 1, 0, 0, 0, 0, 4, 0, 0, 1, 1, 4, 0, 1, 5, 2, 0, 2, 5, 0, 0, 1, 4, 1, 1, 1, 2, 0, 0, 5, 4, 1, 0, 1, 4, 1, 0, 1, 0, 2, 4, 4, 0, 1, 3, 3, 0, 3, 1, 1, 1, 1, 0, 1, 4, 0, 3, 3, 0, 4, 0, 1, 1, 1, 1, 1, 4, 1, 4, 5, 5, 0, 0, 1, 1, 0, 4, 2, 1, 0, 5, 4, 1, 0, 0, 0, 1, 1, 0, 2, 2, 2, 1, 5, 2, 1, 1, 0, 5, 1, 0, 1, 1, 0, 1, 3, 1, 0, 0, 4, 0, 4, 1, 1, 4, 0, 0, 3, 3, 0, 0, 1, 4, 0, 1, 0, 0, 2, 3, 4, 0, 1, 1, 1, 1, 1, 1, 0, 0, 3, 1, 0, 0, 1, 3, 5, 5, 0, 1, 1, 0, 4, 0, 3, 1, 1, 0, 0, 5, 2, 1, 2, 1, 1, 0, 3, 2, 0, 3, 0, 4, 0, 3, 1, 2, 1, 0, 1, 5, 1, 1, 1, 4, 1, 0, 0, 5, 2, 3, 0, 0, 0, 4, 3, 0, 4, 3, 4, 0, 3, 0, 1, 5, 0, 1, 1, 2, 0, 0, 3, 3, 2, 0, 0, 1, 2, 1, 1, 1, 1, 0, 0, 1, 1, 1, 4, 3, 4, 1, 1, 1, 0, 0, 5, 0, 0, 1, 2, 3, 2, 1, 0, 4, 3, 3, 0, 4, 1, 1, 0, 1, 1, 3, 5, 0, 1, 0, 0, 0, 1, 1, 4, 0, 0, 0, 1, 4, 1, 1, 4, 1, 0, 0, 4, 1, 1, 0, 1, 0, 1, 0, 4, 0, 0, 2, 0, 1, 4, 3, 4, 4, 1, 2, 1, 5, 1, 1, 2, 0, 0, 4, 1, 1, 1, 3, 3, 0, 3, 1, 1, 2, 4, 1, 0, 2, 2, 0, 4, 1, 1, 5, 0, 1, 2, 2, 1, 2, 1, 0, 3, 1, 4, 1, 3, 5, 1, 4, 0, 0, 3, 0, 4, 2, 0, 1, 0, 5, 1, 0, 0, 2, 0, 3, 2, 0, 1, 1, 1, 4, 1, 1, 1, 1, 3, 1, 4, 3, 0, 0, 3, 3, 0, 2, 1, 1, 3, 1, 0, 1, 3, 0, 2, 3, 1, 1, 1, 3, 0, 1, 0, 0, 0, 0, 0, 1, 5, 4, 4, 3, 1, 0, 3, 0, 5, 1, 1, 2, 4, 3, 0, 2, 0, 0, 5, 1, 1, 1, 1, 0, 0, 1, 4, 3, 3, 4, 1, 5, 0, 4, 1, 1, 4, 1, 1, 0, 4, 3, 3, 1, 0, 0, 5, 1, 3, 1, 2, 1, 4, 3, 4, 4, 1, 0, 0, 3, 1, 4, 4, 3, 4, 4, 1, 1, 3, 5, 2, 0, 0, 1, 1, 1, 0, 4, 2, 3, 1, 5, 1, 4, 2, 4, 3, 0, 1, 0, 1, 0, 5, 2, 1, 3, 3, 4, 3, 0, 1, 3, 1, 1, 3, 4, 1, 0, 5, 1, 1, 0, 1, 0, 0, 0, 3, 3, 3, 1, 0, 0, 1, 0, 4, 1, 3, 4, 1, 5, 0, 3, 0, 1, 4, 0, 4, 3, 0, 1, 4, 1, 1, 4, 2, 0, 0, 4, 4, 1, 1, 1, 3, 0, 1, 2, 0, 0, 3, 0, 0, 2, 2, 0, 3, 1, 3, 3, 3, 1, 2, 0, 2, 1, 2, 1, 2, 2, 0, 2, 1, 0, 2, 1, 0, 2, 1, 0, 4, 1, 0, 4, 1, 1, 3, 4, 0, 1, 1, 4, 4, 2, 0, 1, 1, 4, 0, 1, 3, 1, 3, 3, 0, 3, 0, 4, 4, 5, 4, 1, 3, 5, 0, 0, 0, 1, 2, 2, 3, 1, 0, 3, 0, 3, 1, 4, 0, 0, 3, 1, 1, 2, 1, 3, 4, 3, 0, 0, 0, 0, 1, 2, 1, 2, 0, 1, 1, 2, 0, 0, 0, 1, 0, 0, 0, 2, 0, 0, 0, 1, 0, 3, 3, 1, 0, 1, 1, 0, 4, 1, 4, 0, 2, 0, 0, 1, 5, 0, 1, 4, 0, 4, 1, 1, 1, 4, 3, 0, 0, 1, 1, 3, 1, 1, 4, 1, 1, 1, 0, 0, 0, 3, 1, 3, 1, 0, 4, 3, 2, 4, 3, 1, 5, 3, 4, 3, 0, 0, 0, 1, 2, 0, 1, 1, 2, 0, 0, 3, 1, 0, 0, 0, 1, 2, 1, 1, 2, 1, 0, 1, 4, 0, 1, 4, 3, 1, 0, 3, 4, 1, 5, 0, 4, 4, 4, 0, 0, 1, 1, 0, 0, 4, 0, 1, 0, 1, 1, 1, 2, 5, 1, 0, 0, 2, 0, 1, 1, 1, 1, 3, 1, 0, 1, 0, 4, 5, 0, 1, 1, 4, 0, 3, 1, 1, 1, 2, 5, 1, 1, 2, 1, 2, 2, 0, 0, 2, 5, 3, 0, 0, 0, 1, 3, 1, 1, 1, 3, 0, 1, 0, 1, 4, 1, 1, 4, 4, 0, 1, 3, 3, 1, 2, 1, 0, 3, 1, 5, 0, 4, 1, 1, 1, 0, 2, 0, 1, 4, 5, 0, 1, 3, 1, 4, 1, 0, 3, 2, 4, 1, 3, 5, 1, 1, 4, 4, 0, 1, 0, 1, 1, 3, 1, 1, 0, 1, 1, 2, 0, 2, 1, 0, 0, 2, 1, 4, 1, 1, 0, 3, 1, 0, 1, 0, 0, 1, 1, 0, 3, 1, 0, 0, 4, 4, 2, 1, 1, 1, 4, 0, 2, 4, 2, 1, 1, 0, 0, 5, 1, 0, 3, 0, 5, 0, 1, 4, 2, 0, 3, 1, 1, 0, 2, 2, 0, 4, 4, 1, 0, 0, 4, 1, 0, 0, 3, 0, 0, 3, 1, 4, 0, 3, 0, 0, 2, 1, 1, 2, 0, 3, 0, 1, 3, 0, 4, 1, 3, 0, 1, 4, 0, 1, 4, 0, 1, 1, 3, 0, 3, 4, 3, 0, 5, 3, 4, 4, 1, 3, 1, 1, 0, 4, 1, 1, 1, 0, 3, 4, 1, 3, 1, 0, 2, 4, 4, 4, 3, 3, 0, 3, 4, 1, 1, 0, 2, 0, 1, 1, 1, 4, 2, 0, 4, 0, 4, 0, 0, 1, 4, 1, 3, 1, 0, 1, 1, 1, 5, 0, 5, 4, 0, 0, 2, 0, 2, 4, 2, 1, 1, 3, 1, 1, 3, 0, 4, 3, 0, 0, 3, 3, 0, 0, 3, 2, 1, 0, 1, 3, 2, 0, 3, 4, 1, 0, 1, 3, 1, 1, 4, 0, 1, 0, 1, 4, 0, 0, 1, 5, 1, 3, 5, 5, 1, 1, 0, 0, 3, 4, 1, 0, 2, 4, 0, 0, 1, 2, 4, 3, 1, 4, 0, 4, 5, 0, 0, 1, 0, 4, 3, 2, 0, 4, 1, 1, 2, 0, 3, 4, 0, 0, 4, 1, 0, 0, 4, 1, 0, 0, 1, 0, 0, 3, 0, 1, 3, 4, 0, 1, 0, 1, 1, 4, 3, 1, 5, 3, 0, 1, 4, 0, 2, 2, 0, 5, 1, 4, 2, 3, 5, 0, 3, 3, 1, 1, 4, 1, 1, 3, 0, 0, 1, 3, 0, 1, 0, 2, 3, 4, 0, 1, 4, 3, 1, 1, 1, 0, 1, 1, 1, 1, 3, 1, 0, 1, 0, 1, 0, 0, 0, 0, 4, 3, 1, 1, 3, 2, 0, 4, 1, 1, 1, 4, 0, 0, 2, 0, 0, 4, 0, 1, 3, 4, 1, 0, 0, 3, 1, 1, 4, 0, 4, 4, 0, 3, 1, 3, 4, 4, 1, 1, 1, 4, 0, 1, 1, 3, 0, 1, 0, 5, 3, 1, 4, 3, 0, 3, 4, 0, 2, 4, 0, 2, 2, 4, 3, 1, 1, 0, 1, 2, 0, 2, 5, 0, 3, 2, 1, 0, 4, 5, 1, 0, 2, 1, 0, 0, 1, 1, 4, 3, 1, 0, 1, 0, 2, 1, 4, 0, 1, 0, 0, 5, 5, 0, 0, 1, 1, 3, 0, 0, 3, 0, 4, 4, 1, 1, 0, 1, 0, 3, 0, 2, 0, 1, 0, 3, 1, 1, 3, 1, 1, 3, 1, 2, 3, 1, 3, 0, 4, 0, 2, 0, 4, 3, 3, 3, 0, 1, 0, 1, 1, 5, 0, 2, 0, 1, 4, 2, 1, 3, 5, 1, 5, 3, 1, 0, 3, 1, 2, 3, 1, 3, 0, 2, 0, 1, 0, 0, 0, 3, 0, 0, 1, 1, 1, 2, 0, 4, 0, 4, 0, 1, 1, 0, 0, 1, 0, 4, 0, 1, 4, 4, 0, 1, 0, 0, 0, 3, 1, 1, 3, 0, 0, 0, 3, 0, 1, 0, 1, 0, 2, 3, 0, 5, 0, 1, 1, 3, 3, 0, 4, 4, 0, 0, 1, 2, 3, 1, 1, 1, 2, 2, 0, 3, 4, 1, 5, 4, 1, 0, 1, 3, 3, 0, 3, 0, 4, 0, 0, 0, 2, 5, 1, 3, 1, 1, 2, 3, 1, 0, 0, 4, 1, 4, 3, 1, 3, 3, 3, 1, 2, 1, 1, 3, 3, 0, 4, 1, 4, 0, 1, 3, 1, 4, 3, 1, 0, 3, 1, 3, 1, 0, 2, 1, 1, 3, 0, 2, 1, 3, 1, 0, 1, 4, 3, 1, 0, 1, 0, 1, 0, 5, 1, 3, 0, 4, 1, 3, 1, 1, 1, 0, 1, 0, 3, 0, 0, 1, 3, 0, 0, 1, 1, 4, 1, 5, 3, 3, 1, 1, 4, 4, 1, 1, 4, 3, 3, 1, 0, 4, 1, 2, 4, 0, 4, 4, 5, 0, 1, 4, 1, 0, 0, 1, 4, 3, 0, 3, 1, 1, 1, 0, 1, 1, 1, 3, 2, 2, 0, 2, 3, 0, 3, 0, 3, 1, 0, 1, 4, 4, 4, 2, 0, 3, 0, 4, 0, 4, 0, 2, 1, 1, 5, 1, 4, 2, 1, 1, 0, 4, 1, 2, 4, 3, 1, 3, 1, 1, 0, 1, 2, 0, 3, 1, 4, 0, 0, 1, 1, 1, 1, 1, 0, 0, 1, 2, 5, 1, 1, 4, 1, 2, 0, 2, 0, 4, 0, 1, 0, 0, 1, 0, 0, 1, 5, 1, 1, 3, 3, 1, 0, 0, 1, 1, 1, 0, 1, 0, 1, 0, 0, 1, 0, 0, 1, 4, 0, 0, 0, 1, 3, 0, 4, 3, 0, 1, 0, 0, 1, 1, 1, 1, 0, 0, 2, 2, 0, 1, 2, 3, 5, 1, 0, 0, 4, 0, 0, 4, 0, 3, 1, 3, 1, 5, 0, 0, 0, 4, 3, 1, 3, 3, 1, 0, 1, 0, 1, 3, 0, 4, 3, 2, 0, 1, 3, 4, 1, 0, 2, 1, 2, 0, 1, 3, 3, 0, 4, 0, 4, 3, 1, 5, 3, 4, 4, 1, 3, 1, 1, 4, 5, 4, 1, 1, 3, 1, 1, 2, 0, 0, 3, 1, 0, 0, 2, 2, 4, 0, 0, 1, 1, 1, 3, 0, 1, 3, 1, 1, 0, 3, 0, 1, 1, 3, 1, 1, 3, 0, 3, 0, 4, 0, 1, 2, 0, 3, 0, 1, 2, 1, 1, 1, 1, 3, 0, 1, 0, 2, 1, 1, 3, 1, 1, 1, 1, 3, 4, 0, 0, 0, 2, 2, 3, 0, 4, 3, 1, 2, 0, 3, 2, 0, 3, 4, 0, 4, 1, 1, 5, 1, 1, 2, 0, 0, 4, 2, 1, 5, 0, 5, 1, 0, 1, 3, 0, 1, 3, 0, 3, 5, 0, 0, 3, 1, 0, 4, 3, 4, 1, 0, 1, 5, 2, 0, 2, 1, 5, 1, 3, 1, 3, 5, 0, 1, 1, 1, 4, 1, 1, 1, 1, 0, 1, 1, 0, 1, 1, 5, 1, 1, 5, 4, 1, 1, 4, 1, 1, 5, 0, 0, 2, 1, 3, 3, 4, 1, 0, 0, 2, 1, 0, 1, 1, 5, 1, 0, 0, 1, 0, 0, 0, 0, 3, 2, 0, 1, 1, 1, 1, 3, 2, 0, 4, 2, 2, 1, 1, 1, 1, 3, 0, 1, 3, 0, 4, 3, 1, 4, 0, 1, 1, 1, 0, 1, 1, 1, 0, 1, 4, 1, 0, 4, 4, 2, 4, 2, 1, 2, 4, 3, 0, 0, 3, 4, 1, 1, 0, 0, 5, 1, 4, 0, 3, 1, 3, 3, 0, 0, 0, 1, 4, 0, 0, 0, 0, 1, 1, 1, 0, 3, 3, 1, 1, 0, 1, 3, 0, 4, 2, 0, 3, 1, 5, 1, 1, 1, 1, 2, 2, 0, 1, 1, 2, 0, 1, 0, 0, 0, 1, 1, 1, 1, 1, 1, 0, 1, 0, 2, 2, 0, 0, 4, 0, 3, 1, 0, 3, 1, 0, 1, 0, 1, 0, 0, 3, 3, 3, 0, 4, 0, 3, 0, 4, 4, 0, 4, 0, 1, 0, 1, 1, 1, 4, 2, 1, 1, 4, 0, 1, 0, 4, 0, 0, 3, 4, 1, 1, 1, 2, 3, 4, 0, 1, 4, 1, 2, 2, 0, 2, 3, 0, 0, 0, 5, 1, 3, 1, 0, 4, 3, 1, 5, 1, 1, 1, 1, 0, 1, 0, 0, 2, 0, 2, 0, 0, 1, 1, 3, 3, 0, 4, 3, 1, 0, 1, 3, 2, 1, 4, 1, 1, 1, 3, 3, 4, 5, 1, 3, 3, 1, 4, 0, 4, 2, 0, 2, 1, 1, 4, 0, 3, 1, 0, 4, 1, 0, 1, 4, 1, 3, 1, 1, 1, 5, 1, 3, 0, 4, 0, 0, 1, 1, 0, 3, 0, 1, 5, 1, 1, 0, 1, 1, 1, 0, 1, 0, 0, 3, 3, 3, 3, 3, 0, 3, 0, 1, 3, 2, 3, 1, 1, 2, 2, 2, 0, 0, 0, 2, 1, 0, 3, 1, 2, 1, 1, 2, 2, 1, 0, 4, 1, 0, 1, 3, 0, 1, 1, 3, 4, 4, 3, 2, 0, 4, 4, 1, 0, 2, 0, 1, 1, 0, 3, 0, 1, 2, 0, 1, 1, 3, 0, 3, 1, 1, 1, 1, 2, 0, 1, 4, 1, 0, 2, 0, 0, 1, 0, 1, 1, 0, 4, 1, 4, 0, 0, 0, 1, 0, 4, 5, 0, 1, 0, 3, 0, 2, 0, 1, 1, 0, 3, 0, 2, 0, 1, 0, 1, 3, 0, 1, 1, 0, 0, 3, 1, 5, 4, 0, 3, 0, 1, 0, 3, 3, 5, 3, 1, 3, 0, 2, 1, 0, 1, 4, 0, 1, 3, 3, 0, 1, 3, 1, 0, 1, 1, 1, 2, 1, 2, 1, 1, 1, 3, 1, 1, 3, 1, 3, 1, 1, 1, 1, 3, 0, 1, 0, 0, 1, 0, 1, 0, 4, 1, 4, 0, 0, 4, 5, 3, 5, 0, 1, 3, 1, 5, 0, 3, 0, 2, 0, 0, 3, 1, 0, 0, 0, 4, 3, 1, 5, 1, 5, 1, 3, 2, 0, 3, 4, 1, 2, 0, 1, 1, 1, 1, 3, 0, 3, 1, 1, 3, 0, 0, 3, 1, 0, 3, 3, 1, 0, 0, 0, 1, 4, 3, 0, 2, 1, 5, 4, 4, 0, 2, 1, 0, 4, 2, 1, 4, 1, 0, 4, 1, 1, 4, 1, 1, 1, 0, 0, 0, 1, 4, 3, 0, 0, 2, 0, 5, 5, 2, 1, 2, 0, 0, 3, 1, 1, 0, 4, 1, 0, 1, 0, 4, 3, 4, 4, 1, 0, 1, 3, 3, 1, 1, 2, 1, 1, 1, 1, 4, 1, 0, 0, 1, 1, 2, 1, 1, 0, 3, 1, 1, 0, 1, 1, 1, 1, 5, 0, 1, 2, 3, 1, 1, 2, 2, 0, 1, 1, 0, 5, 0, 1, 0, 2, 3, 4, 0, 3, 1, 2, 0, 0, 0, 4, 0, 0, 2, 0, 1, 1, 4, 1, 0, 1, 0, 1, 1, 4, 0, 0, 0, 0, 3, 0, 1, 5, 4, 0, 3, 2, 3, 0, 4, 5, 0, 1, 4, 1, 0, 0, 2, 3, 1, 1, 3, 5, 2, 1, 1, 1, 1, 4, 1, 1, 0, 1, 2, 0, 2, 0, 4, 4, 1, 0, 0, 5, 0, 3, 0, 0, 1, 2, 4, 0, 0, 0, 3, 1, 3, 4, 0, 0, 4, 0, 3, 0, 0, 3, 2, 4, 2, 5, 0, 3, 1, 1, 0, 2, 0, 0, 3, 1, 0, 1, 1, 2, 3, 1, 0, 2, 3, 0, 0, 0, 1, 1, 1, 1, 3, 1, 0, 3, 1, 0, 0, 0, 3, 2, 4, 4, 4, 0, 0, 0, 4, 0, 1, 0, 5, 2, 0, 0, 3, 2, 5, 0, 4, 3, 0, 1, 1, 1, 1, 3, 2, 2, 1, 1, 1, 3, 4, 0, 0, 0, 4, 1, 5, 1, 1, 1, 1, 0, 0, 0, 4, 0, 1, 1, 1, 0, 0, 1, 1, 0, 2, 1, 0, 2, 1, 1, 4, 0, 2, 3, 1, 2, 3, 1, 2, 3, 3, 2, 0, 3, 2, 0, 1, 1, 2, 0, 4, 1, 0, 1, 1, 0, 0, 1, 5, 0, 2, 1, 5, 0, 4, 5, 0, 1, 2, 0, 1, 2, 1, 1, 3, 1, 1, 0, 1, 0, 3, 1, 1, 3, 1, 1, 1, 1, 1, 4, 2, 1, 1, 3, 1, 1, 0, 0, 1, 5, 4, 0, 4, 0, 0, 4, 0, 2, 4, 1, 1, 1, 0, 3, 3, 0, 1, 4, 0, 1, 0, 1, 0, 3, 4, 1, 0, 3, 4, 0, 1, 1, 0, 0, 0, 3, 3, 4, 0, 1, 1, 1, 3, 3, 2, 4, 3, 0, 1, 5, 1, 4, 1, 1, 1, 0, 1, 1, 1, 0, 0, 4, 0, 1, 1, 0, 1, 1, 2, 1, 3, 3, 4, 1, 0, 4, 1, 1, 3, 0, 2, 1, 1, 2, 1, 0, 1, 1, 1, 0, 1, 5, 1, 0, 2, 0, 0, 3, 0, 1, 2, 2, 1, 1, 1, 0, 1, 1, 3, 0, 1, 3, 0, 1, 4, 3, 1, 2, 2, 1, 2, 1, 1, 1, 1, 3, 1, 4, 3, 4, 1, 3, 4, 0, 1, 0, 4, 0, 0, 1, 1, 1, 1, 1, 0, 3, 1, 1, 5, 0, 0, 1, 1, 0, 0, 1, 1, 3, 1, 1, 0, 0, 0, 4, 4, 0, 5, 1, 1, 1, 4, 1, 0, 1, 1, 0, 0, 4, 3, 0, 1, 4, 3, 1, 1, 0, 1, 2, 0, 4, 3, 4, 2, 1, 3, 0, 1, 5, 3, 0, 3, 1, 0, 1, 0, 4, 0, 1, 0, 1, 5, 0, 3, 0, 1, 1, 1, 1, 1, 1, 0, 1, 4, 2, 1, 0, 1, 0, 1, 1, 1, 4, 0, 3, 4, 3, 1, 3, 0, 2, 0, 0, 4, 1, 1, 0, 1, 5, 3, 1, 0, 0, 2, 0, 0, 1, 0, 1, 3, 0, 4, 0, 0, 3, 3, 1, 4, 1, 0, 4, 4, 1, 0, 3, 3, 0, 2, 3, 3, 0, 0, 1, 5, 3, 0, 5, 4, 3, 3, 3, 0, 0, 3, 2, 0, 4, 0, 1, 4, 0, 1, 3, 1, 2, 1, 1, 0, 1, 4, 0, 0, 0, 1, 1, 1, 1, 1, 4, 0, 4, 0, 2, 3, 1, 1, 3, 1, 3, 1, 0, 0, 0, 5, 4, 2, 0, 1, 2, 5, 0, 4, 1, 2, 0, 3, 0, 1, 0, 0, 1, 4, 0, 0, 2, 1, 1, 1, 1, 0, 2, 4, 2, 0, 4, 0, 0, 0, 3, 0, 4, 1, 0, 0, 1, 1, 0, 1, 4, 0, 1, 0, 0, 2, 0, 1, 1, 3, 0, 0, 1, 1, 4, 0, 1, 1, 1, 4, 0, 0, 0, 1, 1, 4, 0, 1, 4, 3, 1, 1, 1, 0, 5, 3, 1, 1, 0, 4, 2, 1, 4, 1, 3, 0, 0, 1, 4, 4, 3, 0, 4, 0, 0, 4, 4, 1, 2, 3, 4, 1, 1, 4, 2, 2, 0, 1, 5, 1, 0, 3, 2, 0, 1, 1, 1, 1, 1, 1, 1, 0, 0, 3, 0, 4, 3, 0, 3, 2, 4, 1, 0, 1, 0, 2, 1, 3, 2, 4, 3, 1, 4, 0, 2, 0, 0, 0, 1, 0, 1, 1, 3, 1, 3, 1, 3, 0, 3, 4, 5, 1, 1, 1, 3, 1, 1, 4, 5, 0, 4, 1, 1, 3, 4, 1, 2, 0, 1, 4, 1, 5, 1, 0, 1, 5, 3, 0, 3, 0, 1, 1, 1, 1, 1, 2, 2, 3, 1, 2, 2, 2, 4, 0, 0, 1, 0, 0, 1, 0, 1, 0, 3, 1, 0, 1, 1, 0, 1, 1, 3, 2, 1, 1, 1, 4, 0, 3, 3, 0, 1, 0, 1, 1, 0, 1, 3, 0, 0, 0, 1, 2, 3, 1, 1, 1, 1, 0, 4, 1, 1, 1, 0, 0, 1, 1, 0, 1, 1, 0, 0, 1, 1, 1, 3, 4, 1, 1, 1, 0, 0, 1, 0, 1, 1, 1, 2, 2, 0, 0, 1, 2, 4, 1, 1, 0, 1, 0, 1, 1, 1, 1, 3, 1, 0, 1, 0, 1, 0, 3, 1, 1, 0, 2, 4, 4, 4, 0, 4, 1, 0, 1, 2, 4, 2, 4, 3, 0, 1, 2, 0, 0, 1, 3, 5, 0, 0, 3, 1, 1, 4, 1, 0, 1, 1, 0, 1, 3, 0, 1, 0, 1, 1, 0, 0, 1, 1, 0, 1, 0, 0, 2, 0, 1, 0, 1, 2, 0, 2, 2, 0, 0, 2, 0, 4, 3, 1, 1, 3, 3, 1, 1, 3, 1, 0, 1, 1, 2, 1, 2, 5, 0, 0, 1, 0, 1, 0, 3, 1, 4, 1, 4, 4, 4, 1, 0, 3, 0, 5, 0, 0, 1, 1, 0, 0, 1, 4, 0, 3, 2, 3, 3, 3, 0, 1, 0, 5, 3, 0, 0, 0, 0, 0, 2, 0, 3, 1, 1, 0, 1, 2, 1, 3, 2, 1, 1, 1, 5, 1, 1, 0, 1, 4, 1, 5, 1, 1, 4, 1, 3, 4, 0, 3, 0, 2, 1, 3, 1, 3, 4, 2, 0, 0, 2, 4, 0, 0, 3, 0, 3, 1, 1, 0, 1, 0, 3, 1, 0, 5, 3, 3, 1, 1, 0, 0, 0, 0, 1, 3, 0, 1, 0, 0, 4, 3, 3, 2, 0, 0, 0, 4, 1, 4, 1, 5, 1, 0, 0, 4, 0, 2, 0, 1, 0, 3, 0, 1, 3, 2, 1, 1, 0, 0, 1, 0, 3, 1, 0, 0, 0, 3, 2, 3, 3, 0, 1, 2, 0, 1, 4, 1, 1, 2, 0, 2, 1, 1, 3, 5, 1, 0, 4, 0, 0, 4, 4, 1, 0, 0, 0, 0, 0, 3, 4, 0, 4, 0, 1, 1, 0, 4, 4, 1, 3, 3, 4, 1, 1, 0, 1, 1, 0, 0, 2, 0, 1, 4, 3, 4, 3, 1, 4, 0, 3, 0, 0, 1, 0, 3, 1, 1, 0, 0, 0, 4, 1, 0, 1, 0, 0, 0, 0, 2, 4, 0, 5, 2, 4, 4, 1, 0, 1, 0, 3, 1, 5, 4, 4, 0, 1, 0, 0, 3, 0, 4, 4, 1, 1, 0, 3, 1, 4, 3, 1, 1, 1, 4, 1, 1, 1, 4, 0, 3, 1, 4, 0, 3, 1, 1, 0, 0, 2, 1, 3, 3, 0, 1, 4, 1, 1, 1, 1, 4, 0, 1, 2, 1, 1, 2, 0, 1, 4, 1, 0, 1, 3, 0, 0, 1, 1, 1, 1, 4, 0, 0, 1, 3, 0, 1, 1, 0, 1, 0, 0, 1, 1, 3, 1, 4, 0, 0, 2, 1, 3, 0, 3, 4, 4, 1, 0, 0, 0, 0, 1, 1, 3, 0, 4, 2, 5, 0, 4, 3, 4, 0, 2, 0, 0, 4, 1, 2, 0, 0, 2, 5, 0, 2, 1, 1, 2, 0, 2, 1, 1, 1, 0, 1, 1, 0, 0, 0, 1, 2, 1, 2, 1, 4, 1, 4, 1, 1, 1, 0, 0, 4, 1, 1, 0, 1, 1, 0, 1, 3, 4, 0, 0, 0, 0, 4, 1, 1, 2, 4, 1, 1, 0, 4, 5, 1, 0, 0, 0, 1, 0, 2, 2, 4, 1, 4, 3, 3, 4, 3, 3, 1, 0, 0, 2, 1, 1, 2, 1, 2, 0, 5, 1, 0, 1, 3, 0, 4, 0, 4, 1, 4, 1, 3, 4, 4, 0, 0, 1, 3, 3, 1, 1, 1, 0, 1, 4, 1, 0, 0, 0, 1, 2, 3, 1, 3, 1, 3, 1, 4, 1, 3, 3, 1, 4, 0, 1, 4, 0, 4, 1, 1, 1, 1, 1, 0, 3, 0, 1, 3, 3, 1, 1, 0, 0, 4, 1, 4, 1, 0, 0, 2, 1, 1, 4, 4, 0, 1, 4, 1, 0, 2, 3, 1, 0, 2, 2, 1, 1, 4, 4, 0, 1, 1, 0, 3, 4, 0, 4, 1, 5, 0, 0, 4, 0, 1, 0, 3, 0, 4, 1, 4, 0, 2, 0, 0, 1, 1, 1, 0, 1, 0, 5, 0, 3, 1, 0, 1, 1, 0, 3, 2, 3, 4, 1, 0, 1, 4, 2, 0, 1, 0, 0, 1, 4, 0, 2, 0, 0, 1, 2, 0, 2, 1, 4, 3, 4, 0, 4, 4, 0, 0, 4, 1, 1, 1, 3, 2, 4, 0, 1, 0, 3, 0, 1, 2, 1, 0, 1, 0, 0, 0, 0, 1, 3, 2, 0, 1, 0, 2, 1, 1, 1, 0, 4, 1, 0, 1, 1, 5, 1, 4, 4, 3, 4, 0, 0, 0, 4, 0, 3, 1, 3, 0, 0, 3, 4, 3, 4, 2, 3, 2, 1, 4, 3, 1, 2, 1, 0, 2, 1, 2, 4, 1, 4, 4, 0, 0, 1, 2, 0, 1, 0, 0, 2, 0, 0, 4, 1, 0, 1, 3, 1, 4, 0, 1, 1, 2, 5, 1, 3, 2, 3, 0, 1, 1, 1, 2, 0, 2, 1, 0, 1, 1, 3, 3, 1, 0, 4, 0, 1, 4, 1, 3, 0, 1, 1, 1, 4, 4, 0, 1, 0, 0, 1, 1, 0, 1, 4, 3, 1, 0, 4, 1, 0, 2, 3, 0, 1, 5, 1, 1, 4, 3, 4, 4, 3, 1, 3, 3, 5, 3, 4, 0, 1, 1, 1, 0, 2, 0, 1, 0, 1, 4, 0, 1, 4, 3, 1, 3, 0, 1, 3, 1, 0, 4, 1, 1, 0, 0, 3, 2, 0, 0, 1, 1, 3, 2, 3, 0, 0, 1, 0, 5, 5, 0, 4, 1, 1, 1, 4, 0, 1, 4, 0, 1, 4, 1, 1, 0, 4, 1, 3, 4, 0, 1, 3, 0, 1, 0, 0, 0, 0, 0, 2, 0, 3, 4, 0, 1, 0, 0, 2, 4, 3, 3, 1, 4, 1, 1, 0, 0, 0, 0, 0, 3, 4, 0, 2, 1, 0, 1, 1, 4, 4, 1, 0, 2, 0, 0, 2, 4, 3, 3, 1, 0, 0, 1, 3, 1, 0, 0, 0, 0, 4, 0, 3, 1, 1, 3, 3, 2, 1, 4, 1, 0, 0, 5, 1, 1, 1, 0, 1, 0, 3, 3, 1, 0, 0, 0, 1, 0, 2, 1, 5, 0, 0, 1, 3, 0, 0, 4, 4, 0, 0, 1, 1, 1, 2, 2, 2, 1, 4, 4, 1, 0, 3, 1, 1, 3, 3, 3, 0, 2, 1, 0, 5, 0, 0, 0, 0, 0, 3, 0, 3, 2, 3, 1, 3, 4, 4, 0, 4, 4, 1, 3, 1, 1, 0, 0, 1, 0, 0, 4, 0, 1, 1, 5, 0, 2, 0, 2, 1, 0, 1, 3, 1, 3, 4, 1, 2, 0, 0, 2, 0, 1, 1, 3, 1, 3, 2, 0, 3, 1, 0, 1, 0, 1, 3, 3, 0, 2, 1, 1, 0, 2, 2, 5, 1, 1, 1, 1, 1, 0, 1, 3, 4, 3, 2, 0, 1, 0, 1, 1, 1, 5, 1, 1, 5, 0, 0, 2, 3, 1, 2, 4, 2, 4, 1, 0, 3, 0, 1, 1, 0, 1, 1, 1, 1, 1, 0, 0, 0, 2, 0, 0, 3, 1, 1, 3, 1, 1, 1, 4, 0, 2, 0, 3, 0, 1, 1, 0, 0, 0, 0, 1, 3, 1, 1, 0, 0, 3, 3, 0, 1, 4, 0, 4, 1, 0, 3, 1, 1, 4, 1, 0, 0, 0, 1, 1, 0, 0, 4, 0, 1, 2, 0, 0, 0, 1, 4, 4, 0, 3, 3, 1, 1, 0, 4, 1, 3, 4, 3, 0, 1, 0, 1, 0, 3, 0, 1, 1, 1, 3, 0, 5, 0, 2, 1, 1, 4, 0, 2, 1, 1, 0, 2, 1, 4, 5, 1, 1, 1, 4, 1, 3, 0, 1, 0, 0, 0, 1, 1, 4, 4, 0, 0, 3, 1, 0, 1, 0, 5, 1, 3, 2, 4, 0, 2, 3, 1, 2, 0, 1, 1, 0, 2, 2, 2, 3, 0, 4, 0, 1, 4, 1, 2, 0, 0, 1, 1, 2, 3, 3, 4, 1, 1, 1, 3, 0, 1, 4, 4, 0, 4, 3, 2, 1, 0, 0, 4, 1, 1, 0, 1, 1, 1, 1, 2, 3, 1, 1, 0, 4, 4, 4, 1, 1, 1, 3, 1, 1, 4, 0, 0, 0, 0, 3, 0, 4, 0, 5, 0, 4, 3, 3, 4, 0, 4, 2, 2, 1, 5, 0, 1, 3, 3, 0, 3, 4, 4, 2, 5, 0, 1, 1, 1, 0, 0, 0, 4, 0, 1, 1, 4, 1, 4, 2, 5, 1, 3, 1, 2, 4, 4, 0, 5, 1, 4, 0, 1, 0, 1, 0, 2, 5, 3, 1, 1, 0, 0, 1, 3, 1, 1, 1, 1, 4, 1, 3, 2, 4, 0, 0, 1, 3, 5, 1, 3, 0, 1, 2, 1, 3, 0, 1, 1, 0, 4, 0, 3, 0, 2, 0, 1, 5, 0, 1, 4, 1, 1, 1, 0, 4, 4, 0, 0, 3, 3, 1, 1, 1, 1, 0, 1, 1, 3, 1, 1, 3, 1, 3, 1, 0, 4, 0, 1, 3, 2, 4, 1, 3, 4, 4, 1, 0, 0, 3, 1, 3, 1, 1, 1, 4, 0, 0, 0, 4, 1, 3, 0, 4, 0, 1, 0, 3, 3, 3, 1, 0, 0, 1, 0, 4, 0, 0, 0, 0, 0, 5, 1, 1, 0, 2, 1, 1, 1, 3, 3, 1, 1, 0, 1, 2, 1, 2, 0, 3, 4, 1, 0, 0, 5, 2, 1, 1, 1, 4, 0, 1, 0, 1, 5, 1, 4, 1, 1, 5, 0, 0, 0, 3, 0, 1, 0, 2, 3, 1, 0, 1, 1, 2, 0, 0, 1, 4, 2, 1, 0, 2, 1, 1, 4, 1, 1, 1, 3, 2, 0, 1, 1, 1, 0, 1, 0, 5, 0, 1, 1, 1, 2, 4, 0, 1, 0, 1, 0, 2, 1, 2, 0, 4, 3, 5, 1, 0, 4, 0, 0, 1, 0, 1, 1, 0, 1, 3, 0, 4, 1, 1, 1, 5, 0, 1, 4, 1, 0, 0, 0, 1, 3, 0, 1, 4, 1, 1, 1, 1, 0, 0, 0, 2, 1, 4, 2, 0, 3, 0, 1, 1, 2, 0, 2, 1, 1, 1, 1, 0, 0, 4, 0, 0, 1, 0, 1, 2, 2, 2, 1, 2, 1, 1, 1, 1, 1, 2, 0, 1, 0, 1, 3, 0, 1, 1, 4, 4, 1, 1, 3, 0, 2, 4, 0, 1, 1, 3, 4, 4, 3, 4, 4, 3, 1, 4, 5, 4, 0, 1, 2, 1, 3, 4, 1, 1, 1, 1, 1, 4, 0, 0, 0, 4, 1, 5, 3, 1, 1, 4, 0, 1, 1, 3, 4, 4, 1, 0, 1, 1, 0, 4, 1, 0, 1, 0, 1, 0, 3, 1, 2, 0, 0, 4, 1, 0, 0, 2, 0, 4, 3, 0, 3, 1, 0, 3, 3, 1, 4, 2, 1, 0, 1, 0, 1, 1, 0, 0, 0, 4, 4, 2, 4, 1, 2, 3, 0, 0, 1, 3, 1, 0, 1, 1, 2, 3, 3, 2, 0, 3, 1, 3, 1, 4, 1, 1, 4, 0, 0, 1, 1, 1, 1, 1, 1, 0, 0, 0, 1, 5, 1, 2, 1, 3, 2, 0, 1, 1, 1, 1, 0, 0, 0, 2, 0, 3, 1, 0, 0, 1, 1, 0, 0, 2, 4, 1, 0, 0, 1, 0, 2, 3, 2, 3, 0, 1, 3, 3, 2, 4, 0, 0, 1, 1, 1, 0, 1, 0, 0, 1, 1, 0, 1, 1, 1, 1, 0, 0, 5, 1, 3, 4, 1, 1, 0, 1, 1, 1, 1, 5, 1, 5, 1, 4, 0, 1, 1, 5, 3, 4, 0, 3, 4, 1, 0, 4, 2, 1, 0, 0, 0, 0, 1, 0, 1, 4, 0, 0, 0, 1, 3, 1, 0, 1, 0, 1, 0, 0, 1, 0, 1, 1, 3, 0, 1, 1, 3, 3, 1, 2, 1, 3, 4, 0, 2, 0, 2, 0, 0, 0, 1, 0, 4, 1, 3, 0, 0, 0, 2, 1, 3, 1, 1, 4, 1, 0, 1, 0, 4, 2, 2, 1, 1, 0, 1, 1, 1, 0, 4, 1, 1, 0, 4, 1, 0, 3, 2, 3, 0, 5, 4, 3, 5, 5, 0, 3, 4, 1, 1, 1, 3, 4, 0, 1, 1, 2, 1, 3, 1, 4, 1, 0, 1, 1, 0, 1, 0, 3, 3, 1, 0, 1, 1, 0, 3, 3, 0, 1, 1, 2, 1, 1, 1, 2, 2, 1, 4, 0, 4, 0, 0, 3, 0, 1, 3, 4, 3, 3, 3, 2, 1, 0, 0, 0, 4, 1, 1, 3, 0, 3, 1, 3, 1, 1, 3, 1, 0, 1, 4, 1, 2, 2, 0, 0, 4, 3, 1, 3, 1, 1, 3, 0, 1, 1, 5, 4, 1, 2, 2, 0, 0, 0, 0, 3, 0, 0, 1, 4, 2, 3, 3, 4, 1, 4, 0, 0, 3, 0, 1, 1, 0, 4, 3, 0, 3, 0, 1, 0, 1, 4, 0, 0, 1, 0, 0, 1, 1, 1, 1, 0, 4, 0, 2, 1, 1, 1, 1, 0, 0, 1, 0, 1, 1, 3, 1, 1, 1, 1, 4, 1, 0, 1, 0, 0, 1, 1, 4, 0, 4, 0, 0, 0, 0, 3, 1, 4, 1, 1, 4, 1, 0, 0, 1, 3, 0, 1, 4, 0, 1, 1, 4, 3, 1, 3, 0, 3, 2, 0, 1, 3, 0, 0, 1, 1, 1, 1, 0, 4, 0, 4, 1, 3, 3, 1, 0, 1, 1, 3, 0, 0, 1, 0, 2, 4, 4, 1, 2, 1, 1, 4, 0, 0, 4, 2, 0, 1, 1, 4, 2, 4, 0, 1, 0, 2, 4, 0, 1, 1, 0, 0, 2, 1, 1, 1, 4, 0, 4, 0, 0, 4, 4, 2, 0, 5, 0, 1, 4, 2, 2, 1, 2, 4, 0, 3, 1, 0, 0, 2, 1, 0, 0, 1, 2, 0, 3, 0, 4, 0, 0, 1, 1, 1, 1, 4, 1, 0, 0, 4, 1, 4, 0, 3, 0, 1, 0, 0, 1, 0, 1, 0, 1, 1, 1, 1, 4, 0, 3, 1, 4, 1, 1, 0, 0, 0, 0, 4, 3, 1, 0, 1, 4, 3, 0, 3, 0, 0, 1, 0, 2, 0, 4, 1, 1, 1, 1, 1, 3, 0, 0, 3, 0, 0, 1, 3, 3, 1, 1, 4, 2, 3, 0, 0, 4, 0, 1, 4, 5, 0, 4, 0, 2, 4, 0, 0, 0, 1, 0, 2, 4, 3, 3, 1, 1, 1, 1, 0, 0, 1, 1, 3, 1, 3, 1, 0, 1, 1, 3, 0, 0, 1, 0, 1, 2, 3, 1, 3, 1, 3, 0, 0, 2, 0, 3, 1, 2, 1, 3, 0, 1, 0, 3, 3, 0, 1, 4, 3, 2, 0, 3, 0, 4, 1, 0, 0, 3, 3, 4, 5, 4, 0, 1, 1, 2, 1, 2, 1, 0, 2, 1, 1, 1, 0, 1, 0, 1, 3, 1, 2, 1, 0, 0, 0, 3, 4, 2, 1, 3, 0, 0, 1, 4, 1, 4, 2, 2, 3, 3, 0, 4, 0, 0, 5, 2, 1, 1, 2, 0, 1, 1, 4, 0, 3, 3, 0, 2, 4, 4, 3, 3, 1, 0, 0, 1, 1, 4, 0, 1, 2, 4, 3, 0, 1, 3, 5, 4, 1, 1, 2, 4, 0, 1, 3, 4, 3, 0, 0, 0, 3, 0, 4, 1, 3, 3, 0, 4, 1, 3, 4, 0, 1, 4, 1, 2, 3, 4, 4, 4, 4, 1, 3, 3, 0, 1, 0, 1, 0, 0, 1, 0, 4, 4, 1, 0, 1, 0, 1, 4, 3, 0, 1, 3, 1, 1, 0, 1, 1, 3, 3, 1, 1, 1, 0, 1, 1, 1, 3, 3, 1, 2, 1, 2, 1, 1, 1, 0, 1, 0, 5, 0, 3, 3, 3, 4, 4, 1, 4, 4, 1, 3, 1, 1, 1, 2, 1, 4, 0, 0, 5, 0, 0, 3, 1, 2, 4, 1, 3, 1, 5, 3, 4, 0, 1, 0, 1, 0, 2, 4, 0, 0, 5, 1, 3, 3, 0, 5, 3, 1, 4, 0, 4, 1, 1, 4, 0, 1, 1, 1, 4, 0, 2, 4, 2, 0, 3, 2, 0, 1, 1, 1, 4, 0, 3, 4, 2, 1, 2, 3, 0, 1, 1, 2, 0, 1, 0, 1, 0, 0, 4, 3, 1, 0, 1, 0, 1, 1, 0, 5, 1, 1, 3, 1, 1, 4, 1, 0, 0, 4, 3, 0, 1, 0, 0, 1, 3, 0, 0, 4, 0, 1, 5, 0, 1, 0, 3, 3, 4, 1, 1, 4, 4, 2, 0, 2, 1, 0, 1, 1, 1, 3, 5, 1, 3, 3, 3, 1, 0, 4, 3, 1, 0, 0, 4, 1, 1, 3, 0, 1, 4, 1, 0, 0, 1, 1, 0, 0, 0, 5, 2, 5, 1, 1, 1, 1, 2, 1, 0, 4, 4, 0, 3, 1, 1, 4, 0, 0, 0, 4, 1, 2, 3, 0, 1, 1, 1, 0, 2, 0, 1, 1, 0, 1, 1, 0, 0, 1, 4, 0, 1, 1, 0, 1, 0, 0, 1, 2, 1, 0, 0, 0, 2, 1, 1, 1, 5, 1, 3, 1, 0, 1, 1, 4, 3, 1, 0, 1, 0, 0, 0, 1, 1, 0, 1, 5, 1, 0, 5, 4, 1, 1, 0, 0, 5, 0, 4, 4, 3, 5, 2, 5, 3, 1, 1, 1, 0, 1, 1, 0, 3, 0, 0, 0, 1, 4, 1, 1, 1, 0, 1, 0, 1, 0, 0, 4, 1, 1, 0, 1, 1, 3, 1, 1, 0, 1, 0, 4, 3, 1, 1, 3, 1, 0, 2, 3, 1, 0, 2, 4, 3, 1, 0, 0, 1, 1, 4, 0, 0, 2, 0, 3, 1, 0, 3, 0, 0, 1, 4, 5, 4, 1, 0, 1, 3, 5, 0, 3, 3, 4, 0, 0, 1, 0, 4, 0, 3, 0, 1, 3, 1, 2, 3, 4, 2, 2, 0, 0, 3, 1, 2, 0, 1, 0, 0, 4, 4, 4, 0, 2, 1, 2, 0, 4, 1, 4, 1, 1, 3, 1, 4, 1, 1, 0, 3, 0, 1, 3, 4, 5, 1, 0, 4, 0, 1, 1, 3, 0, 2, 4, 3, 0, 0, 2, 0, 2, 1, 1, 0, 0, 4, 1, 1, 1, 1, 1, 0, 1, 1, 2, 3, 1, 4, 4, 2, 4, 0, 1, 0, 0, 1, 3, 1, 1, 1, 0, 0, 2, 0, 0, 0, 4, 3, 3, 3, 0, 0, 2, 3, 4, 1, 1, 2, 1, 4, 0, 3, 2, 1, 1, 5, 0, 1, 0, 0, 0, 0, 1, 1, 0, 2, 0, 0, 4, 1, 0, 1, 1, 0, 4, 4, 1, 1, 1, 1, 3, 0, 0, 4, 4, 0, 0, 3, 1, 1, 0, 1, 4, 4, 0, 3, 1, 1, 4, 1, 1, 3, 0, 3, 4, 0, 5, 1, 0, 5, 0, 3, 1, 0, 4, 4, 4, 1, 3, 2, 3, 3, 3, 1, 3, 3, 1, 3, 4, 1, 0, 2, 0, 3, 4, 0, 1, 1, 3, 1, 1, 1, 3, 0, 0, 0, 1, 0, 2, 0, 1, 4, 1, 3, 0, 3, 4, 0, 3, 1, 3, 0, 1, 4, 0, 0, 4, 1, 4, 4, 4, 0, 1, 5, 1, 1, 0, 1, 2, 4, 1, 4, 1, 2, 0, 0, 3, 2, 1, 0, 2, 3, 1, 3, 0, 4, 0, 5, 5, 1, 2, 3, 4, 1, 0, 0, 1, 0, 0, 1, 1, 2, 0, 4, 2, 3, 1, 1, 0, 1, 1, 1, 5, 1, 4, 2, 1, 4, 0, 4, 2, 1, 4, 0, 4, 0, 1, 0, 0, 0, 3, 1, 1, 1, 2, 4, 0, 3, 3, 0, 4, 4, 2, 4, 0, 4, 3, 1, 3, 0, 3, 1, 3, 0, 3, 0, 0, 1, 1, 3, 4, 0, 3, 0, 2, 0, 0, 0, 3, 2, 0, 1, 3, 2, 1, 0, 3, 0, 4, 2, 0, 0, 3, 2, 1, 5, 4, 3, 0, 0, 4, 4, 0, 4, 0, 3, 4, 3, 0, 1, 5, 4, 2, 0, 3, 0, 1, 2, 0, 3, 4, 2, 1, 1, 1, 1, 1, 3, 2, 4, 1, 1, 1, 3, 0, 0, 0, 1, 1, 0, 1, 4, 0, 0, 0, 0, 4, 4, 0, 1, 3, 1, 5, 0, 0, 0, 0, 1, 3, 2, 0, 1, 0, 0, 1, 1, 0, 0, 0, 3, 5, 0, 3, 1, 2, 2, 3, 2, 4, 1, 4, 1, 2, 1, 1, 4, 4, 3, 1, 3, 4, 2, 4, 0, 3, 4, 4, 1, 1, 0, 0, 2, 0, 0, 1, 0, 0, 4, 0, 1, 4, 1, 1, 0, 0, 3, 4, 0, 5, 5, 5, 0, 0, 1, 0, 3, 0, 0, 1, 0, 1, 0, 0, 3, 1, 3, 1, 5, 3, 0, 5, 4, 3, 0, 1, 0, 2, 1, 0, 0, 1, 1, 5, 1, 1, 1, 1, 1, 1, 3, 0, 4, 3, 4, 0, 1, 5, 1, 3, 4, 0, 2, 1, 0, 1, 1, 1, 0, 1, 3, 3, 1, 1, 0, 0, 0, 1, 1, 0, 0, 3, 1, 1, 0, 0, 3, 4, 1, 0, 2, 1, 0, 0, 0, 0, 3, 0, 1, 5, 2, 1, 5, 2, 1, 1, 1, 1, 1, 3, 1, 1, 3, 2, 1, 5, 3, 3, 0, 4, 4, 1, 1, 0, 0, 1, 3, 1, 0, 1, 0, 1, 1, 1, 0, 2, 1, 0, 2, 3, 2, 1, 1, 0, 4, 1, 4, 0, 1, 1, 2, 3, 3, 3, 2, 3, 3, 4, 1, 1, 0, 0, 0, 1, 3, 5, 1, 0, 0, 1, 1, 2, 3, 1, 1, 4, 1, 3, 4, 3, 0, 1, 0, 1, 0, 1, 0, 0, 3, 4, 1, 0, 2, 3, 0, 0, 1, 3, 4, 5, 2, 0, 5, 5, 2, 0, 1, 1, 3, 0, 0, 2, 3, 4, 4, 1, 4, 1, 0, 0, 1, 1, 0, 4, 2, 0, 1, 0, 5, 1, 1, 3, 1, 1, 3, 1, 0, 0, 3, 1, 4, 4, 0, 1, 0, 0, 0, 3, 1, 3, 3, 1, 1, 1, 1, 1, 1, 0, 1, 1, 1, 1, 1, 1, 4, 3, 2, 0, 0, 1, 0, 4, 1, 3, 4, 0, 1, 0, 2, 1, 1, 1, 1, 4, 1, 4, 3, 2, 3, 0, 4, 0, 0, 1, 1, 0, 0, 0, 1, 1, 1, 2, 3, 5, 0, 0, 0, 1, 5, 5, 2, 4, 2, 4, 3, 1, 1, 0, 1, 0, 0, 1, 0, 1, 2, 4, 0, 1, 1, 0, 1, 0, 3, 1, 0, 2, 0, 4, 1, 4, 2, 1, 3, 1, 1, 4, 1, 1, 1, 1, 1, 1, 0, 1, 4, 5, 0, 3, 0, 0, 1, 4, 4, 3, 1, 2, 4, 1, 0, 4, 2, 0, 1, 1, 0, 0, 1, 0, 1, 0, 1, 3, 2, 4, 1, 1, 5, 1, 0, 1, 1, 1, 4, 4, 1, 0, 0, 1, 1, 1, 2, 0, 2, 1, 1, 4, 0, 0, 2, 0, 0, 0, 1, 0, 0, 0, 2, 4, 1, 1, 4, 1, 0, 3, 0, 1, 1, 0, 3, 1, 0, 2, 1, 3, 1, 4, 1, 5, 0, 0, 3, 4, 0, 4, 0, 1, 4, 3, 1, 0, 1, 0, 1, 0, 3, 4, 0, 1, 3, 0, 3, 4, 1, 3, 1, 0, 4, 1, 1, 0, 0, 0, 2, 0, 0, 1, 4, 1, 0, 3, 1, 0, 2, 4, 1, 1, 0, 1, 0, 1, 2, 5, 0, 0, 1, 4, 0, 0, 0, 2, 1, 1, 4, 0, 4, 0, 1, 1, 5, 0, 1, 0, 3, 1, 3, 1, 3, 0, 0, 3, 1, 0, 0, 4, 3, 4, 0, 4, 1, 4, 1, 3, 1, 0, 5, 3, 0, 0, 4, 4, 1, 0, 0, 0, 1, 1, 5, 3, 3, 3, 1, 3, 0, 0, 1, 2, 1, 1, 0, 3, 1, 2, 1, 1, 1, 1, 1, 1, 4, 1, 2, 1, 1, 2, 1, 4, 0, 1, 2, 2, 1, 0, 1, 1, 1, 3, 0, 1, 4, 1, 0, 0, 1, 4, 3, 3, 1, 3, 1, 2, 1, 1, 1, 1, 0, 1, 1, 1, 1, 3, 1, 5, 0, 1, 0, 3, 3, 0, 0, 0, 2, 3, 3, 0, 0, 1, 0, 0, 1, 1, 4, 1, 1, 1, 4, 5, 0, 0, 1, 4, 4, 1, 1, 0, 4, 1, 0, 0, 0, 4, 4, 0, 5, 0, 1, 0, 4, 1, 1, 1, 4, 4, 1, 1, 3, 4, 0, 0, 1, 3, 4, 0, 0, 0, 0, 1, 2, 1, 1, 3, 2, 3, 1, 0, 5, 0, 3, 0, 4, 0, 3, 3, 0, 1, 0, 3, 2, 1, 0, 0, 0, 3, 1, 4, 1, 3, 4, 1, 4, 0, 4, 1, 1, 1, 0, 4, 0, 0, 0, 0, 1, 0, 1, 2, 2, 0, 1, 2, 2, 1, 3, 0, 1, 4, 0, 0, 1, 3, 4, 0, 5, 3, 0, 0, 1, 1, 0, 0, 1, 1, 0, 1, 5, 3, 3, 1, 1, 1, 1, 1, 0, 0, 0, 3, 3, 0, 1, 4, 0, 4, 0, 0, 1, 1, 1, 3, 1, 1, 1, 0, 1, 3, 4, 3, 4, 3, 0, 1, 3, 0, 3, 3, 1, 0, 1, 2, 1, 0, 0, 4, 1, 1, 0, 1, 5, 1, 1, 3, 0, 3, 1, 0, 1, 1, 2, 1, 3, 3, 0, 1, 0, 0, 1, 0, 2, 5, 1, 1, 0, 0, 0, 2, 0, 2, 0, 1, 0, 1, 3, 4, 1, 2, 3, 0, 3, 1, 5, 0, 1, 4, 0, 4, 1, 4, 1, 3, 4, 1, 3, 1, 1, 0, 0, 1, 0, 0, 2, 0, 4, 3, 3, 1, 3, 0, 1, 1, 1, 1, 0, 1, 1, 2, 0, 4, 1, 0, 1, 3, 3, 3, 1, 1, 0, 1, 3, 3, 0, 1, 1, 1, 3, 2, 0, 1, 0, 1, 0, 0, 4, 0, 4, 0, 0, 0, 1, 1, 1, 0, 0, 0, 2, 0, 4, 5, 0, 0, 1, 1, 1, 3, 3, 5, 2, 0, 1, 3, 0, 3, 3, 4, 4, 1, 1, 1, 1, 1, 0, 3, 2, 1, 0, 4, 1, 0, 1, 4, 3, 3, 1, 4, 0, 1, 2, 2, 1, 1, 3, 0, 4, 1, 4, 2, 0, 0, 0, 3, 5, 0, 3, 0, 0, 4, 5, 2, 1, 1, 0, 1, 3, 1, 2, 3, 1, 5, 4, 3, 1, 1, 2, 1, 2, 0, 1, 0, 1, 1, 1, 1, 1, 0, 3, 1, 4, 0, 1, 0, 0, 0, 1, 1, 4, 4, 1, 5, 3, 0, 0, 1, 1, 1, 3, 1, 1, 3, 4, 1, 1, 4, 4, 4, 1, 0, 1, 3, 1, 0, 0, 0, 0, 5, 1, 1, 0, 1, 0, 0, 5, 1, 4, 3, 3, 1, 0, 1, 1, 1, 0, 1, 3, 0, 1, 1, 0, 0, 0, 4, 1, 0, 3, 3, 0, 1, 1, 0, 1, 3, 2, 5, 0, 1, 0, 3, 1, 5, 2, 0, 3, 0, 1, 0, 2, 2, 1, 0, 0, 0, 1, 0, 3, 0, 4, 0, 1, 2, 0, 0, 0, 1, 4, 0, 1, 0, 0, 1, 1, 1, 0, 0, 0, 5, 4, 1, 0, 3, 0, 1, 4, 5, 2, 5, 1, 1, 1, 0, 1, 4, 0, 4, 0, 0, 4, 2, 0, 1, 0, 3, 1, 0, 2, 1, 1, 0, 1, 0, 0, 4, 2, 3, 0, 0, 3, 1, 0, 2, 1, 0, 4, 1, 4, 1, 0, 0, 3, 4, 1, 1, 0, 1, 0, 3, 1, 3, 3, 0, 1, 0, 1, 0, 0, 0, 1, 5, 1, 2, 5, 0, 1, 1, 0, 1, 1, 1, 3, 1, 0, 0, 1, 1, 1, 4, 0, 3, 0, 1, 0, 1, 2, 0, 0, 0, 3, 4, 3, 4, 1, 3, 1, 1, 3, 1, 0, 3, 1, 3, 3, 1, 1, 5, 3, 4, 3, 4, 1, 0, 1, 0, 0, 1, 4, 1, 0, 4, 0, 2, 0, 5, 1, 3, 1, 3, 0, 4, 1, 4, 3, 0, 0, 2, 1, 1, 0, 1, 0, 1, 1, 3, 0, 0, 4, 1, 0, 1, 3, 0, 1, 0, 0, 2, 3, 1, 4, 0, 3, 3, 5, 3, 0, 3, 3, 3, 3, 1, 1, 2, 1, 0, 0, 0, 1, 4, 4, 1, 1, 3, 0, 3, 4, 1, 3, 0, 0, 1, 3, 1, 3, 5, 2, 1, 3, 0, 1, 0, 1, 0, 0, 4, 3, 3, 0, 4, 0, 0, 0, 2, 1, 3, 1, 2, 3, 2, 1, 1, 2, 0, 0, 3, 1, 0, 4, 5, 0, 4, 0, 3, 0, 1, 4, 2, 1, 0, 1, 3, 0, 4, 1, 1, 1, 1, 2, 0, 1, 1, 1, 4, 1, 1, 0, 2, 0, 0, 3, 1, 0, 3, 1, 0, 1, 5, 1, 4, 0, 4, 1, 2, 3, 1, 2, 1, 1, 1, 3, 2, 0, 4, 0, 1, 0, 0, 1, 1, 3, 3, 1, 2, 1, 0, 0, 3, 3, 0, 3, 2, 0, 4, 1, 1, 1, 0, 1, 3, 3, 4, 1, 1, 4, 1, 5, 0, 3, 5, 4, 1, 1, 1, 0, 1, 1, 4, 5, 1, 0, 1, 2, 0, 0, 3, 1, 0, 0, 2, 4, 3, 1, 3, 0, 1, 0, 0, 0, 1, 2, 1, 0, 1, 1, 3, 4, 0, 2, 0, 0, 3, 0, 1, 2, 1, 2, 4, 1, 1, 0, 1, 1, 1, 2, 3, 1, 0, 1, 1, 1, 0, 1, 1, 4, 3, 0, 3, 2, 1, 1, 1, 0, 4, 1, 4, 0, 1, 1, 1, 0, 1, 1, 1, 0, 3, 1, 1, 0, 1, 3, 4, 1, 0, 1, 0, 3, 1, 0, 0, 4, 2, 0, 1, 2, 1, 4, 0, 3, 1, 4, 0, 0, 3, 3, 4, 4, 2, 3, 1, 0, 2, 1, 0, 5, 3, 1, 1, 4, 0, 1, 2, 0, 3, 1, 3, 4, 0, 3, 0, 1, 1, 0, 4, 1, 3, 4, 0, 4, 3, 1, 0, 1, 4, 1, 0, 0, 0, 1, 4, 0, 4, 1, 2, 1, 1, 1, 1, 1, 1, 4, 1, 1, 0, 4, 1, 0, 0, 1, 1, 0, 0, 1, 1, 0, 0, 2, 1, 5, 0, 0, 2, 0, 2, 2, 1, 2, 3, 4, 1, 1, 0, 4, 4, 4, 1, 1, 3, 1, 1, 3, 2, 4, 3, 0, 0, 4, 0, 0, 3, 3, 3, 1, 1, 1, 1, 1, 1, 2, 1, 3, 0, 1, 4, 0, 2, 2, 4, 1, 0, 5, 0, 4, 4, 3, 0, 0, 1, 1, 1, 1, 0, 0, 4, 1, 1, 1, 1, 0, 1, 1, 4, 0, 1, 1, 2, 1, 0, 0, 3, 1, 1, 0, 5, 1, 4, 5, 4, 1, 1, 4, 1, 3, 2, 0, 1, 0, 2, 0, 1, 3, 4, 0, 2, 2, 1, 0, 1, 1, 0, 0, 1, 0, 0, 4, 0, 1, 0, 1, 1, 4, 1, 1, 2, 1, 1, 1, 3, 2, 1, 1, 0, 1, 0, 0, 0, 4, 0, 1, 0, 4, 1, 4, 0, 0, 4, 1, 2, 1, 2, 1, 1, 4, 0, 1, 1, 2, 3, 1, 3, 1, 0, 0, 4, 1, 0, 5, 4, 1, 0, 1, 2, 1, 1, 1, 0, 5, 5, 4, 0, 1, 4, 0, 0, 3, 4, 5, 4, 0, 1, 1, 1, 1, 0, 0, 1, 4, 3, 3, 0, 0, 5, 0, 4, 3, 1, 4, 3, 4, 1, 0, 3, 2, 4, 1, 1, 0, 1, 0, 1, 1, 3, 2, 4, 1, 0, 1, 0, 0, 0, 0, 1, 3, 2, 3, 1, 1, 1, 0, 1, 0, 3, 1, 1, 0, 1, 1, 0, 3, 3, 1, 1, 0, 0, 1, 4, 2, 0, 1, 4, 1, 4, 2, 1, 1, 1, 1, 0, 1, 0, 1, 0, 4, 0, 1, 4, 1, 0, 1, 2, 2, 2, 1, 0, 1, 0, 0, 0, 3, 4, 5, 4, 1, 1, 3, 0, 1, 1, 1, 3, 3, 1, 0, 0, 0, 3, 4, 0, 1, 3, 1, 4, 3, 1, 3, 0, 1, 3, 0, 0, 4, 1, 1, 4, 0, 1, 1, 1, 0, 1, 4, 2, 3, 1, 1, 1, 0, 1, 0, 0, 3, 1, 3, 3, 1, 2, 0, 4, 4, 3, 4, 4, 0, 1, 0, 1, 0, 4, 2, 5, 2, 1, 0, 1, 4, 0, 1, 1, 0, 0, 3, 3, 4, 2, 1, 1, 1, 0, 0, 0, 0, 1, 2, 1, 4, 1, 0, 0, 4, 0, 0, 0, 3, 3, 1, 0, 0, 3, 0, 2, 4, 3, 0, 1, 1, 1, 2, 3, 3, 3, 4, 4, 1, 2, 4, 4, 5, 1, 1, 4, 0, 0, 0, 2, 5, 1, 2, 1, 1, 2, 1, 2, 5, 0, 1, 1, 1, 1, 3, 0, 1, 3, 2, 1, 4, 4, 0, 2, 0, 0, 0, 1, 0, 0, 2, 1, 0, 0, 1, 5, 3, 0, 0, 0, 1, 2, 4, 0, 0, 0, 1, 0, 0, 1, 0, 5, 2, 5, 0, 0, 2, 3, 0, 1, 3, 0, 1, 1, 1, 0, 3, 5, 1, 0, 4, 0, 1, 1, 0, 1, 0, 1, 0, 4, 5, 1, 5, 2, 1, 2, 1, 0, 4, 3, 1, 4, 0, 2, 0, 0, 0, 0, 1, 1, 0, 4, 3, 1, 0, 0, 5, 0, 5, 0, 4, 2, 2, 0, 4, 0, 0, 0, 1, 0, 1, 1, 0, 2, 1, 1, 3, 0, 1, 1, 0, 0, 1, 0, 0, 0, 0, 0, 3, 3, 3, 0, 2, 2, 0, 3, 0, 2, 0, 0, 1, 4, 2, 1, 4, 0, 1, 1, 0, 0, 3, 2, 1, 2, 1, 2, 1, 2, 1, 1, 0, 4, 5, 0, 1, 4, 0, 1, 4, 0, 0, 0, 3, 0, 1, 1, 2, 4, 2, 5, 0, 0, 1, 5, 3, 4, 1, 1, 0, 1, 0, 5, 4, 3, 1, 1, 4, 1, 0, 0, 1, 3, 0, 4, 4, 3, 3, 0, 3, 0, 0, 0, 1, 4, 2, 0, 0, 0, 4, 4, 0, 1, 1, 3, 0, 2, 1, 4, 0, 4, 2, 0, 0, 1, 0, 1, 1, 2, 1, 0, 1, 0, 4, 0, 1, 1, 3, 3, 3, 4, 3, 1, 5, 0, 0, 3, 1, 4, 3, 0, 1, 3, 0, 1, 4, 3, 4, 3, 1, 4, 3, 1, 3, 3, 3, 3, 4, 1, 1, 5, 0, 4, 1, 0, 0, 0, 1, 0, 0, 1, 3, 3, 1, 4, 2, 0, 1, 1, 3, 0, 1, 4, 4, 1, 0, 0, 3, 1, 2, 3, 0, 5, 1, 1, 0, 0, 0, 3, 0, 1, 0, 1, 3, 1, 1, 3, 1, 1, 0, 0, 1, 3, 1, 2, 4, 5, 0, 2, 5, 0, 3, 4, 4, 3, 3, 1, 3, 3, 2, 4, 2, 1, 3, 1, 3, 1, 0, 5, 4, 1, 1, 0, 0, 3, 1, 2, 0, 0, 0, 1, 4, 1, 4, 3, 2, 4, 3, 1, 0, 1, 2, 1, 4, 0, 1, 0, 1, 1, 1, 1, 1, 1, 1, 2, 0, 3, 1, 0, 1, 2, 0, 1, 0, 1, 0, 3, 4, 5, 0, 0, 0, 0, 1, 4, 0, 2, 1, 0, 0, 1, 3, 5, 3, 0, 2, 2, 2, 2, 4, 2, 1, 0, 5, 0, 0, 1, 0, 4, 1, 1, 0, 0, 1, 3, 0, 1, 1, 1, 4, 4, 4, 1, 1, 1, 4, 0, 0, 0, 1, 3, 2, 1, 3, 1, 0, 2, 1, 0, 2, 0, 2, 4, 3, 0, 0, 0, 0, 0, 0, 0, 3, 0, 1, 1, 0, 0, 4, 4, 1, 1, 3, 1, 2, 1, 1, 0, 0, 1, 1, 3, 0, 0, 0, 0, 0, 4, 0, 1, 0, 0, 4, 0, 4, 0, 1, 0, 0, 0, 4, 4, 3, 4, 4, 1, 3, 0, 3, 1, 3, 0, 1, 2, 1, 1, 0, 0, 1, 0, 0, 3, 0, 0, 3, 3, 1, 3, 0, 4, 3, 4, 0, 3, 1, 0, 4, 0, 0, 1, 5, 0, 4, 4, 5, 0, 1, 0, 0, 1, 1, 0, 4, 4, 4, 4, 2, 1, 5, 0, 1, 3, 0, 0, 0, 3, 0, 3, 0, 1, 1, 0, 1, 0, 0, 1, 1, 0, 1, 1, 1, 4, 0, 1, 1, 2, 1, 3, 1, 1, 3, 0, 1, 1, 3, 0, 3, 3, 5, 0, 0, 0, 0, 3, 1, 4, 0, 3, 3, 0, 0, 1, 0, 1, 1, 4, 1, 2, 0, 0, 3, 4, 3, 0, 1, 2, 3, 1, 0, 0, 1, 5, 4, 1, 1, 0, 4, 0, 1, 1, 2, 1, 0, 0, 5, 3, 0, 3, 0, 0, 0, 3, 0, 0, 1, 5, 0, 3, 5, 1, 1, 1, 2, 0, 0, 0, 0, 1, 0, 0, 0, 4, 0, 3, 0, 4, 2, 3, 1, 2, 0, 0, 4, 0, 0, 3, 0, 1, 4, 3, 3, 1, 1, 1, 1, 4, 0, 1, 5, 3, 1, 0, 0, 0, 2, 0, 1, 1, 1, 1, 1, 5, 1, 4, 4, 5, 1, 1, 3, 0, 1, 0, 3, 1, 3, 1, 3, 2, 3, 3, 0, 1, 4, 1, 1, 0, 2, 0, 0, 1, 1, 1, 1, 1, 1, 4, 3, 0, 1, 0, 1, 1, 0, 0, 1, 0, 1, 1, 3, 1, 0, 1, 1, 1, 3, 1, 1, 0, 4, 0, 1, 0, 3, 4, 0, 0, 0, 0, 2, 0, 1, 3, 0, 3, 0, 2, 0, 4, 4, 5, 1, 0, 4, 0, 2, 1, 0, 1, 3, 5, 0, 1, 1, 3, 2, 4, 1, 3, 0, 0, 2, 3, 0, 0, 1, 0, 1, 1, 0, 0, 3, 1, 1, 3, 0, 1, 1, 4, 0, 1, 0, 0, 0, 0, 1, 4, 0, 2, 2, 0, 4, 4, 1, 0, 1, 3, 0, 0, 0, 0, 4, 0, 0, 1, 0, 1, 1, 0, 2, 1, 0, 3, 3, 1, 1, 1, 5, 3, 4, 0, 0, 1, 0, 4, 0, 1, 4, 0, 3, 1, 1, 3, 1, 3, 3, 4, 1, 5, 4, 3, 3, 1, 1, 0, 0, 0, 1, 3, 5, 0, 3, 0, 1, 3, 1, 4, 1, 4, 1, 0, 0, 1, 1, 0, 1, 0, 0, 1, 0, 1, 0, 0, 3, 1, 3, 0, 1, 1, 4, 3, 3, 2, 1, 0, 1, 1, 3, 0, 3, 0, 0, 3, 3, 2, 4, 4, 1, 2, 0, 1, 1, 0, 1, 0, 0, 0, 0, 4, 0, 1, 3, 3, 4, 1, 2, 1, 1, 1, 1, 1, 0, 4, 1, 1, 2, 3, 1, 1, 0, 1, 0, 0, 4, 1, 1, 5, 1, 0, 1, 0, 1, 1, 0, 0, 1, 0, 3, 0, 0, 1, 1, 3, 1, 1, 1, 4, 4, 0, 0, 3, 0, 0, 3, 1, 4, 1, 3, 0, 2, 2, 0, 0, 0, 2, 1, 0, 1, 0, 3, 3, 1, 3, 1, 2, 1, 1, 2, 3, 4, 1, 3, 2, 2, 4, 1, 3, 1, 0, 2, 4, 1, 1, 0, 4, 1, 4, 1, 0, 2, 4, 1, 0, 0, 0, 0, 1, 1, 2, 0, 1, 4, 1, 1, 1, 1, 2, 0, 0, 3, 0, 3, 0, 1, 0, 0, 3, 1, 1, 1, 4, 1, 3, 1, 2, 4, 2, 4, 3, 1, 0, 0, 1, 2, 1, 2, 4, 2, 0, 4, 1, 3, 4, 4, 2, 0, 1, 4, 0, 1, 1, 0, 0, 3, 1, 0, 4, 0, 0, 4, 4, 0, 1, 1, 1, 0, 1, 3, 3, 1, 4, 1, 1, 1, 1, 2, 1, 1, 4, 3, 1, 1, 0, 0, 0, 1, 0, 3, 0, 1, 5, 2, 4, 5, 4, 3, 2, 1, 2, 3, 3, 0, 2, 0, 3, 0, 0, 0, 1, 0, 0, 1, 0, 1, 4, 0, 0, 3, 0, 4, 1, 0, 0, 0, 1, 1, 0, 3, 1, 1, 2, 3, 0, 3, 0, 1, 0, 4, 1, 1, 4, 3, 4, 0, 0, 2, 1, 4, 3, 0, 1, 0, 2, 2, 4, 3, 0, 1, 3, 2, 0, 3, 1, 5, 0, 1, 0, 0, 0, 1, 5, 3, 4, 3, 0, 0, 4, 0, 5, 1, 2, 0, 0, 0, 4, 2, 5, 1, 1, 0, 0, 0, 0, 1, 0, 4, 0, 3, 2, 1, 3, 0, 2, 1, 0, 4, 1, 1, 2, 0, 1, 4, 3, 0, 0, 1, 0, 0, 1, 2, 0, 3, 1, 3, 1, 0, 4, 3, 0, 4, 1, 1, 1, 1, 0, 1, 2, 3, 2, 0, 1, 4, 0, 1, 4, 0, 2, 0, 5, 5, 3, 4, 1, 1, 1, 0, 0, 1, 5, 1, 1, 1, 0, 1, 3, 4, 1, 0, 1, 0, 3, 0, 2, 2, 4, 4, 5, 0, 0, 1, 3, 3, 0, 4, 1, 0, 1, 3, 1, 5, 1, 5, 0, 1, 1, 0, 0, 1, 1, 0, 0, 1, 4, 0, 2, 3, 3, 0, 2, 2, 0, 5, 4, 0, 4, 1, 1, 3, 0, 4, 0, 1, 3, 1, 4, 3, 1, 4, 0, 2, 1, 1, 2, 1, 0, 1, 1, 3, 0, 1, 2, 1, 0, 1, 4, 4, 5, 3, 5, 4, 0, 0, 2, 0, 3, 3, 1, 3, 1, 2, 1, 1, 3, 1, 0, 0, 1, 1, 1, 3, 0, 0, 4, 0, 2, 0, 4, 1, 0, 1, 2, 1, 0, 0, 4, 4, 5, 3, 0, 4, 0, 4, 1, 3, 1, 1, 1, 4, 3, 1, 0, 1, 1, 2, 4, 0, 4, 0, 0, 1, 1, 1, 4, 0, 0, 0, 4, 3, 1, 0, 0, 5, 1, 2, 5, 1, 0, 1, 0, 3, 2, 1, 3, 3, 4, 1, 3, 0, 1, 1, 1, 1, 0, 0, 1, 1, 0, 1, 4, 4, 3, 3, 5, 0, 1, 1, 1, 1, 1, 0, 3, 1, 0, 1, 1, 1, 0, 1, 4, 0, 2, 2, 0, 0, 3, 1, 0, 1, 1, 1, 1, 4, 2, 0, 1, 0, 0, 4, 4, 0, 2, 3, 0, 0, 1, 0, 3, 0, 0, 0, 1, 5, 4, 0, 4, 1, 4, 3, 0, 2, 3, 4, 3, 0, 0, 1, 0, 1, 0, 1, 1, 3, 1, 0, 4, 4, 0, 1, 0, 0, 0, 2, 2, 1, 2, 0, 1, 1, 0, 4, 0, 4, 1, 0, 4, 0, 1, 0, 0, 4, 3, 4, 4, 1, 1, 1, 0, 1, 1, 0, 1, 1, 3, 2, 4, 4, 1, 1, 0, 0, 1, 1, 1, 4, 1, 1, 1, 1, 2, 1, 3, 0, 2, 1, 3, 0, 4, 0, 1, 4, 0, 3, 3, 3, 3, 2, 4, 0, 4, 0, 1, 1, 1, 1, 1, 3, 1, 0, 0, 1, 1, 4, 0, 4, 0, 1, 3, 0, 1, 3, 4, 2, 2, 1, 1, 3, 4, 3, 1, 1, 1, 0, 5, 0, 2, 1, 4, 1, 0, 0, 2, 3, 1, 2, 3, 1, 1, 0, 1, 0, 0, 3, 4, 4, 1, 0, 4, 0, 2, 1, 4, 2, 1, 3, 3, 3, 5, 1, 1, 1, 3, 1, 3, 0, 1, 1, 1, 3, 3, 1, 1, 4, 0, 2, 1, 4, 1, 0, 0, 0, 1, 5, 3, 1, 3, 1, 1, 3, 4, 1, 4, 2, 1, 5, 2, 4, 1, 1, 3, 4, 1, 0, 1, 0, 1, 0, 2, 4, 0, 0, 0, 1, 2, 0, 1, 1, 0, 4, 3, 0, 0, 0, 0, 1, 0, 1, 0, 3, 3, 1, 1, 4, 4, 3, 4, 1, 0, 0, 1, 5, 0, 2, 2, 2, 3, 1, 3, 4, 4, 0, 3, 0, 0, 1, 1, 0, 1, 4, 1, 3, 0, 4, 4, 3, 1, 2, 3, 2, 3, 1, 3, 1, 3, 0, 0, 4, 0, 0, 0, 1, 1, 2, 4, 0, 0, 0, 0, 0, 0, 1, 4, 1, 0, 4, 1, 1, 1, 0, 1, 1, 1, 1, 0, 0, 2, 0, 0, 0, 1, 0, 4, 5, 4, 4, 1, 1, 3, 1, 3, 1, 3, 0, 3, 1, 1, 3, 2, 1, 0, 3, 4, 2, 3, 1, 0, 3, 0, 0, 5, 2, 0, 1, 5, 4, 0, 3, 4, 4, 1, 1, 3, 4, 1, 1, 1, 1, 0, 5, 1, 0, 3, 1, 2, 0, 0, 1, 3, 0]\n"
          ]
        }
      ]
    },
    {
      "cell_type": "markdown",
      "metadata": {
        "id": "c-v0Mnh8xIhP"
      },
      "source": [
        "## Task 7: Creating the Model\n",
        "\n",
        "1. Creating the model\n",
        "2. Compiling the model"
      ]
    },
    {
      "cell_type": "code",
      "metadata": {
        "id": "OpewXxPQ5eji"
      },
      "source": [
        "model = tf.keras.models.Sequential([\n",
        "    tf.keras.layers.Embedding(10000, 16 , input_length= maxlen),\n",
        "    tf.keras.layers.Bidirectional(tf.keras.layers.LSTM(20, return_sequences = True)),\n",
        "    tf.keras.layers.Bidirectional(tf.keras.layers.LSTM(20)),\n",
        "    tf.keras.layers.Dense(6, activation='softmax')\n",
        "])\n",
        "\n",
        "model.compile(\n",
        "    loss = 'sparse_categorical_crossentropy',\n",
        "    optimizer = 'adam',\n",
        "    metrics =['accuracy']\n",
        ")"
      ],
      "execution_count": 80,
      "outputs": []
    },
    {
      "cell_type": "code",
      "source": [
        "model.summary()"
      ],
      "metadata": {
        "colab": {
          "base_uri": "https://localhost:8080/"
        },
        "id": "MnmpvF7tW5b8",
        "outputId": "6d85d4d2-5edf-47bc-9b22-e668cf61f3e6"
      },
      "execution_count": 82,
      "outputs": [
        {
          "output_type": "stream",
          "name": "stdout",
          "text": [
            "Model: \"sequential_1\"\n",
            "_________________________________________________________________\n",
            " Layer (type)                Output Shape              Param #   \n",
            "=================================================================\n",
            " embedding_5 (Embedding)     (None, 50, 16)            160000    \n",
            "                                                                 \n",
            " bidirectional_2 (Bidirecti  (None, 50, 40)            5920      \n",
            " onal)                                                           \n",
            "                                                                 \n",
            " bidirectional_3 (Bidirecti  (None, 40)                9760      \n",
            " onal)                                                           \n",
            "                                                                 \n",
            " dense_1 (Dense)             (None, 6)                 246       \n",
            "                                                                 \n",
            "=================================================================\n",
            "Total params: 175926 (687.21 KB)\n",
            "Trainable params: 175926 (687.21 KB)\n",
            "Non-trainable params: 0 (0.00 Byte)\n",
            "_________________________________________________________________\n"
          ]
        }
      ]
    },
    {
      "cell_type": "markdown",
      "metadata": {
        "id": "1HST_CHjxIhR"
      },
      "source": [
        "## Task 8: Training the Model\n",
        "\n",
        "1. Preparing a validation set\n",
        "2. Training the model"
      ]
    },
    {
      "cell_type": "code",
      "metadata": {
        "id": "Ff7F3hCK5ejm",
        "colab": {
          "base_uri": "https://localhost:8080/"
        },
        "outputId": "c2077953-8367-4848-c5e5-0e7df01ac74b"
      },
      "source": [
        "val_tweets, val_labels = get_tweet(val)\n",
        "val_seq = get_sequence(tokenizer, val_tweets)\n",
        "val_tweets[0], val_labels[0]"
      ],
      "execution_count": 87,
      "outputs": [
        {
          "output_type": "execute_result",
          "data": {
            "text/plain": [
              "('im feeling quite sad and sorry for myself but ill snap out of it soon', 0)"
            ]
          },
          "metadata": {},
          "execution_count": 87
        }
      ]
    },
    {
      "cell_type": "code",
      "source": [
        "val_labels"
      ],
      "metadata": {
        "id": "m3ORJtKYYzxR"
      },
      "execution_count": null,
      "outputs": []
    },
    {
      "cell_type": "code",
      "metadata": {
        "id": "hlMKaZ3H5ejr",
        "colab": {
          "base_uri": "https://localhost:8080/"
        },
        "outputId": "dbd90de4-f285-4642-b1a9-10969f2b8048"
      },
      "source": [
        "val_seq"
      ],
      "execution_count": 86,
      "outputs": [
        {
          "output_type": "execute_result",
          "data": {
            "text/plain": [
              "array([[ 17,   8, 157, ...,   0,   0,   0],\n",
              "       [  2,   3,  14, ...,   0,   0,   0],\n",
              "       [  2,   3,  14, ...,   0,   0,   0],\n",
              "       ...,\n",
              "       [  2,   3,  79, ...,   0,   0,   0],\n",
              "       [  2, 395,   3, ...,   0,   0,   0],\n",
              "       [  2,   3,  14, ...,   0,   0,   0]], dtype=int32)"
            ]
          },
          "metadata": {},
          "execution_count": 86
        }
      ]
    },
    {
      "cell_type": "code",
      "metadata": {
        "id": "bzBqnWQ-5ejw",
        "colab": {
          "base_uri": "https://localhost:8080/"
        },
        "outputId": "aadee65a-bdba-4be9-c8fe-f74a96117d17"
      },
      "source": [
        "h = model.fit(\n",
        "    padded_train_sequence, np.array(train_labels),\n",
        "    validation_data = (val_seq, np.array(val_labels)),\n",
        "    epochs = 20,\n",
        "    callbacks =[\n",
        "        tf.keras.callbacks.EarlyStopping(monitor = 'val_accuracy', patience=2)\n",
        "    ]\n",
        ")"
      ],
      "execution_count": 93,
      "outputs": [
        {
          "output_type": "stream",
          "name": "stdout",
          "text": [
            "Epoch 1/20\n",
            "500/500 [==============================] - 31s 44ms/step - loss: 1.3966 - accuracy: 0.4499 - val_loss: 1.0068 - val_accuracy: 0.6485\n",
            "Epoch 2/20\n",
            "500/500 [==============================] - 9s 19ms/step - loss: 0.7653 - accuracy: 0.7281 - val_loss: 0.6650 - val_accuracy: 0.7745\n",
            "Epoch 3/20\n",
            "500/500 [==============================] - 8s 15ms/step - loss: 0.5707 - accuracy: 0.8050 - val_loss: 0.5386 - val_accuracy: 0.8190\n",
            "Epoch 4/20\n",
            "500/500 [==============================] - 8s 16ms/step - loss: 0.4664 - accuracy: 0.8431 - val_loss: 0.4632 - val_accuracy: 0.8430\n",
            "Epoch 5/20\n",
            "500/500 [==============================] - 8s 16ms/step - loss: 0.3824 - accuracy: 0.8716 - val_loss: 0.4983 - val_accuracy: 0.8345\n",
            "Epoch 6/20\n",
            "500/500 [==============================] - 8s 17ms/step - loss: 0.3499 - accuracy: 0.8783 - val_loss: 0.4222 - val_accuracy: 0.8555\n",
            "Epoch 7/20\n",
            "500/500 [==============================] - 8s 15ms/step - loss: 0.3172 - accuracy: 0.8879 - val_loss: 0.4031 - val_accuracy: 0.8565\n",
            "Epoch 8/20\n",
            "500/500 [==============================] - 9s 17ms/step - loss: 0.3007 - accuracy: 0.8901 - val_loss: 0.3857 - val_accuracy: 0.8545\n",
            "Epoch 9/20\n",
            "500/500 [==============================] - 8s 16ms/step - loss: 0.2855 - accuracy: 0.8972 - val_loss: 0.3791 - val_accuracy: 0.8570\n",
            "Epoch 10/20\n",
            "500/500 [==============================] - 7s 14ms/step - loss: 0.2742 - accuracy: 0.8983 - val_loss: 0.3999 - val_accuracy: 0.8600\n",
            "Epoch 11/20\n",
            "500/500 [==============================] - 8s 16ms/step - loss: 0.2582 - accuracy: 0.9065 - val_loss: 0.3517 - val_accuracy: 0.8710\n",
            "Epoch 12/20\n",
            "500/500 [==============================] - 7s 14ms/step - loss: 0.2513 - accuracy: 0.9053 - val_loss: 0.3813 - val_accuracy: 0.8685\n",
            "Epoch 13/20\n",
            "500/500 [==============================] - 8s 17ms/step - loss: 0.2481 - accuracy: 0.9080 - val_loss: 0.3736 - val_accuracy: 0.8645\n"
          ]
        }
      ]
    },
    {
      "cell_type": "markdown",
      "metadata": {
        "id": "EdsJyMTLxIhX"
      },
      "source": [
        "## Task 9: Evaluating the Model\n",
        "\n",
        "1. Visualizing training history\n",
        "2. Prepraring a test set\n",
        "3. A look at individual predictions on the test set\n",
        "4. A look at all predictions on the test set"
      ]
    },
    {
      "cell_type": "code",
      "metadata": {
        "id": "ENCfvXeLxIhX",
        "colab": {
          "base_uri": "https://localhost:8080/",
          "height": 481
        },
        "outputId": "9523b73f-8622-4d45-a60b-46ea3f3b98ce"
      },
      "source": [
        "show_history(h)"
      ],
      "execution_count": 94,
      "outputs": [
        {
          "output_type": "display_data",
          "data": {
            "text/plain": [
              "<Figure size 1600x600 with 2 Axes>"
            ],
            "image/png": "[encoded data removed]"
          },
          "metadata": {}
        }
      ]
    },
    {
      "cell_type": "code",
      "metadata": {
        "id": "kWuzoz8uxIha"
      },
      "source": [
        "test_tweets , test_labels = get_tweet(test)\n",
        "test_seq = get_sequence(tokenizer, test_tweets)\n",
        "test_labels = np.array(test_labels)"
      ],
      "execution_count": 95,
      "outputs": []
    },
    {
      "cell_type": "code",
      "metadata": {
        "id": "7vRVJ_2SxIhc",
        "colab": {
          "base_uri": "https://localhost:8080/"
        },
        "outputId": "f8337488-d099-4bf8-e3ab-cb9dad72b30d"
      },
      "source": [
        "_  = model.evaluate(test_seq, test_labels)"
      ],
      "execution_count": 96,
      "outputs": [
        {
          "output_type": "stream",
          "name": "stdout",
          "text": [
            "63/63 [==============================] - 1s 14ms/step - loss: 0.4030 - accuracy: 0.8545\n"
          ]
        }
      ]
    },
    {
      "cell_type": "code",
      "metadata": {
        "id": "rh638vHG5ej6",
        "colab": {
          "base_uri": "https://localhost:8080/"
        },
        "outputId": "3272b4bf-b467-47e4-f1a0-0e8ae8d67686"
      },
      "source": [
        "i = random.randint(0, len(test_labels)-1)\n",
        "print('Sentence: ', test_tweets[i])\n",
        "print('Emotion: ', label_dict[test_labels[i]])\n",
        "\n",
        "p = model.predict(np.expand_dims(test_seq[i], axis =0))[0]\n",
        "print(label_dict[np.argmax(p)])"
      ],
      "execution_count": 138,
      "outputs": [
        {
          "output_type": "stream",
          "name": "stdout",
          "text": [
            "Sentence:  i told him that i was willing to do whatever it took for me to not have to feel this horrible every day\n",
            "Emotion:  sadness\n",
            "1/1 [==============================] - 0s 21ms/step\n",
            "sadness\n"
          ]
        }
      ]
    },
    {
      "cell_type": "code",
      "metadata": {
        "id": "hHl5SVCFxIhh",
        "colab": {
          "base_uri": "https://localhost:8080/"
        },
        "outputId": "9e1d3f65-70c0-40ec-cf36-66ce609fcafb"
      },
      "source": [
        "preds = model.predict(test_seq)"
      ],
      "execution_count": 130,
      "outputs": [
        {
          "output_type": "stream",
          "name": "stdout",
          "text": [
            "63/63 [==============================] - 0s 6ms/step\n"
          ]
        }
      ]
    },
    {
      "cell_type": "code",
      "source": [
        "preds_res = [np.argmax(i) for i in preds]"
      ],
      "metadata": {
        "id": "gjioqpn1cTRO"
      },
      "execution_count": 136,
      "outputs": []
    },
    {
      "cell_type": "code",
      "metadata": {
        "id": "NC8YQ0OexIhj",
        "colab": {
          "base_uri": "https://localhost:8080/",
          "height": 661
        },
        "outputId": "688f4584-3978-40b7-a29c-24b27bfab10c"
      },
      "source": [
        "show_confusion_matrix(test_labels, preds_res, list(label_dict.values()))"
      ],
      "execution_count": 137,
      "outputs": [
        {
          "output_type": "display_data",
          "data": {
            "text/plain": [
              "<Figure size 800x800 with 2 Axes>"
            ],
            "image/png": "[encoded data removed]"
          },
          "metadata": {}
        }
      ]
    }
  ]
}